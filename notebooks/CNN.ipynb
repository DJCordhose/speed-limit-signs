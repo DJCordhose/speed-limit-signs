{
 "cells": [
  {
   "cell_type": "code",
   "execution_count": 1,
   "metadata": {
    "collapsed": true
   },
   "outputs": [],
   "source": [
    "import warnings\n",
    "warnings.filterwarnings('ignore')"
   ]
  },
  {
   "cell_type": "code",
   "execution_count": 2,
   "metadata": {},
   "outputs": [
    {
     "name": "stdout",
     "output_type": "stream",
     "text": [
      "Populating the interactive namespace from numpy and matplotlib\n"
     ]
    }
   ],
   "source": [
    "%matplotlib inline\n",
    "%pylab inline"
   ]
  },
  {
   "cell_type": "code",
   "execution_count": 3,
   "metadata": {},
   "outputs": [],
   "source": [
    "import matplotlib.pylab as plt\n",
    "# https://docs.scipy.org/doc/numpy/reference/routines.math.html\n",
    "import numpy as np"
   ]
  },
  {
   "cell_type": "code",
   "execution_count": 4,
   "metadata": {
    "collapsed": true
   },
   "outputs": [],
   "source": [
    "from distutils.version import StrictVersion"
   ]
  },
  {
   "cell_type": "code",
   "execution_count": 5,
   "metadata": {},
   "outputs": [
    {
     "data": {
      "text/plain": [
       "'0.18.1'"
      ]
     },
     "execution_count": 5,
     "metadata": {},
     "output_type": "execute_result"
    }
   ],
   "source": [
    "import sklearn\n",
    "\n",
    "assert StrictVersion(sklearn.__version__ ) >= StrictVersion('0.18.1')\n",
    "\n",
    "sklearn.__version__"
   ]
  },
  {
   "cell_type": "code",
   "execution_count": 6,
   "metadata": {},
   "outputs": [
    {
     "data": {
      "text/plain": [
       "'1.1.0'"
      ]
     },
     "execution_count": 6,
     "metadata": {},
     "output_type": "execute_result"
    }
   ],
   "source": [
    "import tensorflow as tf\n",
    "tf.logging.set_verbosity(tf.logging.ERROR)\n",
    "\n",
    "assert StrictVersion(tf.__version__) >= StrictVersion('1.1.0')\n",
    "\n",
    "tf.__version__"
   ]
  },
  {
   "cell_type": "code",
   "execution_count": 7,
   "metadata": {},
   "outputs": [
    {
     "name": "stderr",
     "output_type": "stream",
     "text": [
      "Using TensorFlow backend.\n"
     ]
    },
    {
     "data": {
      "text/plain": [
       "'2.0.4'"
      ]
     },
     "execution_count": 7,
     "metadata": {},
     "output_type": "execute_result"
    }
   ],
   "source": [
    "import keras\n",
    "\n",
    "assert StrictVersion(keras.__version__) >= StrictVersion('2.0.0')\n",
    "\n",
    "keras.__version__"
   ]
  },
  {
   "cell_type": "code",
   "execution_count": 23,
   "metadata": {},
   "outputs": [
    {
     "name": "stdout",
     "output_type": "stream",
     "text": [
      "  % Total    % Received % Xferd  Average Speed   Time    Time     Time  Current\n",
      "                                 Dload  Upload   Total   Spent    Left  Speed\n",
      "100 1810k  100 1810k    0     0  3251k      0 --:--:-- --:--:-- --:--:-- 3255k\n"
     ]
    }
   ],
   "source": [
    "!curl -O https://raw.githubusercontent.com/DJCordhose/speed-limit-signs/master/data/speed-limit-signs.zip\n",
    "    "
   ]
  },
  {
   "cell_type": "code",
   "execution_count": 24,
   "metadata": {
    "collapsed": true
   },
   "outputs": [],
   "source": [
    "# https://docs.python.org/3/library/zipfile.html\n",
    "from zipfile import ZipFile\n",
    "zip = ZipFile(r'speed-limit-signs.zip')\n",
    "zip.extractall('.')"
   ]
  },
  {
   "cell_type": "code",
   "execution_count": 25,
   "metadata": {},
   "outputs": [
    {
     "name": "stdout",
     "output_type": "stream",
     "text": [
      "total 28\r\n",
      "drwxr-xr-x 2 nbuser nbuser 4096 Jul  3 14:15 0\r\n",
      "drwxr-xr-x 2 nbuser nbuser 4096 Jul  3 14:15 1\r\n",
      "drwxr-xr-x 2 nbuser nbuser 4096 Jul  3 14:15 2\r\n",
      "drwxr-xr-x 2 nbuser nbuser 4096 Jul  3 14:15 3\r\n",
      "drwxr-xr-x 2 nbuser nbuser 4096 Jul  3 14:15 4\r\n",
      "drwxr-xr-x 2 nbuser nbuser 4096 Jul  3 14:15 5\r\n",
      "-rw-r--r-- 1 nbuser nbuser  380 Jul  3 14:33 README.md\r\n"
     ]
    }
   ],
   "source": [
    "!ls -l speed-limit-signs"
   ]
  },
  {
   "cell_type": "code",
   "execution_count": 26,
   "metadata": {},
   "outputs": [
    {
     "name": "stdout",
     "output_type": "stream",
     "text": [
      "Data extracted from http://benchmark.ini.rub.de/?section=gtsdb&subsection=dataset\r\n",
      "\r\n",
      "From http://benchmark.ini.rub.de/Dataset_GTSDB/FullIJCNN2013.zip just the samples for the speed limit signs \r\n",
      "\r\n",
      "## Format\r\n",
      "\r\n",
      "https://en.wikipedia.org/wiki/Netpbm_format\r\n",
      "\r\n",
      "Can be previewed on a Mac and be processed by http://scikit-image.org/\r\n",
      "\r\n",
      "## Labels\r\n",
      "- 0: 30\r\n",
      "- 1: 50\r\n",
      "- 2: 70\r\n",
      "- 3: 80\r\n",
      "- 4: 100\r\n",
      "- 5: 120"
     ]
    }
   ],
   "source": [
    "!cat speed-limit-signs/README.md"
   ]
  },
  {
   "cell_type": "code",
   "execution_count": 27,
   "metadata": {},
   "outputs": [
    {
     "name": "stdout",
     "output_type": "stream",
     "text": [
      "00000.ppm  00012.ppm  00024.ppm  00036.ppm  00048.ppm  00060.ppm  00072.ppm\r\n",
      "00001.ppm  00013.ppm  00025.ppm  00037.ppm  00049.ppm  00061.ppm  00073.ppm\r\n",
      "00002.ppm  00014.ppm  00026.ppm  00038.ppm  00050.ppm  00062.ppm  00074.ppm\r\n",
      "00003.ppm  00015.ppm  00027.ppm  00039.ppm  00051.ppm  00063.ppm  00075.ppm\r\n",
      "00004.ppm  00016.ppm  00028.ppm  00040.ppm  00052.ppm  00064.ppm  00076.ppm\r\n",
      "00005.ppm  00017.ppm  00029.ppm  00041.ppm  00053.ppm  00065.ppm  00077.ppm\r\n",
      "00006.ppm  00018.ppm  00030.ppm  00042.ppm  00054.ppm  00066.ppm  00078.ppm\r\n",
      "00007.ppm  00019.ppm  00031.ppm  00043.ppm  00055.ppm  00067.ppm\r\n",
      "00008.ppm  00020.ppm  00032.ppm  00044.ppm  00056.ppm  00068.ppm\r\n",
      "00009.ppm  00021.ppm  00033.ppm  00045.ppm  00057.ppm  00069.ppm\r\n",
      "00010.ppm  00022.ppm  00034.ppm  00046.ppm  00058.ppm  00070.ppm\r\n",
      "00011.ppm  00023.ppm  00035.ppm  00047.ppm  00059.ppm  00071.ppm\r\n"
     ]
    }
   ],
   "source": [
    "!ls speed-limit-signs/0"
   ]
  },
  {
   "cell_type": "code",
   "execution_count": 28,
   "metadata": {},
   "outputs": [],
   "source": [
    "import os\n",
    "import skimage.data\n",
    "\n",
    "def load_data(data_dir):\n",
    "    \"\"\"Loads a data set and returns two lists:\n",
    "    \n",
    "    images: a list of Numpy arrays, each representing an image.\n",
    "    labels: a list of numbers that represent the images labels.\n",
    "    \"\"\"\n",
    "    # Get all subdirectories of data_dir. Each represents a label.\n",
    "    directories = [d for d in os.listdir(data_dir) \n",
    "                   if os.path.isdir(os.path.join(data_dir, d))]\n",
    "    # Loop through the label directories and collect the data in\n",
    "    # two lists, labels and images.\n",
    "    labels = []\n",
    "    images = []\n",
    "    for d in directories:\n",
    "        label_dir = os.path.join(data_dir, d)\n",
    "        file_names = [os.path.join(label_dir, f) \n",
    "                      for f in os.listdir(label_dir) if f.endswith(\".ppm\")]\n",
    "        # For each label, load it's images and add them to the images list.\n",
    "        # And add the label number (i.e. directory name) to the labels list.\n",
    "        for f in file_names:\n",
    "            images.append(skimage.data.imread(f))\n",
    "            labels.append(int(d))\n",
    "    return images, labels"
   ]
  },
  {
   "cell_type": "code",
   "execution_count": 29,
   "metadata": {
    "collapsed": true
   },
   "outputs": [],
   "source": [
    "# Load datasets.\n",
    "ROOT_PATH = \"./\"\n",
    "data_dir = os.path.join(ROOT_PATH, \"speed-limit-signs\")\n",
    "\n",
    "images, labels = load_data(data_dir)"
   ]
  },
  {
   "cell_type": "code",
   "execution_count": 30,
   "metadata": {
    "collapsed": true
   },
   "outputs": [],
   "source": [
    "import matplotlib\n",
    "import matplotlib.pyplot as plt\n",
    "\n",
    "def display_images_and_labels(images, labels):\n",
    "    \"\"\"Display the first image of each label.\"\"\"\n",
    "    unique_labels = set(labels)\n",
    "    plt.figure(figsize=(15, 15))\n",
    "    i = 1\n",
    "    for label in unique_labels:\n",
    "        # Pick the first image for each label.\n",
    "        image = images[labels.index(label)]\n",
    "        plt.subplot(8, 8, i)  # A grid of 8 rows x 8 columns\n",
    "        plt.axis('off')\n",
    "        plt.title(\"Label {0} ({1})\".format(label, labels.count(label)))\n",
    "        i += 1\n",
    "        _ = plt.imshow(image)\n",
    "    plt.show()"
   ]
  },
  {
   "cell_type": "code",
   "execution_count": 31,
   "metadata": {},
   "outputs": [
    {
     "data": {
      "image/png": "[encoded data removed]",
      "text/plain": [
       "<matplotlib.figure.Figure at 0x7f87c6920e48>"
      ]
     },
     "metadata": {},
     "output_type": "display_data"
    }
   ],
   "source": [
    "display_images_and_labels(images, labels)"
   ]
  },
  {
   "cell_type": "code",
   "execution_count": 32,
   "metadata": {},
   "outputs": [
    {
     "name": "stdout",
     "output_type": "stream",
     "text": [
      "shape: (20, 21, 3), min: 8, max: 130\n",
      "shape: (50, 50, 3), min: 11, max: 139\n",
      "shape: (43, 45, 3), min: 10, max: 149\n",
      "shape: (65, 65, 3), min: 5, max: 170\n",
      "shape: (30, 30, 3), min: 6, max: 155\n"
     ]
    }
   ],
   "source": [
    "for image in images[:5]:\n",
    "    print(\"shape: {0}, min: {1}, max: {2}\".format(image.shape, image.min(), image.max()))"
   ]
  },
  {
   "cell_type": "code",
   "execution_count": 33,
   "metadata": {},
   "outputs": [],
   "source": [
    "import skimage.transform\n",
    "\n",
    "# Resize images\n",
    "images64 = [skimage.transform.resize(image, (64, 64))\n",
    "                for image in images]"
   ]
  },
  {
   "cell_type": "code",
   "execution_count": 34,
   "metadata": {},
   "outputs": [
    {
     "name": "stdout",
     "output_type": "stream",
     "text": [
      "shape: (64, 64, 3), min: 0.04015203737745093, max: 0.5032676547181382\n",
      "shape: (64, 64, 3), min: 0.045677274816176325, max: 0.5281192555147057\n",
      "shape: (64, 64, 3), min: 0.0392156862745098, max: 0.5779991000306375\n",
      "shape: (64, 64, 3), min: 0.030235380284926498, max: 0.6628334195006125\n",
      "shape: (64, 64, 3), min: 0.0327349494485292, max: 0.5970368030024512\n"
     ]
    }
   ],
   "source": [
    "for image in images64[:5]:\n",
    "    print(\"shape: {0}, min: {1}, max: {2}\".format(image.shape, image.min(), image.max()))"
   ]
  },
  {
   "cell_type": "code",
   "execution_count": 35,
   "metadata": {},
   "outputs": [
    {
     "data": {
      "text/plain": [
       "((379,), (379, 64, 64, 3))"
      ]
     },
     "execution_count": 35,
     "metadata": {},
     "output_type": "execute_result"
    }
   ],
   "source": [
    "import numpy as np\n",
    "\n",
    "y = np.array(labels)\n",
    "X = np.array(images64)\n",
    "y.shape, X.shape"
   ]
  },
  {
   "cell_type": "code",
   "execution_count": 36,
   "metadata": {},
   "outputs": [],
   "source": [
    "from keras.utils.np_utils import to_categorical\n",
    "\n",
    "num_categories = 6\n",
    "\n",
    "y = to_categorical(y, num_categories)"
   ]
  },
  {
   "cell_type": "markdown",
   "metadata": {},
   "source": [
    "## Zuerst testen wir unser Modell, ob wir es überhaupt trainiert bekommen, indem wir auf einer kleinen Menge von Daten overfitten"
   ]
  },
  {
   "cell_type": "code",
   "execution_count": 37,
   "metadata": {
    "collapsed": true
   },
   "outputs": [],
   "source": [
    "from sklearn.model_selection import train_test_split"
   ]
  },
  {
   "cell_type": "code",
   "execution_count": 56,
   "metadata": {
    "collapsed": true
   },
   "outputs": [],
   "source": [
    "# http://cs231n.github.io/neural-networks-3/#sanitycheck\n",
    "X_train, X_test, y_train, y_test = train_test_split(X, y, test_size=0.95, random_state=23)"
   ]
  },
  {
   "cell_type": "code",
   "execution_count": 39,
   "metadata": {},
   "outputs": [
    {
     "data": {
      "text/plain": [
       "((18, 64, 64, 3), (18, 6))"
      ]
     },
     "execution_count": 39,
     "metadata": {},
     "output_type": "execute_result"
    }
   ],
   "source": [
    "# (0.5 % of ~400 = ~20)\n",
    "X_train.shape, y_train.shape"
   ]
  },
  {
   "cell_type": "code",
   "execution_count": 40,
   "metadata": {
    "collapsed": true
   },
   "outputs": [],
   "source": [
    "model.compile(optimizer='rmsprop',\n",
    "              loss='categorical_crossentropy',\n",
    "              metrics=['accuracy'])"
   ]
  },
  {
   "cell_type": "code",
   "execution_count": 48,
   "metadata": {},
   "outputs": [
    {
     "name": "stdout",
     "output_type": "stream",
     "text": [
      "Train on 12 samples, validate on 6 samples\n",
      "Epoch 1/50\n",
      "12/12 [==============================] - 0s - loss: 8.0610 - acc: 0.5000 - val_loss: 6.2082 - val_acc: 0.3333\n",
      "Epoch 2/50\n",
      "12/12 [==============================] - 0s - loss: 8.0609 - acc: 0.5000 - val_loss: 6.2923 - val_acc: 0.3333\n",
      "Epoch 3/50\n",
      "12/12 [==============================] - 0s - loss: 8.0607 - acc: 0.5000 - val_loss: 6.3822 - val_acc: 0.3333\n",
      "Epoch 4/50\n",
      "12/12 [==============================] - 0s - loss: 8.0606 - acc: 0.5000 - val_loss: 6.4741 - val_acc: 0.3333\n",
      "Epoch 5/50\n",
      "12/12 [==============================] - 0s - loss: 8.0605 - acc: 0.5000 - val_loss: 6.5663 - val_acc: 0.3333\n",
      "Epoch 6/50\n",
      "12/12 [==============================] - 0s - loss: 8.0604 - acc: 0.5000 - val_loss: 6.6579 - val_acc: 0.3333\n",
      "Epoch 7/50\n",
      "12/12 [==============================] - 0s - loss: 8.0603 - acc: 0.5000 - val_loss: 6.7486 - val_acc: 0.3333\n",
      "Epoch 8/50\n",
      "12/12 [==============================] - 0s - loss: 8.0602 - acc: 0.5000 - val_loss: 6.8381 - val_acc: 0.3333\n",
      "Epoch 9/50\n",
      "12/12 [==============================] - 0s - loss: 8.0601 - acc: 0.5000 - val_loss: 6.9266 - val_acc: 0.3333\n",
      "Epoch 10/50\n",
      "12/12 [==============================] - 0s - loss: 8.0601 - acc: 0.5000 - val_loss: 7.0140 - val_acc: 0.3333\n",
      "Epoch 11/50\n",
      "12/12 [==============================] - 0s - loss: 8.0600 - acc: 0.5000 - val_loss: 7.1004 - val_acc: 0.3333\n",
      "Epoch 12/50\n",
      "12/12 [==============================] - 0s - loss: 8.0599 - acc: 0.5000 - val_loss: 7.1859 - val_acc: 0.3333\n",
      "Epoch 13/50\n",
      "12/12 [==============================] - 0s - loss: 8.0599 - acc: 0.5000 - val_loss: 7.2706 - val_acc: 0.3333\n",
      "Epoch 14/50\n",
      "12/12 [==============================] - 0s - loss: 8.0598 - acc: 0.5000 - val_loss: 7.3545 - val_acc: 0.3333\n",
      "Epoch 15/50\n",
      "12/12 [==============================] - 0s - loss: 8.0598 - acc: 0.5000 - val_loss: 7.4378 - val_acc: 0.3333\n",
      "Epoch 16/50\n",
      "12/12 [==============================] - 0s - loss: 8.0597 - acc: 0.5000 - val_loss: 7.5204 - val_acc: 0.3333\n",
      "Epoch 17/50\n",
      "12/12 [==============================] - 0s - loss: 8.0597 - acc: 0.5000 - val_loss: 7.6026 - val_acc: 0.3333\n",
      "Epoch 18/50\n",
      "12/12 [==============================] - 0s - loss: 8.0597 - acc: 0.5000 - val_loss: 7.6842 - val_acc: 0.3333\n",
      "Epoch 19/50\n",
      "12/12 [==============================] - 0s - loss: 8.0596 - acc: 0.5000 - val_loss: 7.7654 - val_acc: 0.3333\n",
      "Epoch 20/50\n",
      "12/12 [==============================] - 0s - loss: 8.0549 - acc: 0.5000 - val_loss: 13.4317 - val_acc: 0.1667\n",
      "Epoch 21/50\n",
      "12/12 [==============================] - 0s - loss: 10.7491 - acc: 0.3333 - val_loss: 13.4317 - val_acc: 0.1667\n",
      "Epoch 22/50\n",
      "12/12 [==============================] - 0s - loss: 10.7454 - acc: 0.3333 - val_loss: 13.4317 - val_acc: 0.1667\n",
      "Epoch 23/50\n",
      "12/12 [==============================] - 0s - loss: 10.7454 - acc: 0.3333 - val_loss: 13.4317 - val_acc: 0.1667\n",
      "Epoch 24/50\n",
      "12/12 [==============================] - 0s - loss: 10.7454 - acc: 0.3333 - val_loss: 13.4317 - val_acc: 0.1667\n",
      "Epoch 25/50\n",
      "12/12 [==============================] - 0s - loss: 10.7454 - acc: 0.3333 - val_loss: 13.4317 - val_acc: 0.1667\n",
      "Epoch 26/50\n",
      "12/12 [==============================] - 0s - loss: 10.7454 - acc: 0.3333 - val_loss: 13.4317 - val_acc: 0.1667\n",
      "Epoch 27/50\n",
      "12/12 [==============================] - 0s - loss: 10.7454 - acc: 0.3333 - val_loss: 13.4317 - val_acc: 0.1667\n",
      "Epoch 28/50\n",
      "12/12 [==============================] - 0s - loss: 10.7454 - acc: 0.3333 - val_loss: 13.4317 - val_acc: 0.1667\n",
      "Epoch 29/50\n",
      "12/12 [==============================] - 0s - loss: 10.7454 - acc: 0.3333 - val_loss: 13.4317 - val_acc: 0.1667\n",
      "Epoch 30/50\n",
      "12/12 [==============================] - 0s - loss: 10.7454 - acc: 0.3333 - val_loss: 13.4317 - val_acc: 0.1667\n",
      "Epoch 31/50\n",
      "12/12 [==============================] - 0s - loss: 10.7454 - acc: 0.3333 - val_loss: 13.4317 - val_acc: 0.1667\n",
      "Epoch 32/50\n",
      "12/12 [==============================] - 0s - loss: 10.7454 - acc: 0.3333 - val_loss: 13.4317 - val_acc: 0.1667\n",
      "Epoch 33/50\n",
      "12/12 [==============================] - 0s - loss: 10.7454 - acc: 0.3333 - val_loss: 13.4317 - val_acc: 0.1667\n",
      "Epoch 34/50\n",
      "12/12 [==============================] - 0s - loss: 10.7454 - acc: 0.3333 - val_loss: 13.4317 - val_acc: 0.1667\n",
      "Epoch 35/50\n",
      "12/12 [==============================] - 0s - loss: 10.7454 - acc: 0.3333 - val_loss: 13.4317 - val_acc: 0.1667\n",
      "Epoch 36/50\n",
      "12/12 [==============================] - 0s - loss: 10.7454 - acc: 0.3333 - val_loss: 13.4317 - val_acc: 0.1667\n",
      "Epoch 37/50\n",
      "12/12 [==============================] - 0s - loss: 10.7454 - acc: 0.3333 - val_loss: 13.4317 - val_acc: 0.1667\n",
      "Epoch 38/50\n",
      "12/12 [==============================] - 0s - loss: 10.7454 - acc: 0.3333 - val_loss: 13.4317 - val_acc: 0.1667\n",
      "Epoch 39/50\n",
      "12/12 [==============================] - 0s - loss: 10.7454 - acc: 0.3333 - val_loss: 13.4317 - val_acc: 0.1667\n",
      "Epoch 40/50\n",
      "12/12 [==============================] - 0s - loss: 10.7454 - acc: 0.3333 - val_loss: 13.4317 - val_acc: 0.1667\n",
      "Epoch 41/50\n",
      "12/12 [==============================] - 0s - loss: 10.7454 - acc: 0.3333 - val_loss: 13.4317 - val_acc: 0.1667\n",
      "Epoch 42/50\n",
      "12/12 [==============================] - 0s - loss: 10.7454 - acc: 0.3333 - val_loss: 13.4317 - val_acc: 0.1667\n",
      "Epoch 43/50\n",
      "12/12 [==============================] - 0s - loss: 10.7454 - acc: 0.3333 - val_loss: 13.4317 - val_acc: 0.1667\n",
      "Epoch 44/50\n",
      "12/12 [==============================] - 0s - loss: 10.7454 - acc: 0.3333 - val_loss: 13.4317 - val_acc: 0.1667\n",
      "Epoch 45/50\n",
      "12/12 [==============================] - 0s - loss: 10.7454 - acc: 0.3333 - val_loss: 13.4317 - val_acc: 0.1667\n",
      "Epoch 46/50\n",
      "12/12 [==============================] - 0s - loss: 10.7454 - acc: 0.3333 - val_loss: 13.4317 - val_acc: 0.1667\n",
      "Epoch 47/50\n",
      "12/12 [==============================] - 0s - loss: 10.7454 - acc: 0.3333 - val_loss: 13.4317 - val_acc: 0.1667\n",
      "Epoch 48/50\n",
      "12/12 [==============================] - 0s - loss: 10.7454 - acc: 0.3333 - val_loss: 13.4317 - val_acc: 0.1667\n",
      "Epoch 49/50\n",
      "12/12 [==============================] - 0s - loss: 10.7454 - acc: 0.3333 - val_loss: 13.4317 - val_acc: 0.1667\n",
      "Epoch 50/50\n",
      "12/12 [==============================] - 0s - loss: 10.7454 - acc: 0.3333 - val_loss: 13.4317 - val_acc: 0.1667\n"
     ]
    },
    {
     "data": {
      "text/plain": [
       "<keras.callbacks.History at 0x7f8760442e80>"
      ]
     },
     "execution_count": 48,
     "metadata": {},
     "output_type": "execute_result"
    }
   ],
   "source": [
    "model.fit(X_train, y_train, epochs=50, batch_size=100, validation_split=0.3)"
   ]
  },
  {
   "cell_type": "code",
   "execution_count": 49,
   "metadata": {
    "collapsed": true
   },
   "outputs": [],
   "source": [
    "inputs = Input(shape=(64, 64, 3))\n",
    "flattened = Flatten()(inputs)\n",
    "hidden = Dense(1024, activation='relu')(flattened)\n",
    "softmax = Dense(6, activation='softmax')(hidden)\n",
    "\n",
    "model.compile(optimizer='rmsprop',\n",
    "              loss='categorical_crossentropy',\n",
    "              metrics=['accuracy'])"
   ]
  },
  {
   "cell_type": "code",
   "execution_count": 52,
   "metadata": {},
   "outputs": [
    {
     "name": "stdout",
     "output_type": "stream",
     "text": [
      "Train on 12 samples, validate on 6 samples\n",
      "Epoch 1/50\n",
      "12/12 [==============================] - 0s - loss: 6.7159 - acc: 0.5833 - val_loss: 9.0751 - val_acc: 0.3333\n",
      "Epoch 2/50\n",
      "12/12 [==============================] - 0s - loss: 6.7159 - acc: 0.5833 - val_loss: 9.1005 - val_acc: 0.3333\n",
      "Epoch 3/50\n",
      "12/12 [==============================] - 0s - loss: 6.7159 - acc: 0.5833 - val_loss: 9.1262 - val_acc: 0.3333\n",
      "Epoch 4/50\n",
      "12/12 [==============================] - 0s - loss: 6.7159 - acc: 0.5833 - val_loss: 9.1517 - val_acc: 0.3333\n",
      "Epoch 5/50\n",
      "12/12 [==============================] - 0s - loss: 6.7159 - acc: 0.5833 - val_loss: 9.1776 - val_acc: 0.3333\n",
      "Epoch 6/50\n",
      "12/12 [==============================] - 0s - loss: 6.7159 - acc: 0.5833 - val_loss: 9.2039 - val_acc: 0.3333\n",
      "Epoch 7/50\n",
      "12/12 [==============================] - 0s - loss: 6.7159 - acc: 0.5833 - val_loss: 9.2305 - val_acc: 0.3333\n",
      "Epoch 8/50\n",
      "12/12 [==============================] - 0s - loss: 6.7159 - acc: 0.5833 - val_loss: 9.2570 - val_acc: 0.3333\n",
      "Epoch 9/50\n",
      "12/12 [==============================] - 0s - loss: 6.7159 - acc: 0.5833 - val_loss: 9.2840 - val_acc: 0.3333\n",
      "Epoch 10/50\n",
      "12/12 [==============================] - 0s - loss: 6.7159 - acc: 0.5833 - val_loss: 9.3112 - val_acc: 0.3333\n",
      "Epoch 11/50\n",
      "12/12 [==============================] - 0s - loss: 6.7159 - acc: 0.5833 - val_loss: 9.3380 - val_acc: 0.3333\n",
      "Epoch 12/50\n",
      "12/12 [==============================] - 0s - loss: 6.7159 - acc: 0.5833 - val_loss: 9.3652 - val_acc: 0.3333\n",
      "Epoch 13/50\n",
      "12/12 [==============================] - 0s - loss: 6.7159 - acc: 0.5833 - val_loss: 9.3926 - val_acc: 0.3333\n",
      "Epoch 14/50\n",
      "12/12 [==============================] - 0s - loss: 6.7159 - acc: 0.5833 - val_loss: 9.4189 - val_acc: 0.3333\n",
      "Epoch 15/50\n",
      "12/12 [==============================] - 0s - loss: 6.7159 - acc: 0.5833 - val_loss: 9.4455 - val_acc: 0.3333\n",
      "Epoch 16/50\n",
      "12/12 [==============================] - 0s - loss: 6.7159 - acc: 0.5833 - val_loss: 9.4724 - val_acc: 0.3333\n",
      "Epoch 17/50\n",
      "12/12 [==============================] - 0s - loss: 6.7159 - acc: 0.5833 - val_loss: 9.4988 - val_acc: 0.3333\n",
      "Epoch 18/50\n",
      "12/12 [==============================] - 0s - loss: 6.7159 - acc: 0.5833 - val_loss: 9.5256 - val_acc: 0.3333\n",
      "Epoch 19/50\n",
      "12/12 [==============================] - 0s - loss: 6.7159 - acc: 0.5833 - val_loss: 9.5518 - val_acc: 0.3333\n",
      "Epoch 20/50\n",
      "12/12 [==============================] - 0s - loss: 6.7159 - acc: 0.5833 - val_loss: 9.5774 - val_acc: 0.3333\n",
      "Epoch 21/50\n",
      "12/12 [==============================] - 0s - loss: 6.7159 - acc: 0.5833 - val_loss: 9.6026 - val_acc: 0.3333\n",
      "Epoch 22/50\n",
      "12/12 [==============================] - 0s - loss: 6.7159 - acc: 0.5833 - val_loss: 9.6280 - val_acc: 0.3333\n",
      "Epoch 23/50\n",
      "12/12 [==============================] - 0s - loss: 6.7159 - acc: 0.5833 - val_loss: 9.6539 - val_acc: 0.3333\n",
      "Epoch 24/50\n",
      "12/12 [==============================] - 0s - loss: 6.7159 - acc: 0.5833 - val_loss: 9.6801 - val_acc: 0.3333\n",
      "Epoch 25/50\n",
      "12/12 [==============================] - 0s - loss: 6.7159 - acc: 0.5833 - val_loss: 9.7066 - val_acc: 0.3333\n",
      "Epoch 26/50\n",
      "12/12 [==============================] - 0s - loss: 6.7159 - acc: 0.5833 - val_loss: 9.7334 - val_acc: 0.3333\n",
      "Epoch 27/50\n",
      "12/12 [==============================] - 0s - loss: 6.7159 - acc: 0.5833 - val_loss: 9.7593 - val_acc: 0.3333\n",
      "Epoch 28/50\n",
      "12/12 [==============================] - 0s - loss: 6.7159 - acc: 0.5833 - val_loss: 9.7843 - val_acc: 0.3333\n",
      "Epoch 29/50\n",
      "12/12 [==============================] - 0s - loss: 6.7159 - acc: 0.5833 - val_loss: 9.8083 - val_acc: 0.3333\n",
      "Epoch 30/50\n",
      "12/12 [==============================] - 0s - loss: 6.7159 - acc: 0.5833 - val_loss: 9.8299 - val_acc: 0.3333\n",
      "Epoch 31/50\n",
      "12/12 [==============================] - 0s - loss: 6.7159 - acc: 0.5833 - val_loss: 9.8498 - val_acc: 0.3333\n",
      "Epoch 32/50\n",
      "12/12 [==============================] - 0s - loss: 6.7159 - acc: 0.5833 - val_loss: 9.8707 - val_acc: 0.3333\n",
      "Epoch 33/50\n",
      "12/12 [==============================] - 0s - loss: 6.7159 - acc: 0.5833 - val_loss: 9.8924 - val_acc: 0.3333\n",
      "Epoch 34/50\n",
      "12/12 [==============================] - 0s - loss: 6.7159 - acc: 0.5833 - val_loss: 9.9128 - val_acc: 0.3333\n",
      "Epoch 35/50\n",
      "12/12 [==============================] - 0s - loss: 6.7159 - acc: 0.5833 - val_loss: 9.9333 - val_acc: 0.3333\n",
      "Epoch 36/50\n",
      "12/12 [==============================] - 0s - loss: 6.7159 - acc: 0.5833 - val_loss: 9.9485 - val_acc: 0.3333\n",
      "Epoch 37/50\n",
      "12/12 [==============================] - 0s - loss: 6.7159 - acc: 0.5833 - val_loss: 9.9612 - val_acc: 0.3333\n",
      "Epoch 38/50\n",
      "12/12 [==============================] - 0s - loss: 6.7159 - acc: 0.5833 - val_loss: 9.9735 - val_acc: 0.3333\n",
      "Epoch 39/50\n",
      "12/12 [==============================] - 0s - loss: 6.7159 - acc: 0.5833 - val_loss: 9.9863 - val_acc: 0.3333\n",
      "Epoch 40/50\n",
      "12/12 [==============================] - 0s - loss: 6.7159 - acc: 0.5833 - val_loss: 9.9967 - val_acc: 0.3333\n",
      "Epoch 41/50\n",
      "12/12 [==============================] - 0s - loss: 6.7159 - acc: 0.5833 - val_loss: 10.0022 - val_acc: 0.3333\n",
      "Epoch 42/50\n",
      "12/12 [==============================] - 0s - loss: 6.7159 - acc: 0.5833 - val_loss: 10.0160 - val_acc: 0.3333\n",
      "Epoch 43/50\n",
      "12/12 [==============================] - 0s - loss: 6.7159 - acc: 0.5833 - val_loss: 10.0186 - val_acc: 0.3333\n",
      "Epoch 44/50\n",
      "12/12 [==============================] - 0s - loss: 6.7159 - acc: 0.5833 - val_loss: 10.0288 - val_acc: 0.3333\n",
      "Epoch 45/50\n",
      "12/12 [==============================] - 0s - loss: 6.7159 - acc: 0.5833 - val_loss: 10.0297 - val_acc: 0.3333\n",
      "Epoch 46/50\n",
      "12/12 [==============================] - 0s - loss: 6.7159 - acc: 0.5833 - val_loss: 10.0419 - val_acc: 0.3333\n",
      "Epoch 47/50\n",
      "12/12 [==============================] - 0s - loss: 6.7159 - acc: 0.5833 - val_loss: 10.0402 - val_acc: 0.3333\n",
      "Epoch 48/50\n",
      "12/12 [==============================] - 0s - loss: 6.7159 - acc: 0.5833 - val_loss: 10.0594 - val_acc: 0.3333\n",
      "Epoch 49/50\n",
      "12/12 [==============================] - 0s - loss: 6.7159 - acc: 0.5833 - val_loss: 10.0584 - val_acc: 0.3333\n",
      "Epoch 50/50\n",
      "12/12 [==============================] - 0s - loss: 6.7159 - acc: 0.5833 - val_loss: 10.0726 - val_acc: 0.3333\n"
     ]
    },
    {
     "data": {
      "text/plain": [
       "<keras.callbacks.History at 0x7f87c68fa128>"
      ]
     },
     "execution_count": 52,
     "metadata": {},
     "output_type": "execute_result"
    }
   ],
   "source": [
    "model.fit(X_train, y_train, epochs=50, batch_size=100, validation_split=0.3)"
   ]
  },
  {
   "cell_type": "code",
   "execution_count": 63,
   "metadata": {
    "collapsed": true
   },
   "outputs": [],
   "source": [
    "inputs = Input(shape=(64, 64, 3))\n",
    "flattened = Flatten()(inputs)\n",
    "x = Dense(256, activation='relu')(flattened)\n",
    "x = Dense(256, activation='relu')(x)\n",
    "x = Dense(256, activation='relu')(x)\n",
    "x = Dense(256, activation='relu')(x)\n",
    "x = Dense(256, activation='relu')(x)\n",
    "x = Dense(256, activation='relu')(x)\n",
    "x = Dense(256, activation='relu')(x)\n",
    "softmax = Dense(6, activation='softmax')(x)\n",
    "\n",
    "model.compile(optimizer='rmsprop',\n",
    "              loss='categorical_crossentropy',\n",
    "              metrics=['accuracy'])"
   ]
  },
  {
   "cell_type": "code",
   "execution_count": 64,
   "metadata": {},
   "outputs": [
    {
     "name": "stdout",
     "output_type": "stream",
     "text": [
      "Train on 12 samples, validate on 6 samples\n",
      "Epoch 1/50\n",
      "12/12 [==============================] - 0s - loss: 14.7749 - acc: 0.0833 - val_loss: 13.4317 - val_acc: 0.1667\n",
      "Epoch 2/50\n",
      "12/12 [==============================] - 0s - loss: 14.7749 - acc: 0.0833 - val_loss: 13.4317 - val_acc: 0.1667\n",
      "Epoch 3/50\n",
      "12/12 [==============================] - 0s - loss: 14.7749 - acc: 0.0833 - val_loss: 13.4317 - val_acc: 0.1667\n",
      "Epoch 4/50\n",
      "12/12 [==============================] - 0s - loss: 14.7749 - acc: 0.0833 - val_loss: 13.4317 - val_acc: 0.1667\n",
      "Epoch 5/50\n",
      "12/12 [==============================] - 0s - loss: 14.7749 - acc: 0.0833 - val_loss: 13.4317 - val_acc: 0.1667\n",
      "Epoch 6/50\n",
      "12/12 [==============================] - 0s - loss: 14.7749 - acc: 0.0833 - val_loss: 13.4317 - val_acc: 0.1667\n",
      "Epoch 7/50\n",
      "12/12 [==============================] - 0s - loss: 14.7749 - acc: 0.0833 - val_loss: 13.4317 - val_acc: 0.1667\n",
      "Epoch 8/50\n",
      "12/12 [==============================] - 0s - loss: 14.7749 - acc: 0.0833 - val_loss: 13.4317 - val_acc: 0.1667\n",
      "Epoch 9/50\n",
      "12/12 [==============================] - 0s - loss: 14.7749 - acc: 0.0833 - val_loss: 13.4317 - val_acc: 0.1667\n",
      "Epoch 10/50\n",
      "12/12 [==============================] - 0s - loss: 14.7749 - acc: 0.0833 - val_loss: 13.4317 - val_acc: 0.1667\n",
      "Epoch 11/50\n",
      "12/12 [==============================] - 0s - loss: 14.7749 - acc: 0.0833 - val_loss: 13.4317 - val_acc: 0.1667\n",
      "Epoch 12/50\n",
      "12/12 [==============================] - 0s - loss: 14.7749 - acc: 0.0833 - val_loss: 13.4317 - val_acc: 0.1667\n",
      "Epoch 13/50\n",
      "12/12 [==============================] - 0s - loss: 14.7749 - acc: 0.0833 - val_loss: 13.4317 - val_acc: 0.1667\n",
      "Epoch 14/50\n",
      "12/12 [==============================] - 0s - loss: 14.7749 - acc: 0.0833 - val_loss: 13.4317 - val_acc: 0.1667\n",
      "Epoch 15/50\n",
      "12/12 [==============================] - 0s - loss: 14.7749 - acc: 0.0833 - val_loss: 13.4317 - val_acc: 0.1667\n",
      "Epoch 16/50\n",
      "12/12 [==============================] - 0s - loss: 14.7749 - acc: 0.0833 - val_loss: 13.4317 - val_acc: 0.1667\n",
      "Epoch 17/50\n",
      "12/12 [==============================] - 0s - loss: 14.7749 - acc: 0.0833 - val_loss: 13.4317 - val_acc: 0.1667\n",
      "Epoch 18/50\n",
      "12/12 [==============================] - 0s - loss: 14.7749 - acc: 0.0833 - val_loss: 13.4317 - val_acc: 0.1667\n",
      "Epoch 19/50\n",
      "12/12 [==============================] - 0s - loss: 14.7749 - acc: 0.0833 - val_loss: 13.4317 - val_acc: 0.1667\n",
      "Epoch 20/50\n",
      "12/12 [==============================] - 0s - loss: 14.7749 - acc: 0.0833 - val_loss: 13.4317 - val_acc: 0.1667\n",
      "Epoch 21/50\n",
      "12/12 [==============================] - 0s - loss: 14.7749 - acc: 0.0833 - val_loss: 13.4317 - val_acc: 0.1667\n",
      "Epoch 22/50\n",
      "12/12 [==============================] - 0s - loss: 14.7749 - acc: 0.0833 - val_loss: 13.4317 - val_acc: 0.1667\n",
      "Epoch 23/50\n",
      "12/12 [==============================] - 0s - loss: 14.7749 - acc: 0.0833 - val_loss: 13.4317 - val_acc: 0.1667\n",
      "Epoch 24/50\n",
      "12/12 [==============================] - 0s - loss: 14.7749 - acc: 0.0833 - val_loss: 13.4317 - val_acc: 0.1667\n",
      "Epoch 25/50\n",
      "12/12 [==============================] - 0s - loss: 14.7749 - acc: 0.0833 - val_loss: 13.4317 - val_acc: 0.1667\n",
      "Epoch 26/50\n",
      "12/12 [==============================] - 0s - loss: 14.7749 - acc: 0.0833 - val_loss: 13.4317 - val_acc: 0.1667\n",
      "Epoch 27/50\n",
      "12/12 [==============================] - 0s - loss: 14.7749 - acc: 0.0833 - val_loss: 13.4317 - val_acc: 0.1667\n",
      "Epoch 28/50\n",
      "12/12 [==============================] - 0s - loss: 14.7749 - acc: 0.0833 - val_loss: 13.4317 - val_acc: 0.1667\n",
      "Epoch 29/50\n",
      "12/12 [==============================] - 0s - loss: 14.7749 - acc: 0.0833 - val_loss: 13.4317 - val_acc: 0.1667\n",
      "Epoch 30/50\n",
      "12/12 [==============================] - 0s - loss: 14.7749 - acc: 0.0833 - val_loss: 13.4317 - val_acc: 0.1667\n",
      "Epoch 31/50\n",
      "12/12 [==============================] - 0s - loss: 14.7749 - acc: 0.0833 - val_loss: 13.4317 - val_acc: 0.1667\n",
      "Epoch 32/50\n",
      "12/12 [==============================] - 0s - loss: 14.7749 - acc: 0.0833 - val_loss: 13.4317 - val_acc: 0.1667\n",
      "Epoch 33/50\n",
      "12/12 [==============================] - 0s - loss: 14.7749 - acc: 0.0833 - val_loss: 13.4317 - val_acc: 0.1667\n",
      "Epoch 34/50\n",
      "12/12 [==============================] - 0s - loss: 14.7749 - acc: 0.0833 - val_loss: 13.4317 - val_acc: 0.1667\n",
      "Epoch 35/50\n",
      "12/12 [==============================] - 0s - loss: 14.7749 - acc: 0.0833 - val_loss: 13.4317 - val_acc: 0.1667\n",
      "Epoch 36/50\n",
      "12/12 [==============================] - 0s - loss: 14.7749 - acc: 0.0833 - val_loss: 13.4317 - val_acc: 0.1667\n",
      "Epoch 37/50\n",
      "12/12 [==============================] - 0s - loss: 14.7749 - acc: 0.0833 - val_loss: 13.4317 - val_acc: 0.1667\n",
      "Epoch 38/50\n",
      "12/12 [==============================] - 0s - loss: 14.7749 - acc: 0.0833 - val_loss: 13.4317 - val_acc: 0.1667\n",
      "Epoch 39/50\n",
      "12/12 [==============================] - 0s - loss: 14.7749 - acc: 0.0833 - val_loss: 13.4317 - val_acc: 0.1667\n",
      "Epoch 40/50\n",
      "12/12 [==============================] - 0s - loss: 14.7749 - acc: 0.0833 - val_loss: 13.4317 - val_acc: 0.1667\n",
      "Epoch 41/50\n",
      "12/12 [==============================] - 0s - loss: 14.7749 - acc: 0.0833 - val_loss: 13.4317 - val_acc: 0.1667\n",
      "Epoch 42/50\n",
      "12/12 [==============================] - 0s - loss: 14.7749 - acc: 0.0833 - val_loss: 13.4317 - val_acc: 0.1667\n",
      "Epoch 43/50\n",
      "12/12 [==============================] - 0s - loss: 14.7749 - acc: 0.0833 - val_loss: 13.4317 - val_acc: 0.1667\n",
      "Epoch 44/50\n",
      "12/12 [==============================] - 0s - loss: 14.7749 - acc: 0.0833 - val_loss: 13.4317 - val_acc: 0.1667\n",
      "Epoch 45/50\n",
      "12/12 [==============================] - 0s - loss: 14.7749 - acc: 0.0833 - val_loss: 13.4317 - val_acc: 0.1667\n",
      "Epoch 46/50\n",
      "12/12 [==============================] - 0s - loss: 14.7749 - acc: 0.0833 - val_loss: 13.4317 - val_acc: 0.1667\n",
      "Epoch 47/50\n",
      "12/12 [==============================] - 0s - loss: 14.7749 - acc: 0.0833 - val_loss: 13.4317 - val_acc: 0.1667\n",
      "Epoch 48/50\n",
      "12/12 [==============================] - 0s - loss: 14.7749 - acc: 0.0833 - val_loss: 13.4317 - val_acc: 0.1667\n",
      "Epoch 49/50\n",
      "12/12 [==============================] - 0s - loss: 14.7749 - acc: 0.0833 - val_loss: 13.4317 - val_acc: 0.1667\n",
      "Epoch 50/50\n",
      "12/12 [==============================] - 0s - loss: 14.7749 - acc: 0.0833 - val_loss: 13.4317 - val_acc: 0.1667\n"
     ]
    },
    {
     "data": {
      "text/plain": [
       "<keras.callbacks.History at 0x7f87c6717240>"
      ]
     },
     "execution_count": 64,
     "metadata": {},
     "output_type": "execute_result"
    }
   ],
   "source": [
    "model.fit(X_train, y_train, epochs=50, batch_size=100, validation_split=0.3)"
   ]
  },
  {
   "cell_type": "markdown",
   "metadata": {},
   "source": [
    "## Jetzt CNNs"
   ]
  },
  {
   "cell_type": "code",
   "execution_count": 66,
   "metadata": {
    "collapsed": true
   },
   "outputs": [],
   "source": [
    "from keras.models import Model\n",
    "from keras.layers import Dense, Dropout, Activation, Flatten, Input\n",
    "from keras.layers import Convolution2D, MaxPooling2D\n",
    "\n",
    "# input tensor for a 3-channel 64x64 image\n",
    "inputs = Input(shape=(64, 64, 3))\n",
    "\n",
    "# one block of convolutional layers\n",
    "\n",
    "# 32 filters with a 4x4 kernel, outputs 64x64x32 tensor\n",
    "x = Convolution2D(32, 4, 4, border_mode='same', activation='relu')(inputs)\n",
    "x = Convolution2D(32, 4, 4, border_mode='same', activation='relu')(x)\n",
    "x = Convolution2D(32, 4, 4, border_mode='same', activation='relu')(x)\n",
    "\n",
    "# max pooling with 2x2 window, reducing data to a fourth, reduces risk of overfitting\n",
    "x = MaxPooling2D(pool_size=(2, 2))(x)\n",
    "\n",
    "# drops 50% of all nodes at training (but not for test/prediction), also reduces risk of overfitting\n",
    "x = Dropout(0.5)(x)\n",
    "# http://cs231n.github.io/neural-networks-2/#reg\n",
    "\n",
    "# one more block\n",
    "x = Convolution2D(64, 4, 4, border_mode='same', activation='relu')(x)\n",
    "x = Convolution2D(64, 4, 4, border_mode='same', activation='relu')(x)\n",
    "x = MaxPooling2D(pool_size=(2, 2))(x)\n",
    "x = Dropout(0.5)(x)\n",
    "\n",
    "x = Flatten()(x)\n",
    "# fully connected, 256 nodes\n",
    "x = Dense(256, activation='relu')(x)\n",
    "x = Dropout(0.50)(x)\n",
    "\n",
    "# softmax activation, 6 categories\n",
    "predictions = Dense(6, activation='softmax')(x)"
   ]
  },
  {
   "cell_type": "code",
   "execution_count": 67,
   "metadata": {
    "collapsed": true
   },
   "outputs": [],
   "source": [
    "model = Model(input=inputs, output=predictions)"
   ]
  },
  {
   "cell_type": "code",
   "execution_count": 70,
   "metadata": {},
   "outputs": [
    {
     "name": "stdout",
     "output_type": "stream",
     "text": [
      "_________________________________________________________________\n",
      "Layer (type)                 Output Shape              Param #   \n",
      "=================================================================\n",
      "input_10 (InputLayer)        (None, 64, 64, 3)         0         \n",
      "_________________________________________________________________\n",
      "conv2d_1 (Conv2D)            (None, 64, 64, 32)        1568      \n",
      "_________________________________________________________________\n",
      "conv2d_2 (Conv2D)            (None, 64, 64, 32)        16416     \n",
      "_________________________________________________________________\n",
      "conv2d_3 (Conv2D)            (None, 64, 64, 32)        16416     \n",
      "_________________________________________________________________\n",
      "max_pooling2d_1 (MaxPooling2 (None, 32, 32, 32)        0         \n",
      "_________________________________________________________________\n",
      "dropout_1 (Dropout)          (None, 32, 32, 32)        0         \n",
      "_________________________________________________________________\n",
      "conv2d_4 (Conv2D)            (None, 32, 32, 64)        32832     \n",
      "_________________________________________________________________\n",
      "conv2d_5 (Conv2D)            (None, 32, 32, 64)        65600     \n",
      "_________________________________________________________________\n",
      "max_pooling2d_2 (MaxPooling2 (None, 16, 16, 64)        0         \n",
      "_________________________________________________________________\n",
      "dropout_2 (Dropout)          (None, 16, 16, 64)        0         \n",
      "_________________________________________________________________\n",
      "flatten_9 (Flatten)          (None, 16384)             0         \n",
      "_________________________________________________________________\n",
      "dense_35 (Dense)             (None, 256)               4194560   \n",
      "_________________________________________________________________\n",
      "dropout_3 (Dropout)          (None, 256)               0         \n",
      "_________________________________________________________________\n",
      "dense_36 (Dense)             (None, 6)                 1542      \n",
      "=================================================================\n",
      "Total params: 4,328,934.0\n",
      "Trainable params: 4,328,934.0\n",
      "Non-trainable params: 0.0\n",
      "_________________________________________________________________\n"
     ]
    }
   ],
   "source": [
    "model.summary()"
   ]
  },
  {
   "cell_type": "code",
   "execution_count": 72,
   "metadata": {
    "collapsed": true
   },
   "outputs": [],
   "source": [
    "model.compile(optimizer='rmsprop',\n",
    "              loss='categorical_crossentropy',\n",
    "              metrics=['accuracy'])"
   ]
  },
  {
   "cell_type": "code",
   "execution_count": 77,
   "metadata": {},
   "outputs": [
    {
     "name": "stdout",
     "output_type": "stream",
     "text": [
      "Train on 12 samples, validate on 6 samples\n",
      "Epoch 1/50\n",
      "12/12 [==============================] - 0s - loss: 0.6595 - acc: 0.9167 - val_loss: 5.2313 - val_acc: 0.1667\n",
      "Epoch 2/50\n",
      "12/12 [==============================] - 0s - loss: 0.2087 - acc: 0.9167 - val_loss: 5.6575 - val_acc: 0.1667\n",
      "Epoch 3/50\n",
      "12/12 [==============================] - 0s - loss: 0.3000 - acc: 0.9167 - val_loss: 4.6062 - val_acc: 0.1667\n",
      "Epoch 4/50\n",
      "12/12 [==============================] - 0s - loss: 0.2814 - acc: 0.9167 - val_loss: 3.9163 - val_acc: 0.1667\n",
      "Epoch 5/50\n",
      "12/12 [==============================] - 0s - loss: 0.0230 - acc: 1.0000 - val_loss: 4.2321 - val_acc: 0.1667\n",
      "Epoch 6/50\n",
      "12/12 [==============================] - 0s - loss: 0.0216 - acc: 1.0000 - val_loss: 4.5268 - val_acc: 0.1667\n",
      "Epoch 7/50\n",
      "12/12 [==============================] - 0s - loss: 0.0100 - acc: 1.0000 - val_loss: 4.7100 - val_acc: 0.1667\n",
      "Epoch 8/50\n",
      "12/12 [==============================] - 0s - loss: 0.0464 - acc: 1.0000 - val_loss: 4.9046 - val_acc: 0.1667\n",
      "Epoch 9/50\n",
      "12/12 [==============================] - 0s - loss: 0.0281 - acc: 1.0000 - val_loss: 5.0686 - val_acc: 0.1667\n",
      "Epoch 10/50\n",
      "12/12 [==============================] - 0s - loss: 0.0055 - acc: 1.0000 - val_loss: 5.1934 - val_acc: 0.1667\n",
      "Epoch 11/50\n",
      "12/12 [==============================] - 0s - loss: 0.0213 - acc: 1.0000 - val_loss: 5.2758 - val_acc: 0.1667\n",
      "Epoch 12/50\n",
      "12/12 [==============================] - 0s - loss: 0.2353 - acc: 0.9167 - val_loss: 5.5134 - val_acc: 0.3333\n",
      "Epoch 13/50\n",
      "12/12 [==============================] - 0s - loss: 0.0353 - acc: 1.0000 - val_loss: 5.7500 - val_acc: 0.3333\n",
      "Epoch 14/50\n",
      "12/12 [==============================] - 0s - loss: 0.0059 - acc: 1.0000 - val_loss: 5.7993 - val_acc: 0.3333\n",
      "Epoch 15/50\n",
      "12/12 [==============================] - 0s - loss: 0.0015 - acc: 1.0000 - val_loss: 5.8149 - val_acc: 0.3333\n",
      "Epoch 16/50\n",
      "12/12 [==============================] - 0s - loss: 0.0044 - acc: 1.0000 - val_loss: 5.9951 - val_acc: 0.3333\n",
      "Epoch 17/50\n",
      "12/12 [==============================] - 0s - loss: 0.0068 - acc: 1.0000 - val_loss: 5.8787 - val_acc: 0.3333\n",
      "Epoch 18/50\n",
      "12/12 [==============================] - 0s - loss: 0.0026 - acc: 1.0000 - val_loss: 5.9441 - val_acc: 0.3333\n",
      "Epoch 19/50\n",
      "12/12 [==============================] - 0s - loss: 0.0133 - acc: 1.0000 - val_loss: 6.2515 - val_acc: 0.3333\n",
      "Epoch 20/50\n",
      "12/12 [==============================] - 0s - loss: 0.0056 - acc: 1.0000 - val_loss: 5.9856 - val_acc: 0.3333\n",
      "Epoch 21/50\n",
      "12/12 [==============================] - 0s - loss: 0.0034 - acc: 1.0000 - val_loss: 6.4739 - val_acc: 0.3333\n",
      "Epoch 22/50\n",
      "12/12 [==============================] - 0s - loss: 7.1297e-04 - acc: 1.0000 - val_loss: 6.5469 - val_acc: 0.3333\n",
      "Epoch 23/50\n",
      "12/12 [==============================] - 0s - loss: 0.0178 - acc: 1.0000 - val_loss: 5.4990 - val_acc: 0.1667\n",
      "Epoch 24/50\n",
      "12/12 [==============================] - 0s - loss: 0.0220 - acc: 1.0000 - val_loss: 5.9328 - val_acc: 0.1667\n",
      "Epoch 25/50\n",
      "12/12 [==============================] - 0s - loss: 7.7070e-04 - acc: 1.0000 - val_loss: 5.9457 - val_acc: 0.1667\n",
      "Epoch 26/50\n",
      "12/12 [==============================] - 0s - loss: 0.0012 - acc: 1.0000 - val_loss: 5.9648 - val_acc: 0.1667\n",
      "Epoch 27/50\n",
      "12/12 [==============================] - 0s - loss: 0.0015 - acc: 1.0000 - val_loss: 5.9638 - val_acc: 0.1667\n",
      "Epoch 28/50\n",
      "12/12 [==============================] - 0s - loss: 2.5621e-04 - acc: 1.0000 - val_loss: 5.9996 - val_acc: 0.1667\n",
      "Epoch 29/50\n",
      "12/12 [==============================] - 0s - loss: 2.9120e-04 - acc: 1.0000 - val_loss: 6.0252 - val_acc: 0.1667\n",
      "Epoch 30/50\n",
      "12/12 [==============================] - 0s - loss: 4.2919e-04 - acc: 1.0000 - val_loss: 6.0704 - val_acc: 0.1667\n",
      "Epoch 31/50\n",
      "12/12 [==============================] - 0s - loss: 5.4764e-04 - acc: 1.0000 - val_loss: 6.1163 - val_acc: 0.1667\n",
      "Epoch 32/50\n",
      "12/12 [==============================] - 0s - loss: 9.5527e-04 - acc: 1.0000 - val_loss: 6.1631 - val_acc: 0.1667\n",
      "Epoch 33/50\n",
      "12/12 [==============================] - 0s - loss: 7.1551e-04 - acc: 1.0000 - val_loss: 6.2104 - val_acc: 0.1667\n",
      "Epoch 34/50\n",
      "12/12 [==============================] - 0s - loss: 0.0025 - acc: 1.0000 - val_loss: 6.3805 - val_acc: 0.1667\n",
      "Epoch 35/50\n",
      "12/12 [==============================] - 0s - loss: 0.0012 - acc: 1.0000 - val_loss: 6.5059 - val_acc: 0.1667\n",
      "Epoch 36/50\n",
      "12/12 [==============================] - 0s - loss: 1.6070e-04 - acc: 1.0000 - val_loss: 6.5228 - val_acc: 0.1667\n",
      "Epoch 37/50\n",
      "12/12 [==============================] - 0s - loss: 5.3349e-04 - acc: 1.0000 - val_loss: 6.5600 - val_acc: 0.1667\n",
      "Epoch 38/50\n",
      "12/12 [==============================] - 0s - loss: 2.2398e-04 - acc: 1.0000 - val_loss: 6.5880 - val_acc: 0.1667\n",
      "Epoch 39/50\n",
      "12/12 [==============================] - 0s - loss: 5.2984e-04 - acc: 1.0000 - val_loss: 6.6045 - val_acc: 0.1667\n",
      "Epoch 40/50\n",
      "12/12 [==============================] - 0s - loss: 2.8552e-04 - acc: 1.0000 - val_loss: 6.6496 - val_acc: 0.1667\n",
      "Epoch 41/50\n",
      "12/12 [==============================] - 0s - loss: 6.5657e-05 - acc: 1.0000 - val_loss: 6.6797 - val_acc: 0.1667\n",
      "Epoch 42/50\n",
      "12/12 [==============================] - 0s - loss: 9.7729e-04 - acc: 1.0000 - val_loss: 6.7127 - val_acc: 0.1667\n",
      "Epoch 43/50\n",
      "12/12 [==============================] - 0s - loss: 8.5356e-05 - acc: 1.0000 - val_loss: 6.7594 - val_acc: 0.1667\n",
      "Epoch 44/50\n",
      "12/12 [==============================] - 0s - loss: 4.2965e-04 - acc: 1.0000 - val_loss: 6.9104 - val_acc: 0.1667\n",
      "Epoch 45/50\n",
      "12/12 [==============================] - 0s - loss: 2.0838e-05 - acc: 1.0000 - val_loss: 6.9346 - val_acc: 0.1667\n",
      "Epoch 46/50\n",
      "12/12 [==============================] - 0s - loss: 1.3231e-04 - acc: 1.0000 - val_loss: 6.9690 - val_acc: 0.1667\n",
      "Epoch 47/50\n",
      "12/12 [==============================] - 0s - loss: 1.4591e-04 - acc: 1.0000 - val_loss: 7.0219 - val_acc: 0.1667\n",
      "Epoch 48/50\n",
      "12/12 [==============================] - 0s - loss: 4.5401e-05 - acc: 1.0000 - val_loss: 7.0962 - val_acc: 0.1667\n",
      "Epoch 49/50\n",
      "12/12 [==============================] - 0s - loss: 1.0382e-04 - acc: 1.0000 - val_loss: 7.2376 - val_acc: 0.1667\n",
      "Epoch 50/50\n",
      "12/12 [==============================] - 0s - loss: 3.7500e-05 - acc: 1.0000 - val_loss: 7.2948 - val_acc: 0.1667\n"
     ]
    },
    {
     "data": {
      "text/plain": [
       "<keras.callbacks.History at 0x7f8763cec2e8>"
      ]
     },
     "execution_count": 77,
     "metadata": {},
     "output_type": "execute_result"
    }
   ],
   "source": [
    "model.fit(X_train, y_train, epochs=50, batch_size=100, validation_split=0.3)"
   ]
  },
  {
   "cell_type": "code",
   "execution_count": 78,
   "metadata": {
    "collapsed": true
   },
   "outputs": [],
   "source": [
    "X_train, X_test, y_train, y_test = train_test_split(X, y, test_size=0.2, random_state=3)"
   ]
  },
  {
   "cell_type": "code",
   "execution_count": 79,
   "metadata": {
    "collapsed": true
   },
   "outputs": [],
   "source": [
    "model.compile(optimizer='rmsprop',\n",
    "              loss='categorical_crossentropy',\n",
    "              metrics=['accuracy'])"
   ]
  },
  {
   "cell_type": "code",
   "execution_count": 81,
   "metadata": {},
   "outputs": [
    {
     "name": "stdout",
     "output_type": "stream",
     "text": [
      "Train on 212 samples, validate on 91 samples\n",
      "Epoch 1/10\n",
      "212/212 [==============================] - 5s - loss: 0.8633 - acc: 0.7830 - val_loss: 0.3980 - val_acc: 0.9341\b\b\b\b\b\b\b\b\b\b\b\b\b\b\b\b\b\b\b\b\b\b\b\b\b\b\b\b\b\b\b\b\b\b\b\b\b\b\b\b\b\b\b\b\b\b\b\b\b\b\b\b\b\b\b\b\b\b\b\b\b\b\b\b\b\b\b\b\b\b\b\b\b\b\b\b\b\b\b\b\b\b\b\b\b\b\b\b\b\b\b\b\b\b\b\b\b\b\b\b\b\b\b\b\b\b\b\b\b\b\b\b\b\b\b\b\b\b\b\b\b\b\b\b\b\b\n",
      "Epoch 2/10\n",
      "212/212 [==============================] - 5s - loss: 0.1193 - acc: 0.9717 - val_loss: 0.2833 - val_acc: 0.9121\b\b\b\b\b\b\b\b\b\b\b\b\b\b\b\b\b\b\b\b\b\b\b\b\b\b\b\b\b\b\b\b\b\b\b\b\b\b\b\b\b\b\b\b\b\b\b\b\b\b\b\b\b\b\b\b\b\b\b\b\b\b\b\b\b\b\b\b\b\b\b\b\b\b\b\b\b\b\b\b\b\b\b\b\b\b\b\b\b\b\b\b\b\b\b\b\b\b\b\b\b\b\b\b\b\b\b\b\b\b\b\b\b\b\b\b\b\b\b\b\b\b\b\b\b\b\n",
      "Epoch 3/10\n",
      "212/212 [==============================] - 5s - loss: 0.1441 - acc: 0.9670 - val_loss: 0.3448 - val_acc: 0.8681\b\b\b\b\b\b\b\b\b\b\b\b\b\b\b\b\b\b\b\b\b\b\b\b\b\b\b\b\b\b\b\b\b\b\b\b\b\b\b\b\b\b\b\b\b\b\b\b\b\b\b\b\b\b\b\b\b\b\b\b\b\b\b\b\b\b\b\b\b\b\b\b\b\b\b\b\b\b\b\b\b\b\b\b\b\b\b\b\b\b\b\b\b\b\b\b\b\b\b\b\b\b\b\b\b\b\b\b\b\b\b\b\b\b\b\b\b\b\b\b\b\b\b\b\b\b\n",
      "Epoch 4/10\n",
      "212/212 [==============================] - 6s - loss: 0.1575 - acc: 0.9528 - val_loss: 0.3649 - val_acc: 0.9121\b\b\b\b\b\b\b\b\b\b\b\b\b\b\b\b\b\b\b\b\b\b\b\b\b\b\b\b\b\b\b\b\b\b\b\b\b\b\b\b\b\b\b\b\b\b\b\b\b\b\b\b\b\b\b\b\b\b\b\b\b\b\b\b\b\b\b\b\b\b\b\b\b\b\b\b\b\b\b\b\b\b\b\b\b\b\b\b\b\b\b\b\b\b\b\b\b\b\b\b\b\b\b\b\b\b\b\b\b\b\b\b\b\b\b\b\b\b\b\b\b\b\b\b\b\b\n",
      "Epoch 5/10\n",
      "212/212 [==============================] - 5s - loss: 0.0076 - acc: 1.0000 - val_loss: 0.3303 - val_acc: 0.9231\b\b\b\b\b\b\b\b\b\b\b\b\b\b\b\b\b\b\b\b\b\b\b\b\b\b\b\b\b\b\b\b\b\b\b\b\b\b\b\b\b\b\b\b\b\b\b\b\b\b\b\b\b\b\b\b\b\b\b\b\b\b\b\b\b\b\b\b\b\b\b\b\b\b\b\b\b\b\b\b\b\b\b\b\b\b\b\b\b\b\b\b\b\b\b\b\b\b\b\b\b\b\b\b\b\b\b\b\b\b\b\b\b\b\b\b\b\b\b\b\b\b\b\b\b\b\n",
      "Epoch 6/10\n",
      "212/212 [==============================] - 5s - loss: 0.0220 - acc: 0.9953 - val_loss: 0.2993 - val_acc: 0.9231\b\b\b\b\b\b\b\b\b\b\b\b\b\b\b\b\b\b\b\b\b\b\b\b\b\b\b\b\b\b\b\b\b\b\b\b\b\b\b\b\b\b\b\b\b\b\b\b\b\b\b\b\b\b\b\b\b\b\b\b\b\b\b\b\b\b\b\b\b\b\b\b\b\b\b\b\b\b\b\b\b\b\b\b\b\b\b\b\b\b\b\b\b\b\b\b\b\b\b\b\b\b\b\b\b\b\b\b\b\b\b\b\b\b\b\b\b\b\b\b\b\b\b\b\b\b\n",
      "Epoch 7/10\n",
      "212/212 [==============================] - 5s - loss: 0.0173 - acc: 0.9906 - val_loss: 0.3481 - val_acc: 0.9341\b\b\b\b\b\b\b\b\b\b\b\b\b\b\b\b\b\b\b\b\b\b\b\b\b\b\b\b\b\b\b\b\b\b\b\b\b\b\b\b\b\b\b\b\b\b\b\b\b\b\b\b\b\b\b\b\b\b\b\b\b\b\b\b\b\b\b\b\b\b\b\b\b\b\b\b\b\b\b\b\b\b\b\b\b\b\b\b\b\b\b\b\b\b\b\b\b\b\b\b\b\b\b\b\b\b\b\b\b\b\b\b\b\b\b\b\b\b\b\b\b\b\b\b\b\b\n",
      "Epoch 8/10\n",
      "212/212 [==============================] - 5s - loss: 0.0901 - acc: 0.9811 - val_loss: 0.3098 - val_acc: 0.9011\b\b\b\b\b\b\b\b\b\b\b\b\b\b\b\b\b\b\b\b\b\b\b\b\b\b\b\b\b\b\b\b\b\b\b\b\b\b\b\b\b\b\b\b\b\b\b\b\b\b\b\b\b\b\b\b\b\b\b\b\b\b\b\b\b\b\b\b\b\b\b\b\b\b\b\b\b\b\b\b\b\b\b\b\b\b\b\b\b\b\b\b\b\b\b\b\b\b\b\b\b\b\b\b\b\b\b\b\b\b\b\b\b\b\b\b\b\b\b\b\b\b\b\b\b\b\n",
      "Epoch 9/10\n",
      "212/212 [==============================] - 5s - loss: 0.0431 - acc: 0.9906 - val_loss: 0.2892 - val_acc: 0.9121\b\b\b\b\b\b\b\b\b\b\b\b\b\b\b\b\b\b\b\b\b\b\b\b\b\b\b\b\b\b\b\b\b\b\b\b\b\b\b\b\b\b\b\b\b\b\b\b\b\b\b\b\b\b\b\b\b\b\b\b\b\b\b\b\b\b\b\b\b\b\b\b\b\b\b\b\b\b\b\b\b\b\b\b\b\b\b\b\b\b\b\b\b\b\b\b\b\b\b\b\b\b\b\b\b\b\b\b\b\b\b\b\b\b\b\b\b\b\b\b\b\b\b\b\b\b\n",
      "Epoch 10/10\n",
      "212/212 [==============================] - 5s - loss: 0.0059 - acc: 1.0000 - val_loss: 0.3254 - val_acc: 0.9341\b\b\b\b\b\b\b\b\b\b\b\b\b\b\b\b\b\b\b\b\b\b\b\b\b\b\b\b\b\b\b\b\b\b\b\b\b\b\b\b\b\b\b\b\b\b\b\b\b\b\b\b\b\b\b\b\b\b\b\b\b\b\b\b\b\b\b\b\b\b\b\b\b\b\b\b\b\b\b\b\b\b\b\b\b\b\b\b\b\b\b\b\b\b\b\b\b\b\b\b\b\b\b\b\b\b\b\b\b\b\b\b\b\b\b\b\b\b\b\b\b\b\b\b\b\b\n"
     ]
    },
    {
     "data": {
      "text/plain": [
       "<keras.callbacks.History at 0x7f87639f24e0>"
      ]
     },
     "execution_count": 81,
     "metadata": {},
     "output_type": "execute_result"
    }
   ],
   "source": [
    "model.fit(X_train, y_train, epochs=10, batch_size=100, validation_split=0.3)"
   ]
  },
  {
   "cell_type": "code",
   "execution_count": 82,
   "metadata": {},
   "outputs": [
    {
     "name": "stdout",
     "output_type": "stream",
     "text": [
      "303/303 [==============================] - 2s     \b\b\b\b\b\b\b\b\b\b\b\b\b\b\b\b\b\b\b\b\b\b\b\b\b\b\b\b\b\b\b\b\b\b\b\b\b\b\b\b\b\b\b\b\b\b\b\b\b\b\b\b\b\b\b\b\b\b\b\b\b\b\b\b\b\b\b\b\b\b\b\b\b\b\b\b\b\b\b\b\b\b\b\b\b\b\b\b\b\b\b\b\b\b\b\b\b\b\b\b\b\b\b\b\b\b\b\b\b\b\b\b\b\b\b\b\b\b\b\b\b\b\b\b\b\b\b\b\b\b\b\b\b\b\b\b\b\b\b\b\b\b\b\b\b\b\b\b\b\b\b\b\b\b\b\b\b\b\b\b\b\b\b\b\b\b\b\b\b\b\b\b\b\b\b\b\b\b\b\b\b\b\b\b\b\b\b\b\b\b\b\b\b\b\b\b\b\b\b\b\b\b\b\b\b\b\b\b\b\b\b\b\b\b\b\b\b\b\b\b\b\b\b\b\b\b\b\b\b\b\b\b\b\b\b\b\b\b\b\b\b\b\b\b\b\b\b\b\b\b\b\b\b\b\b\b\b\b\b\b\b\b\b\b\b\b\b\b\b\b\b\b\b\b\b\b\b\b\b\b\b\b\b\b\b\b\b\b\b\b\b\b\b\b\b\b\b\b\b\b\b\b\b\b\b\b\b\b\b\b\b\b\b\b\b\b\b\b\b\b\b\b\b\b\b\b\b\b\b\b\b\b\b\b\b\b\b\b\b\b\b\b\b\b\b\b\b\b\b\b\b\b\b\b\b\b\b\b\b\b\b\b\b\b\b\b\b\b\b\b\b\b\b\b\b\b\b\b\b\b\b\b\b\b\b\b\b\b\b\b\b\b\b\b\b\b\b\b\b\b\b\b\b\b\b\b\b\b\b\b\b\b\b\b\b\b\b\b\b\b\b\b\b\b\b\b\b\b\b\b\b\b\b\b\b\b\b\b\b\b\b\b\b\b\b\b\b\b\b\b\n"
     ]
    },
    {
     "data": {
      "text/plain": [
       "(0.097872650220439991, 0.98019802019541025)"
      ]
     },
     "execution_count": 82,
     "metadata": {},
     "output_type": "execute_result"
    }
   ],
   "source": [
    "train_loss, train_accuracy = model.evaluate(X_train, y_train, batch_size=32)\n",
    "train_loss, train_accuracy"
   ]
  },
  {
   "cell_type": "code",
   "execution_count": 83,
   "metadata": {},
   "outputs": [
    {
     "name": "stdout",
     "output_type": "stream",
     "text": [
      "76/76 [==============================] - 0s     \b\b\b\b\b\b\b\b\b\b\b\b\b\b\b\b\b\b\b\b\b\b\b\b\b\b\b\b\b\b\b\b\b\b\b\b\b\b\b\b\b\b\b\b\b\b\b\b\b\b\b\b\b\b\b\b\b\b\b\b\b\b\b\b\b\b\b\b\b\b\b\b\b\b\b\b\b\b\b\b\b\b\b\b\b\b\b\b\b\b\b\b\b\b\b\b\n"
     ]
    },
    {
     "data": {
      "text/plain": [
       "(1.0043311848452217, 0.89473684524234975)"
      ]
     },
     "execution_count": 83,
     "metadata": {},
     "output_type": "execute_result"
    }
   ],
   "source": [
    "test_loss, test_accuracy = model.evaluate(X_test, y_test, batch_size=32)\n",
    "test_loss, test_accuracy"
   ]
  },
  {
   "cell_type": "code",
   "execution_count": 84,
   "metadata": {
    "collapsed": true
   },
   "outputs": [],
   "source": [
    "!mkdir models"
   ]
  },
  {
   "cell_type": "code",
   "execution_count": 85,
   "metadata": {
    "collapsed": true
   },
   "outputs": [],
   "source": [
    "model.save('models/conv-vgg.h5')"
   ]
  },
  {
   "cell_type": "code",
   "execution_count": 86,
   "metadata": {},
   "outputs": [
    {
     "name": "stdout",
     "output_type": "stream",
     "text": [
      "total 33868\r\n",
      "-rw-r--r-- 1 nbuser nbuser 34676888 Jul  3 15:15 conv-vgg.h5\r\n"
     ]
    }
   ],
   "source": [
    "!ls -l models"
   ]
  },
  {
   "cell_type": "code",
   "execution_count": null,
   "metadata": {
    "collapsed": true
   },
   "outputs": [],
   "source": []
  }
 ],
 "metadata": {
  "kernelspec": {
   "display_name": "Python 3",
   "language": "python",
   "name": "python3"
  },
  "language_info": {
   "codemirror_mode": {
    "name": "ipython",
    "version": 3
   },
   "file_extension": ".py",
   "mimetype": "text/x-python",
   "name": "python",
   "nbconvert_exporter": "python",
   "pygments_lexer": "ipython3",
   "version": "3.6.1"
  }
 },
 "nbformat": 4,
 "nbformat_minor": 2
}
