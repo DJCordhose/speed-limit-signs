{
 "cells": [
  {
   "cell_type": "markdown",
   "metadata": {},
   "source": [
    "# Retrain a CNN, part 2.2, using bottleneck features\n",
    "* https://blog.keras.io/building-powerful-image-classification-models-using-very-little-data.html"
   ]
  },
  {
   "cell_type": "code",
   "execution_count": 1,
   "metadata": {
    "collapsed": true
   },
   "outputs": [],
   "source": [
    "import warnings\n",
    "warnings.filterwarnings('ignore')"
   ]
  },
  {
   "cell_type": "code",
   "execution_count": 2,
   "metadata": {},
   "outputs": [
    {
     "name": "stdout",
     "output_type": "stream",
     "text": [
      "Populating the interactive namespace from numpy and matplotlib\n"
     ]
    }
   ],
   "source": [
    "%matplotlib inline\n",
    "%pylab inline"
   ]
  },
  {
   "cell_type": "code",
   "execution_count": 3,
   "metadata": {
    "collapsed": true
   },
   "outputs": [],
   "source": [
    "import matplotlib.pylab as plt\n",
    "import numpy as np"
   ]
  },
  {
   "cell_type": "code",
   "execution_count": 4,
   "metadata": {
    "collapsed": true
   },
   "outputs": [],
   "source": [
    "from distutils.version import StrictVersion"
   ]
  },
  {
   "cell_type": "code",
   "execution_count": 5,
   "metadata": {},
   "outputs": [
    {
     "name": "stdout",
     "output_type": "stream",
     "text": [
      "0.18.1\n"
     ]
    }
   ],
   "source": [
    "import sklearn\n",
    "print(sklearn.__version__)\n",
    "\n",
    "assert StrictVersion(sklearn.__version__ ) >= StrictVersion('0.18.1')"
   ]
  },
  {
   "cell_type": "code",
   "execution_count": 6,
   "metadata": {},
   "outputs": [
    {
     "name": "stdout",
     "output_type": "stream",
     "text": [
      "1.2.1\n"
     ]
    }
   ],
   "source": [
    "import tensorflow as tf\n",
    "tf.logging.set_verbosity(tf.logging.ERROR)\n",
    "print(tf.__version__)\n",
    "\n",
    "assert StrictVersion(tf.__version__) >= StrictVersion('1.1.0')"
   ]
  },
  {
   "cell_type": "code",
   "execution_count": 7,
   "metadata": {},
   "outputs": [
    {
     "name": "stderr",
     "output_type": "stream",
     "text": [
      "Using TensorFlow backend.\n"
     ]
    },
    {
     "name": "stdout",
     "output_type": "stream",
     "text": [
      "2.0.6\n"
     ]
    }
   ],
   "source": [
    "import keras\n",
    "print(keras.__version__)\n",
    "\n",
    "assert StrictVersion(keras.__version__) >= StrictVersion('2.0.0')"
   ]
  },
  {
   "cell_type": "markdown",
   "metadata": {},
   "source": [
    "This script goes along the blog post\n",
    "\"Building powerful image classification models using very little data\"\n",
    "from blog.keras.io.\n",
    "It uses data that can be downloaded at:\n",
    "https://www.kaggle.com/c/dogs-vs-cats/data\n",
    "In our setup, we:\n",
    "- created a data/ folder\n",
    "- created train/ and validation/ subfolders inside data/\n",
    "- created cats/ and dogs/ subfolders inside train/ and validation/\n",
    "- put the cat pictures index 0-999 in data/train/cats\n",
    "- put the cat pictures index 1000-1400 in data/validation/cats\n",
    "- put the dogs pictures index 12500-13499 in data/train/dogs\n",
    "- put the dog pictures index 13500-13900 in data/validation/dogs\n",
    "So that we have 1000 training examples for each class, and 400 validation examples for each class.\n",
    "In summary, this is our directory structure:\n",
    "```\n",
    "data/\n",
    "    train/\n",
    "        dogs/\n",
    "            dog001.jpg\n",
    "            dog002.jpg\n",
    "            ...\n",
    "        cats/\n",
    "            cat001.jpg\n",
    "            cat002.jpg\n",
    "            ...\n",
    "    validation/\n",
    "        dogs/\n",
    "            dog001.jpg\n",
    "            dog002.jpg\n",
    "            ...\n",
    "        cats/\n",
    "            cat001.jpg\n",
    "            cat002.jpg\n",
    "            ...\n",
    "```"
   ]
  },
  {
   "cell_type": "code",
   "execution_count": 8,
   "metadata": {},
   "outputs": [
    {
     "name": "stdout",
     "output_type": "stream",
     "text": [
      "total 8.0K\r\n",
      "drwxrwxr-x 4 ubuntu ubuntu 4.0K Aug 31 18:52 train\r\n",
      "drwxrwxr-x 4 ubuntu ubuntu 4.0K Aug 31 18:52 validation\r\n"
     ]
    }
   ],
   "source": [
    "!ls -lh data"
   ]
  },
  {
   "cell_type": "code",
   "execution_count": 11,
   "metadata": {
    "collapsed": true
   },
   "outputs": [],
   "source": [
    "import numpy as np\n",
    "from keras.preprocessing.image import ImageDataGenerator\n",
    "from keras.models import Sequential\n",
    "from keras.layers import Dropout, Flatten, Dense\n",
    "from keras import applications\n",
    "\n",
    "# dimensions of our images.\n",
    "img_width, img_height = 150, 150\n",
    "\n",
    "train_data_dir = 'data/train'\n",
    "validation_data_dir = 'data/validation'\n",
    "nb_train_samples = 2000\n",
    "nb_validation_samples = 800\n",
    "epochs = 50\n",
    "batch_size = 16"
   ]
  },
  {
   "cell_type": "code",
   "execution_count": 12,
   "metadata": {
    "collapsed": true
   },
   "outputs": [],
   "source": [
    "# build the VGG16 network\n",
    "model = applications.VGG16(include_top=False, weights='imagenet')"
   ]
  },
  {
   "cell_type": "markdown",
   "metadata": {},
   "source": [
    "### Next step is to use those saved bottleneck feature activations and train our own, very simple fc layer"
   ]
  },
  {
   "cell_type": "code",
   "execution_count": 15,
   "metadata": {},
   "outputs": [],
   "source": [
    "train_data = np.load(open('bottleneck_features_train.npy', 'rb'))"
   ]
  },
  {
   "cell_type": "code",
   "execution_count": 24,
   "metadata": {},
   "outputs": [
    {
     "data": {
      "text/plain": [
       "(4, 4, 512)"
      ]
     },
     "execution_count": 24,
     "metadata": {},
     "output_type": "execute_result"
    }
   ],
   "source": [
    "train_data.shape[1:]"
   ]
  },
  {
   "cell_type": "code",
   "execution_count": 17,
   "metadata": {},
   "outputs": [],
   "source": [
    "# first half of data is dog (0), second half is cat (1)\n",
    "train_labels = np.array(\n",
    "    [0] * (nb_train_samples // 2) + [1] * (nb_train_samples // 2))"
   ]
  },
  {
   "cell_type": "code",
   "execution_count": 20,
   "metadata": {},
   "outputs": [],
   "source": [
    "# same for validation\n",
    "validation_data = np.load(open('bottleneck_features_validation.npy', 'rb'))\n",
    "validation_labels = np.array(\n",
    "    [0] * (nb_validation_samples // 2) + [1] * (nb_validation_samples // 2))"
   ]
  },
  {
   "cell_type": "code",
   "execution_count": 21,
   "metadata": {
    "collapsed": true
   },
   "outputs": [],
   "source": [
    "model = Sequential()\n",
    "model.add(Flatten(input_shape=train_data.shape[1:]))\n",
    "model.add(Dense(256, activation='relu'))\n",
    "model.add(Dropout(0.5))\n",
    "model.add(Dense(1, activation='sigmoid'))\n",
    "\n",
    "model.compile(optimizer='rmsprop',\n",
    "              loss='binary_crossentropy', metrics=['accuracy'])"
   ]
  },
  {
   "cell_type": "code",
   "execution_count": 22,
   "metadata": {},
   "outputs": [
    {
     "name": "stdout",
     "output_type": "stream",
     "text": [
      "_________________________________________________________________\n",
      "Layer (type)                 Output Shape              Param #   \n",
      "=================================================================\n",
      "flatten_2 (Flatten)          (None, 8192)              0         \n",
      "_________________________________________________________________\n",
      "dense_3 (Dense)              (None, 256)               2097408   \n",
      "_________________________________________________________________\n",
      "dropout_2 (Dropout)          (None, 256)               0         \n",
      "_________________________________________________________________\n",
      "dense_4 (Dense)              (None, 1)                 257       \n",
      "=================================================================\n",
      "Total params: 2,097,665\n",
      "Trainable params: 2,097,665\n",
      "Non-trainable params: 0\n",
      "_________________________________________________________________\n"
     ]
    }
   ],
   "source": [
    "model.summary()"
   ]
  },
  {
   "cell_type": "code",
   "execution_count": 25,
   "metadata": {},
   "outputs": [
    {
     "name": "stdout",
     "output_type": "stream",
     "text": [
      "Train on 2000 samples, validate on 800 samples\n",
      "Epoch 1/50\n",
      "2000/2000 [==============================] - 1s - loss: 0.8996 - acc: 0.7615 - val_loss: 0.3003 - val_acc: 0.8675\n",
      "Epoch 2/50\n",
      "2000/2000 [==============================] - 0s - loss: 0.3514 - acc: 0.8585 - val_loss: 0.3761 - val_acc: 0.8375\n",
      "Epoch 3/50\n",
      "2000/2000 [==============================] - 0s - loss: 0.2859 - acc: 0.8860 - val_loss: 0.2506 - val_acc: 0.8988\n",
      "Epoch 4/50\n",
      "2000/2000 [==============================] - 0s - loss: 0.2573 - acc: 0.9115 - val_loss: 0.3732 - val_acc: 0.8575\n",
      "Epoch 5/50\n",
      "2000/2000 [==============================] - 0s - loss: 0.2186 - acc: 0.9150 - val_loss: 0.2909 - val_acc: 0.9087\n",
      "Epoch 6/50\n",
      "2000/2000 [==============================] - 0s - loss: 0.2290 - acc: 0.9190 - val_loss: 0.3718 - val_acc: 0.8812\n",
      "Epoch 7/50\n",
      "2000/2000 [==============================] - 0s - loss: 0.1811 - acc: 0.9305 - val_loss: 0.3277 - val_acc: 0.9038\n",
      "Epoch 8/50\n",
      "2000/2000 [==============================] - 0s - loss: 0.1483 - acc: 0.9495 - val_loss: 0.4777 - val_acc: 0.8650\n",
      "Epoch 9/50\n",
      "2000/2000 [==============================] - 0s - loss: 0.1726 - acc: 0.9440 - val_loss: 0.3357 - val_acc: 0.9062\n",
      "Epoch 10/50\n",
      "2000/2000 [==============================] - 0s - loss: 0.1407 - acc: 0.9515 - val_loss: 0.7321 - val_acc: 0.8113\n",
      "Epoch 11/50\n",
      "2000/2000 [==============================] - 0s - loss: 0.1062 - acc: 0.9560 - val_loss: 0.4178 - val_acc: 0.9012\n",
      "Epoch 12/50\n",
      "2000/2000 [==============================] - 0s - loss: 0.1119 - acc: 0.9610 - val_loss: 0.4422 - val_acc: 0.8988\n",
      "Epoch 13/50\n",
      "2000/2000 [==============================] - 0s - loss: 0.0906 - acc: 0.9710 - val_loss: 0.4602 - val_acc: 0.9038\n",
      "Epoch 14/50\n",
      "2000/2000 [==============================] - 0s - loss: 0.0909 - acc: 0.9660 - val_loss: 0.4741 - val_acc: 0.9062\n",
      "Epoch 15/50\n",
      "2000/2000 [==============================] - 0s - loss: 0.0817 - acc: 0.9715 - val_loss: 0.5284 - val_acc: 0.8962\n",
      "Epoch 16/50\n",
      "2000/2000 [==============================] - 0s - loss: 0.0591 - acc: 0.9795 - val_loss: 0.5634 - val_acc: 0.8912\n",
      "Epoch 17/50\n",
      "2000/2000 [==============================] - 0s - loss: 0.0738 - acc: 0.9745 - val_loss: 0.6012 - val_acc: 0.9012\n",
      "Epoch 18/50\n",
      "2000/2000 [==============================] - 0s - loss: 0.0647 - acc: 0.9785 - val_loss: 0.9832 - val_acc: 0.8475\n",
      "Epoch 19/50\n",
      "2000/2000 [==============================] - 0s - loss: 0.0597 - acc: 0.9810 - val_loss: 0.6146 - val_acc: 0.9025\n",
      "Epoch 20/50\n",
      "2000/2000 [==============================] - 0s - loss: 0.0493 - acc: 0.9825 - val_loss: 0.5983 - val_acc: 0.9012\n",
      "Epoch 21/50\n",
      "2000/2000 [==============================] - 0s - loss: 0.0513 - acc: 0.9890 - val_loss: 0.7402 - val_acc: 0.8862\n",
      "Epoch 22/50\n",
      "2000/2000 [==============================] - 0s - loss: 0.0460 - acc: 0.9805 - val_loss: 0.6586 - val_acc: 0.9062\n",
      "Epoch 23/50\n",
      "2000/2000 [==============================] - 0s - loss: 0.0468 - acc: 0.9840 - val_loss: 0.6205 - val_acc: 0.9000\n",
      "Epoch 24/50\n",
      "2000/2000 [==============================] - 0s - loss: 0.0260 - acc: 0.9920 - val_loss: 0.7162 - val_acc: 0.8962\n",
      "Epoch 25/50\n",
      "2000/2000 [==============================] - 0s - loss: 0.0400 - acc: 0.9855 - val_loss: 0.7215 - val_acc: 0.9012\n",
      "Epoch 26/50\n",
      "2000/2000 [==============================] - 0s - loss: 0.0290 - acc: 0.9880 - val_loss: 0.7875 - val_acc: 0.8925\n",
      "Epoch 27/50\n",
      "2000/2000 [==============================] - 0s - loss: 0.0337 - acc: 0.9900 - val_loss: 0.7253 - val_acc: 0.8975\n",
      "Epoch 28/50\n",
      "2000/2000 [==============================] - 0s - loss: 0.0248 - acc: 0.9930 - val_loss: 0.7992 - val_acc: 0.9075\n",
      "Epoch 29/50\n",
      "2000/2000 [==============================] - 0s - loss: 0.0309 - acc: 0.9905 - val_loss: 0.7616 - val_acc: 0.8988\n",
      "Epoch 30/50\n",
      "2000/2000 [==============================] - 0s - loss: 0.0216 - acc: 0.9920 - val_loss: 0.8326 - val_acc: 0.9038\n",
      "Epoch 31/50\n",
      "2000/2000 [==============================] - 0s - loss: 0.0304 - acc: 0.9915 - val_loss: 0.8008 - val_acc: 0.9062\n",
      "Epoch 32/50\n",
      "2000/2000 [==============================] - 0s - loss: 0.0405 - acc: 0.9895 - val_loss: 0.8107 - val_acc: 0.9050\n",
      "Epoch 33/50\n",
      "2000/2000 [==============================] - 0s - loss: 0.0297 - acc: 0.9915 - val_loss: 1.0684 - val_acc: 0.8825\n",
      "Epoch 34/50\n",
      "2000/2000 [==============================] - 0s - loss: 0.0258 - acc: 0.9880 - val_loss: 0.8165 - val_acc: 0.8962\n",
      "Epoch 35/50\n",
      "2000/2000 [==============================] - 0s - loss: 0.0185 - acc: 0.9950 - val_loss: 0.8440 - val_acc: 0.8975\n",
      "Epoch 36/50\n",
      "2000/2000 [==============================] - 0s - loss: 0.0229 - acc: 0.9920 - val_loss: 0.9580 - val_acc: 0.8925\n",
      "Epoch 37/50\n",
      "2000/2000 [==============================] - 0s - loss: 0.0137 - acc: 0.9950 - val_loss: 0.8580 - val_acc: 0.8988\n",
      "Epoch 38/50\n",
      "2000/2000 [==============================] - 0s - loss: 0.0219 - acc: 0.9935 - val_loss: 1.2534 - val_acc: 0.8638\n",
      "Epoch 39/50\n",
      "2000/2000 [==============================] - 0s - loss: 0.0103 - acc: 0.9950 - val_loss: 0.8610 - val_acc: 0.8962\n",
      "Epoch 40/50\n",
      "2000/2000 [==============================] - 0s - loss: 0.0077 - acc: 0.9965 - val_loss: 1.0522 - val_acc: 0.8875\n",
      "Epoch 41/50\n",
      "2000/2000 [==============================] - 0s - loss: 0.0152 - acc: 0.9960 - val_loss: 0.9590 - val_acc: 0.9038\n",
      "Epoch 42/50\n",
      "2000/2000 [==============================] - 0s - loss: 0.0072 - acc: 0.9980 - val_loss: 0.9743 - val_acc: 0.8975\n",
      "Epoch 43/50\n",
      "2000/2000 [==============================] - 0s - loss: 0.0223 - acc: 0.9935 - val_loss: 0.9335 - val_acc: 0.9050\n",
      "Epoch 44/50\n",
      "2000/2000 [==============================] - 0s - loss: 0.0173 - acc: 0.9950 - val_loss: 0.9496 - val_acc: 0.9050\n",
      "Epoch 45/50\n",
      "2000/2000 [==============================] - 0s - loss: 0.0089 - acc: 0.9965 - val_loss: 0.9533 - val_acc: 0.8975\n",
      "Epoch 46/50\n",
      "2000/2000 [==============================] - 0s - loss: 0.0076 - acc: 0.9975 - val_loss: 1.0718 - val_acc: 0.8900\n",
      "Epoch 47/50\n",
      "2000/2000 [==============================] - 0s - loss: 0.0226 - acc: 0.9950 - val_loss: 1.0592 - val_acc: 0.8962\n",
      "Epoch 48/50\n",
      "2000/2000 [==============================] - 0s - loss: 0.0078 - acc: 0.9980 - val_loss: 0.9537 - val_acc: 0.8950\n",
      "Epoch 49/50\n",
      "2000/2000 [==============================] - 0s - loss: 0.0169 - acc: 0.9945 - val_loss: 1.4499 - val_acc: 0.8588\n",
      "Epoch 50/50\n",
      "2000/2000 [==============================] - 0s - loss: 0.0159 - acc: 0.9970 - val_loss: 0.9510 - val_acc: 0.9025\n"
     ]
    },
    {
     "data": {
      "text/plain": [
       "<keras.callbacks.History at 0x7f16f7ff8eb8>"
      ]
     },
     "execution_count": 25,
     "metadata": {},
     "output_type": "execute_result"
    }
   ],
   "source": [
    "model.fit(train_data, train_labels,\n",
    "          epochs=epochs,\n",
    "          batch_size=batch_size,\n",
    "          validation_data=(validation_data, validation_labels))"
   ]
  },
  {
   "cell_type": "code",
   "execution_count": 26,
   "metadata": {
    "collapsed": true
   },
   "outputs": [],
   "source": [
    "top_model_weights_path = 'bottleneck_fc_model.h5'\n",
    "model.save_weights(top_model_weights_path)"
   ]
  },
  {
   "cell_type": "code",
   "execution_count": null,
   "metadata": {
    "collapsed": true
   },
   "outputs": [],
   "source": []
  }
 ],
 "metadata": {
  "kernelspec": {
   "display_name": "Python 3",
   "language": "python",
   "name": "python3"
  },
  "language_info": {
   "codemirror_mode": {
    "name": "ipython",
    "version": 3
   },
   "file_extension": ".py",
   "mimetype": "text/x-python",
   "name": "python",
   "nbconvert_exporter": "python",
   "pygments_lexer": "ipython3",
   "version": "3.6.1"
  }
 },
 "nbformat": 4,
 "nbformat_minor": 2
}
