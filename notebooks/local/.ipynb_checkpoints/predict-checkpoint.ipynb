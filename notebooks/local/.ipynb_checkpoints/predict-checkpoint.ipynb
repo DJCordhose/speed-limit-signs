{
 "cells": [
  {
   "cell_type": "markdown",
   "metadata": {},
   "source": [
    "# German Speed Limit Sign Recognition with Tensorflow and Keras\n",
    "## Prediction part: loads pre-trained model and gives softmax prediction for label"
   ]
  },
  {
   "cell_type": "code",
   "execution_count": 1,
   "metadata": {
    "collapsed": false
   },
   "outputs": [
    {
     "name": "stdout",
     "output_type": "stream",
     "text": [
      "Populating the interactive namespace from numpy and matplotlib\n"
     ]
    }
   ],
   "source": [
    "%matplotlib inline\n",
    "%pylab inline"
   ]
  },
  {
   "cell_type": "code",
   "execution_count": 2,
   "metadata": {
    "collapsed": true
   },
   "outputs": [],
   "source": [
    "import warnings\n",
    "warnings.filterwarnings('ignore')"
   ]
  },
  {
   "cell_type": "code",
   "execution_count": 3,
   "metadata": {
    "collapsed": false
   },
   "outputs": [
    {
     "data": {
      "text/plain": [
       "'0.18.1'"
      ]
     },
     "execution_count": 3,
     "metadata": {},
     "output_type": "execute_result"
    }
   ],
   "source": [
    "import sklearn\n",
    "# should at least be 0.18\n",
    "sklearn.__version__"
   ]
  },
  {
   "cell_type": "code",
   "execution_count": 4,
   "metadata": {
    "collapsed": false
   },
   "outputs": [
    {
     "data": {
      "text/plain": [
       "'1.0.0'"
      ]
     },
     "execution_count": 4,
     "metadata": {},
     "output_type": "execute_result"
    }
   ],
   "source": [
    "import tensorflow as tf\n",
    "tf.logging.set_verbosity(tf.logging.ERROR)\n",
    "# should at least be 1.0\n",
    "tf.__version__"
   ]
  },
  {
   "cell_type": "code",
   "execution_count": 5,
   "metadata": {
    "collapsed": false
   },
   "outputs": [
    {
     "name": "stderr",
     "output_type": "stream",
     "text": [
      "Using TensorFlow backend.\n"
     ]
    },
    {
     "data": {
      "text/plain": [
       "'2.0.3'"
      ]
     },
     "execution_count": 5,
     "metadata": {},
     "output_type": "execute_result"
    }
   ],
   "source": [
    "import keras as keras\n",
    "# should at least be 1.2 and use TensorFlow backend\n",
    "keras.__version__"
   ]
  },
  {
   "cell_type": "code",
   "execution_count": 6,
   "metadata": {
    "collapsed": false
   },
   "outputs": [],
   "source": [
    "from keras.models import load_model"
   ]
  },
  {
   "cell_type": "code",
   "execution_count": 8,
   "metadata": {
    "collapsed": false
   },
   "outputs": [],
   "source": [
    "model = load_model('models/conv_20_epoch_60_percent.h5')"
   ]
  },
  {
   "cell_type": "code",
   "execution_count": 9,
   "metadata": {
    "collapsed": true
   },
   "outputs": [],
   "source": [
    "import skimage.transform\n",
    "def predict(image):\n",
    "    # normalize\n",
    "    image64 = skimage.transform.resize(image, (64, 64))\n",
    "    X_sample = np.array([image64])\n",
    "    prediction = model.predict(X_sample)\n",
    "    predicted_category = np.argmax(prediction, axis=1)\n",
    "    return predicted_category, prediction"
   ]
  },
  {
   "cell_type": "code",
   "execution_count": 42,
   "metadata": {
    "collapsed": false
   },
   "outputs": [],
   "source": [
    "import skimage.data\n",
    "ROOT_PATH = \"\"\n",
    "\n",
    "# training data works well - as expected\n",
    "# file_name = \"../../data/speed-limit-signs/0/00000.ppm\"\n",
    "\n",
    "# real life detail pictures also work quite ok\n",
    "# file_name = \"../../data/real-world/30-slim.jpg\" # should be 0, 62% prediction: CORRECT\n",
    "# file_name = \"../../data/real-world/50-fence.jpg\" # should be 1, 97% prediction: CORRECT\n",
    "# file_name = \"../../data/real-world/70-tree.jpg\" # should be 2, 27% prediction, 120 has 36% prediction: INCORRECT\n",
    "\n",
    "# no translation invariance trained into model\n",
    "# overviews do not work at all\n",
    "# file_name = \"../../data/real-world/80-scenery.jpg\" # should be 3, 2% prediction, 30 has 67% prediction: INCORRECT\n",
    "# file_name = \"../../data/real-world/100-sky-cutoff.jpg\" # should be 4, 0.8% prediction, 120 has 40% prediction: INCORRECT\n",
    "# file_name = \"../../data/real-world/120-motorway.jpg\" # should be 5, 2% prediction, 50 has 40% prediction: INCORRECT\n",
    "\n",
    "# same images as zoomed in details, better, but still mostly incorrect\n",
    "# file_name = \"../../data/real-world/80-scenery-detail.jpg\" # should be 3, 19% prediction, 120 has 63% prediction: INCORRECT\n",
    "# file_name = \"../../data/real-world/100-sky-cutoff-detail.jpg\" # should be 4, 22% prediction, 120 has 59% prediction: INCORRECT\n",
    "file_name = \"../../data/real-world/120-motorway-detail.jpg\" # should be 5, 66% prediction: CORRECT\n",
    "\n",
    "image = skimage.data.imread(file_name)"
   ]
  },
  {
   "cell_type": "code",
   "execution_count": 43,
   "metadata": {
    "collapsed": true
   },
   "outputs": [],
   "source": [
    "predicted_category, prediction = predict(image)"
   ]
  },
  {
   "cell_type": "code",
   "execution_count": 44,
   "metadata": {
    "collapsed": false
   },
   "outputs": [
    {
     "data": {
      "text/plain": [
       "array([[  5.96586142e-15,   7.23375136e-13,   8.56993559e-20,\n",
       "          5.69490193e-15,   6.31699860e-02,   9.36829984e-01]], dtype=float32)"
      ]
     },
     "execution_count": 44,
     "metadata": {},
     "output_type": "execute_result"
    }
   ],
   "source": [
    "prediction"
   ]
  },
  {
   "cell_type": "code",
   "execution_count": 45,
   "metadata": {
    "collapsed": false
   },
   "outputs": [
    {
     "data": {
      "text/plain": [
       "array([5])"
      ]
     },
     "execution_count": 45,
     "metadata": {},
     "output_type": "execute_result"
    }
   ],
   "source": [
    "predicted_category"
   ]
  },
  {
   "cell_type": "code",
   "execution_count": null,
   "metadata": {
    "collapsed": true
   },
   "outputs": [],
   "source": []
  }
 ],
 "metadata": {
  "anaconda-cloud": {},
  "kernelspec": {
   "display_name": "Python 3",
   "language": "python",
   "name": "python3"
  },
  "language_info": {
   "codemirror_mode": {
    "name": "ipython",
    "version": 3
   },
   "file_extension": ".py",
   "mimetype": "text/x-python",
   "name": "python",
   "nbconvert_exporter": "python",
   "pygments_lexer": "ipython3",
   "version": "3.6.0"
  }
 },
 "nbformat": 4,
 "nbformat_minor": 0
}
