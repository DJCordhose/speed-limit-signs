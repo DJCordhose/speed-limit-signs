{
 "cells": [
  {
   "cell_type": "markdown",
   "metadata": {},
   "source": [
    "# Retrain a CNN, part 3, fine tuning bottleneck layer\n",
    "* https://blog.keras.io/building-powerful-image-classification-models-using-very-little-data.html\n",
    "* based on https://gist.github.com/fchollet/7eb39b44eb9e16e59632d25fb3119975 including comments to get things to work (gist does NOT just work out of the box)"
   ]
  },
  {
   "cell_type": "code",
   "execution_count": 1,
   "metadata": {
    "collapsed": true
   },
   "outputs": [],
   "source": [
    "import warnings\n",
    "warnings.filterwarnings('ignore')"
   ]
  },
  {
   "cell_type": "code",
   "execution_count": 2,
   "metadata": {},
   "outputs": [
    {
     "name": "stdout",
     "output_type": "stream",
     "text": [
      "Populating the interactive namespace from numpy and matplotlib\n"
     ]
    }
   ],
   "source": [
    "%matplotlib inline\n",
    "%pylab inline"
   ]
  },
  {
   "cell_type": "code",
   "execution_count": 3,
   "metadata": {
    "collapsed": true
   },
   "outputs": [],
   "source": [
    "import matplotlib.pylab as plt\n",
    "import numpy as np"
   ]
  },
  {
   "cell_type": "code",
   "execution_count": 4,
   "metadata": {
    "collapsed": true
   },
   "outputs": [],
   "source": [
    "from distutils.version import StrictVersion"
   ]
  },
  {
   "cell_type": "code",
   "execution_count": 5,
   "metadata": {},
   "outputs": [
    {
     "name": "stdout",
     "output_type": "stream",
     "text": [
      "0.18.1\n"
     ]
    }
   ],
   "source": [
    "import sklearn\n",
    "print(sklearn.__version__)\n",
    "\n",
    "assert StrictVersion(sklearn.__version__ ) >= StrictVersion('0.18.1')"
   ]
  },
  {
   "cell_type": "code",
   "execution_count": 6,
   "metadata": {},
   "outputs": [
    {
     "name": "stdout",
     "output_type": "stream",
     "text": [
      "1.2.1\n"
     ]
    }
   ],
   "source": [
    "import tensorflow as tf\n",
    "tf.logging.set_verbosity(tf.logging.ERROR)\n",
    "print(tf.__version__)\n",
    "\n",
    "assert StrictVersion(tf.__version__) >= StrictVersion('1.1.0')"
   ]
  },
  {
   "cell_type": "code",
   "execution_count": 7,
   "metadata": {},
   "outputs": [
    {
     "name": "stderr",
     "output_type": "stream",
     "text": [
      "Using TensorFlow backend.\n"
     ]
    },
    {
     "name": "stdout",
     "output_type": "stream",
     "text": [
      "2.0.6\n"
     ]
    }
   ],
   "source": [
    "import keras\n",
    "print(keras.__version__)\n",
    "\n",
    "assert StrictVersion(keras.__version__) >= StrictVersion('2.0.0')"
   ]
  },
  {
   "cell_type": "markdown",
   "metadata": {},
   "source": [
    "This script goes along the blog post\n",
    "\"Building powerful image classification models using very little data\"\n",
    "from blog.keras.io.\n",
    "It uses data that can be downloaded at:\n",
    "https://www.kaggle.com/c/dogs-vs-cats/data\n",
    "In our setup, we:\n",
    "- created a data/ folder\n",
    "- created train/ and validation/ subfolders inside data/\n",
    "- created cats/ and dogs/ subfolders inside train/ and validation/\n",
    "- put the cat pictures index 0-999 in data/train/cats\n",
    "- put the cat pictures index 1000-1400 in data/validation/cats\n",
    "- put the dogs pictures index 12500-13499 in data/train/dogs\n",
    "- put the dog pictures index 13500-13900 in data/validation/dogs\n",
    "So that we have 1000 training examples for each class, and 400 validation examples for each class.\n",
    "In summary, this is our directory structure:\n",
    "```\n",
    "data/\n",
    "    train/\n",
    "        dogs/\n",
    "            dog001.jpg\n",
    "            dog002.jpg\n",
    "            ...\n",
    "        cats/\n",
    "            cat001.jpg\n",
    "            cat002.jpg\n",
    "            ...\n",
    "    validation/\n",
    "        dogs/\n",
    "            dog001.jpg\n",
    "            dog002.jpg\n",
    "            ...\n",
    "        cats/\n",
    "            cat001.jpg\n",
    "            cat002.jpg\n",
    "            ...\n",
    "```"
   ]
  },
  {
   "cell_type": "code",
   "execution_count": 8,
   "metadata": {},
   "outputs": [],
   "source": [
    "from keras import applications\n",
    "from keras.preprocessing.image import ImageDataGenerator\n",
    "from keras import optimizers\n",
    "from keras.models import Model, Sequential\n",
    "from keras.layers import Dropout, Flatten, Dense, Input"
   ]
  },
  {
   "cell_type": "code",
   "execution_count": 9,
   "metadata": {
    "collapsed": true
   },
   "outputs": [],
   "source": [
    "# dimensions of our images.\n",
    "img_width, img_height = 150, 150\n",
    "\n",
    "train_data_dir = 'data/train'\n",
    "validation_data_dir = 'data/validation'\n",
    "nb_train_samples = 2000\n",
    "nb_validation_samples = 800"
   ]
  },
  {
   "cell_type": "code",
   "execution_count": 10,
   "metadata": {},
   "outputs": [],
   "source": [
    "input_tensor = Input(shape=(img_width, img_height, 3))\n",
    "base_model = applications.VGG16(weights='imagenet', include_top=False, input_tensor=input_tensor)"
   ]
  },
  {
   "cell_type": "code",
   "execution_count": 11,
   "metadata": {},
   "outputs": [
    {
     "name": "stdout",
     "output_type": "stream",
     "text": [
      "_________________________________________________________________\n",
      "Layer (type)                 Output Shape              Param #   \n",
      "=================================================================\n",
      "input_1 (InputLayer)         (None, 150, 150, 3)       0         \n",
      "_________________________________________________________________\n",
      "block1_conv1 (Conv2D)        (None, 150, 150, 64)      1792      \n",
      "_________________________________________________________________\n",
      "block1_conv2 (Conv2D)        (None, 150, 150, 64)      36928     \n",
      "_________________________________________________________________\n",
      "block1_pool (MaxPooling2D)   (None, 75, 75, 64)        0         \n",
      "_________________________________________________________________\n",
      "block2_conv1 (Conv2D)        (None, 75, 75, 128)       73856     \n",
      "_________________________________________________________________\n",
      "block2_conv2 (Conv2D)        (None, 75, 75, 128)       147584    \n",
      "_________________________________________________________________\n",
      "block2_pool (MaxPooling2D)   (None, 37, 37, 128)       0         \n",
      "_________________________________________________________________\n",
      "block3_conv1 (Conv2D)        (None, 37, 37, 256)       295168    \n",
      "_________________________________________________________________\n",
      "block3_conv2 (Conv2D)        (None, 37, 37, 256)       590080    \n",
      "_________________________________________________________________\n",
      "block3_conv3 (Conv2D)        (None, 37, 37, 256)       590080    \n",
      "_________________________________________________________________\n",
      "block3_pool (MaxPooling2D)   (None, 18, 18, 256)       0         \n",
      "_________________________________________________________________\n",
      "block4_conv1 (Conv2D)        (None, 18, 18, 512)       1180160   \n",
      "_________________________________________________________________\n",
      "block4_conv2 (Conv2D)        (None, 18, 18, 512)       2359808   \n",
      "_________________________________________________________________\n",
      "block4_conv3 (Conv2D)        (None, 18, 18, 512)       2359808   \n",
      "_________________________________________________________________\n",
      "block4_pool (MaxPooling2D)   (None, 9, 9, 512)         0         \n",
      "_________________________________________________________________\n",
      "block5_conv1 (Conv2D)        (None, 9, 9, 512)         2359808   \n",
      "_________________________________________________________________\n",
      "block5_conv2 (Conv2D)        (None, 9, 9, 512)         2359808   \n",
      "_________________________________________________________________\n",
      "block5_conv3 (Conv2D)        (None, 9, 9, 512)         2359808   \n",
      "_________________________________________________________________\n",
      "block5_pool (MaxPooling2D)   (None, 4, 4, 512)         0         \n",
      "=================================================================\n",
      "Total params: 14,714,688\n",
      "Trainable params: 14,714,688\n",
      "Non-trainable params: 0\n",
      "_________________________________________________________________\n"
     ]
    }
   ],
   "source": [
    "base_model.summary()"
   ]
  },
  {
   "cell_type": "code",
   "execution_count": 12,
   "metadata": {},
   "outputs": [],
   "source": [
    "# would be (None, None, 512), but this is not specific enough for Flatten layer further down...\n",
    "bottleneck_output_shape = base_model.output_shape[1:]"
   ]
  },
  {
   "cell_type": "code",
   "execution_count": 13,
   "metadata": {},
   "outputs": [],
   "source": [
    "# so, we manually set this to the dimension we know it really has from previous step\n",
    "bottleneck_output_shape = (4, 4, 512)"
   ]
  },
  {
   "cell_type": "code",
   "execution_count": 14,
   "metadata": {},
   "outputs": [],
   "source": [
    "# build a classifier model to put on top of the convolutional model\n",
    "top_model = Sequential()\n",
    "top_model.add(Flatten(input_shape=bottleneck_output_shape))\n",
    "top_model.add(Dense(256, activation='relu'))\n",
    "top_model.add(Dropout(0.5))\n",
    "top_model.add(Dense(1, activation='sigmoid'))"
   ]
  },
  {
   "cell_type": "code",
   "execution_count": 15,
   "metadata": {},
   "outputs": [
    {
     "name": "stdout",
     "output_type": "stream",
     "text": [
      "_________________________________________________________________\n",
      "Layer (type)                 Output Shape              Param #   \n",
      "=================================================================\n",
      "flatten_1 (Flatten)          (None, 8192)              0         \n",
      "_________________________________________________________________\n",
      "dense_1 (Dense)              (None, 256)               2097408   \n",
      "_________________________________________________________________\n",
      "dropout_1 (Dropout)          (None, 256)               0         \n",
      "_________________________________________________________________\n",
      "dense_2 (Dense)              (None, 1)                 257       \n",
      "=================================================================\n",
      "Total params: 2,097,665\n",
      "Trainable params: 2,097,665\n",
      "Non-trainable params: 0\n",
      "_________________________________________________________________\n"
     ]
    }
   ],
   "source": [
    "top_model.summary()"
   ]
  },
  {
   "cell_type": "code",
   "execution_count": 16,
   "metadata": {},
   "outputs": [],
   "source": [
    "# note that it is necessary to start with a fully-trained\n",
    "# classifier, including the top classifier,\n",
    "# in order to successfully do fine-tuning\n",
    "top_model_weights_path = 'bottleneck_fc_model.h5'\n",
    "top_model.load_weights(top_model_weights_path)"
   ]
  },
  {
   "cell_type": "code",
   "execution_count": 17,
   "metadata": {},
   "outputs": [],
   "source": [
    "model = Model(input=base_model.input, output=top_model(base_model.output))"
   ]
  },
  {
   "cell_type": "code",
   "execution_count": 18,
   "metadata": {},
   "outputs": [
    {
     "data": {
      "text/plain": [
       "[<keras.engine.topology.InputLayer at 0x7f7c845e5da0>,\n",
       " <keras.layers.convolutional.Conv2D at 0x7f7c845e5fd0>,\n",
       " <keras.layers.convolutional.Conv2D at 0x7f7c845f71d0>,\n",
       " <keras.layers.pooling.MaxPooling2D at 0x7f7c845f7438>,\n",
       " <keras.layers.convolutional.Conv2D at 0x7f7c845b0710>,\n",
       " <keras.layers.convolutional.Conv2D at 0x7f7c845b00b8>,\n",
       " <keras.layers.pooling.MaxPooling2D at 0x7f7c845c5c18>,\n",
       " <keras.layers.convolutional.Conv2D at 0x7f7c845819e8>,\n",
       " <keras.layers.convolutional.Conv2D at 0x7f7c84581438>,\n",
       " <keras.layers.convolutional.Conv2D at 0x7f7c84528c88>,\n",
       " <keras.layers.pooling.MaxPooling2D at 0x7f7c84553d30>,\n",
       " <keras.layers.convolutional.Conv2D at 0x7f7c844fb080>,\n",
       " <keras.layers.convolutional.Conv2D at 0x7f7c844fb6a0>,\n",
       " <keras.layers.convolutional.Conv2D at 0x7f7c8450c518>,\n",
       " <keras.layers.pooling.MaxPooling2D at 0x7f7c844a4f60>,\n",
       " <keras.layers.convolutional.Conv2D at 0x7f7c8445b630>,\n",
       " <keras.layers.convolutional.Conv2D at 0x7f7c8445b048>,\n",
       " <keras.layers.convolutional.Conv2D at 0x7f7c84487550>,\n",
       " <keras.layers.pooling.MaxPooling2D at 0x7f7c8442efd0>,\n",
       " <keras.models.Sequential at 0x7f7c8f0cb710>]"
      ]
     },
     "execution_count": 18,
     "metadata": {},
     "output_type": "execute_result"
    }
   ],
   "source": [
    "model.layers"
   ]
  },
  {
   "cell_type": "code",
   "execution_count": 19,
   "metadata": {},
   "outputs": [
    {
     "data": {
      "text/plain": [
       "20"
      ]
     },
     "execution_count": 19,
     "metadata": {},
     "output_type": "execute_result"
    }
   ],
   "source": [
    "len(model.layers)"
   ]
  },
  {
   "cell_type": "code",
   "execution_count": 20,
   "metadata": {
    "collapsed": true
   },
   "outputs": [],
   "source": [
    "first_conv_layer = model.layers[1]"
   ]
  },
  {
   "cell_type": "code",
   "execution_count": 21,
   "metadata": {},
   "outputs": [
    {
     "data": {
      "text/plain": [
       "True"
      ]
     },
     "execution_count": 21,
     "metadata": {},
     "output_type": "execute_result"
    }
   ],
   "source": [
    "first_conv_layer.trainable"
   ]
  },
  {
   "cell_type": "code",
   "execution_count": 22,
   "metadata": {},
   "outputs": [
    {
     "data": {
      "text/plain": [
       "True"
      ]
     },
     "execution_count": 22,
     "metadata": {},
     "output_type": "execute_result"
    }
   ],
   "source": [
    "first_max_pool_layer = model.layers[3]\n",
    "first_max_pool_layer.trainable"
   ]
  },
  {
   "cell_type": "code",
   "execution_count": 23,
   "metadata": {
    "collapsed": true
   },
   "outputs": [],
   "source": [
    "# set the first 15 layers (up to the last conv block)\n",
    "# to non-trainable (weights will not be updated)\n",
    "# so, the general features are kept and we (hopefully) do not have overfitting\n",
    "non_trainable_layers = model.layers[:15]"
   ]
  },
  {
   "cell_type": "code",
   "execution_count": 24,
   "metadata": {},
   "outputs": [
    {
     "data": {
      "text/plain": [
       "[<keras.engine.topology.InputLayer at 0x7f7c845e5da0>,\n",
       " <keras.layers.convolutional.Conv2D at 0x7f7c845e5fd0>,\n",
       " <keras.layers.convolutional.Conv2D at 0x7f7c845f71d0>,\n",
       " <keras.layers.pooling.MaxPooling2D at 0x7f7c845f7438>,\n",
       " <keras.layers.convolutional.Conv2D at 0x7f7c845b0710>,\n",
       " <keras.layers.convolutional.Conv2D at 0x7f7c845b00b8>,\n",
       " <keras.layers.pooling.MaxPooling2D at 0x7f7c845c5c18>,\n",
       " <keras.layers.convolutional.Conv2D at 0x7f7c845819e8>,\n",
       " <keras.layers.convolutional.Conv2D at 0x7f7c84581438>,\n",
       " <keras.layers.convolutional.Conv2D at 0x7f7c84528c88>,\n",
       " <keras.layers.pooling.MaxPooling2D at 0x7f7c84553d30>,\n",
       " <keras.layers.convolutional.Conv2D at 0x7f7c844fb080>,\n",
       " <keras.layers.convolutional.Conv2D at 0x7f7c844fb6a0>,\n",
       " <keras.layers.convolutional.Conv2D at 0x7f7c8450c518>,\n",
       " <keras.layers.pooling.MaxPooling2D at 0x7f7c844a4f60>]"
      ]
     },
     "execution_count": 24,
     "metadata": {},
     "output_type": "execute_result"
    }
   ],
   "source": [
    "non_trainable_layers"
   ]
  },
  {
   "cell_type": "code",
   "execution_count": 25,
   "metadata": {
    "collapsed": true
   },
   "outputs": [],
   "source": [
    "for layer in non_trainable_layers:\n",
    "    layer.trainable = False"
   ]
  },
  {
   "cell_type": "code",
   "execution_count": 26,
   "metadata": {},
   "outputs": [
    {
     "data": {
      "text/plain": [
       "False"
      ]
     },
     "execution_count": 26,
     "metadata": {},
     "output_type": "execute_result"
    }
   ],
   "source": [
    "first_max_pool_layer.trainable"
   ]
  },
  {
   "cell_type": "code",
   "execution_count": 27,
   "metadata": {},
   "outputs": [
    {
     "data": {
      "text/plain": [
       "False"
      ]
     },
     "execution_count": 27,
     "metadata": {},
     "output_type": "execute_result"
    }
   ],
   "source": [
    "first_conv_layer.trainable"
   ]
  },
  {
   "cell_type": "code",
   "execution_count": 28,
   "metadata": {
    "collapsed": true
   },
   "outputs": [],
   "source": [
    "# compile the model with a SGD/momentum optimizer\n",
    "# and a very slow learning rate\n",
    "# make updates very small and non adaptive so we do not ruin previous learnings \n",
    "model.compile(loss='binary_crossentropy',\n",
    "              optimizer=optimizers.SGD(lr=1e-4, momentum=0.9),\n",
    "              metrics=['accuracy'])"
   ]
  },
  {
   "cell_type": "code",
   "execution_count": 29,
   "metadata": {},
   "outputs": [
    {
     "name": "stdout",
     "output_type": "stream",
     "text": [
      "_________________________________________________________________\n",
      "Layer (type)                 Output Shape              Param #   \n",
      "=================================================================\n",
      "input_1 (InputLayer)         (None, 150, 150, 3)       0         \n",
      "_________________________________________________________________\n",
      "block1_conv1 (Conv2D)        (None, 150, 150, 64)      1792      \n",
      "_________________________________________________________________\n",
      "block1_conv2 (Conv2D)        (None, 150, 150, 64)      36928     \n",
      "_________________________________________________________________\n",
      "block1_pool (MaxPooling2D)   (None, 75, 75, 64)        0         \n",
      "_________________________________________________________________\n",
      "block2_conv1 (Conv2D)        (None, 75, 75, 128)       73856     \n",
      "_________________________________________________________________\n",
      "block2_conv2 (Conv2D)        (None, 75, 75, 128)       147584    \n",
      "_________________________________________________________________\n",
      "block2_pool (MaxPooling2D)   (None, 37, 37, 128)       0         \n",
      "_________________________________________________________________\n",
      "block3_conv1 (Conv2D)        (None, 37, 37, 256)       295168    \n",
      "_________________________________________________________________\n",
      "block3_conv2 (Conv2D)        (None, 37, 37, 256)       590080    \n",
      "_________________________________________________________________\n",
      "block3_conv3 (Conv2D)        (None, 37, 37, 256)       590080    \n",
      "_________________________________________________________________\n",
      "block3_pool (MaxPooling2D)   (None, 18, 18, 256)       0         \n",
      "_________________________________________________________________\n",
      "block4_conv1 (Conv2D)        (None, 18, 18, 512)       1180160   \n",
      "_________________________________________________________________\n",
      "block4_conv2 (Conv2D)        (None, 18, 18, 512)       2359808   \n",
      "_________________________________________________________________\n",
      "block4_conv3 (Conv2D)        (None, 18, 18, 512)       2359808   \n",
      "_________________________________________________________________\n",
      "block4_pool (MaxPooling2D)   (None, 9, 9, 512)         0         \n",
      "_________________________________________________________________\n",
      "block5_conv1 (Conv2D)        (None, 9, 9, 512)         2359808   \n",
      "_________________________________________________________________\n",
      "block5_conv2 (Conv2D)        (None, 9, 9, 512)         2359808   \n",
      "_________________________________________________________________\n",
      "block5_conv3 (Conv2D)        (None, 9, 9, 512)         2359808   \n",
      "_________________________________________________________________\n",
      "block5_pool (MaxPooling2D)   (None, 4, 4, 512)         0         \n",
      "_________________________________________________________________\n",
      "sequential_1 (Sequential)    (None, 1)                 2097665   \n",
      "=================================================================\n",
      "Total params: 16,812,353\n",
      "Trainable params: 9,177,089\n",
      "Non-trainable params: 7,635,264\n",
      "_________________________________________________________________\n"
     ]
    }
   ],
   "source": [
    "model.summary()"
   ]
  },
  {
   "cell_type": "code",
   "execution_count": 30,
   "metadata": {
    "collapsed": true
   },
   "outputs": [],
   "source": [
    "# this might actually take a while even on GPU\n",
    "# ~ 92% validation accuracy seems to be realistic\n",
    "epochs = 50\n",
    "batch_size = 16"
   ]
  },
  {
   "cell_type": "code",
   "execution_count": 31,
   "metadata": {
    "collapsed": true
   },
   "outputs": [],
   "source": [
    "# ... and viz progress in tensorboard to see what is going on\n",
    "!rm -rf tf_log/\n",
    "tb_callback = keras.callbacks.TensorBoard(log_dir='./tf_log')"
   ]
  },
  {
   "cell_type": "code",
   "execution_count": 32,
   "metadata": {},
   "outputs": [
    {
     "name": "stdout",
     "output_type": "stream",
     "text": [
      "Found 2000 images belonging to 2 classes.\n",
      "Found 802 images belonging to 2 classes.\n"
     ]
    }
   ],
   "source": [
    "# prepare data augmentation configuration\n",
    "train_datagen = ImageDataGenerator(\n",
    "    rescale=1. / 255,\n",
    "    shear_range=0.2,\n",
    "    zoom_range=0.2,\n",
    "    horizontal_flip=True)\n",
    "\n",
    "test_datagen = ImageDataGenerator(rescale=1. / 255)\n",
    "\n",
    "train_generator = train_datagen.flow_from_directory(\n",
    "    train_data_dir,\n",
    "    target_size=(img_height, img_width),\n",
    "    batch_size=batch_size,\n",
    "    class_mode='binary')\n",
    "\n",
    "validation_generator = test_datagen.flow_from_directory(\n",
    "    validation_data_dir,\n",
    "    target_size=(img_height, img_width),\n",
    "    batch_size=batch_size,\n",
    "    class_mode='binary')"
   ]
  },
  {
   "cell_type": "markdown",
   "metadata": {},
   "source": [
    "![Accuracy](https://djcordhose.github.io/ai/img/tensorboard/fine-tune-acc.png)\n",
    "![Validation Accuracy](https://djcordhose.github.io/ai/img/tensorboard/fine-tune-val-acc.png)"
   ]
  },
  {
   "cell_type": "code",
   "execution_count": 33,
   "metadata": {},
   "outputs": [
    {
     "name": "stdout",
     "output_type": "stream",
     "text": [
      "Epoch 1/50\n",
      "125/125 [==============================] - 34s - loss: 0.4091 - acc: 0.8625 - val_loss: 0.3187 - val_acc: 0.8862\n",
      "Epoch 2/50\n",
      "125/125 [==============================] - 33s - loss: 0.2789 - acc: 0.8970 - val_loss: 0.3067 - val_acc: 0.8715\n",
      "Epoch 3/50\n",
      "125/125 [==============================] - 33s - loss: 0.1814 - acc: 0.9245 - val_loss: 0.2941 - val_acc: 0.8944\n",
      "Epoch 4/50\n",
      "125/125 [==============================] - 33s - loss: 0.1672 - acc: 0.9350 - val_loss: 0.3766 - val_acc: 0.9033\n",
      "Epoch 5/50\n",
      "125/125 [==============================] - 33s - loss: 0.1244 - acc: 0.9520 - val_loss: 0.4618 - val_acc: 0.8969\n",
      "Epoch 6/50\n",
      "125/125 [==============================] - 33s - loss: 0.1533 - acc: 0.9510 - val_loss: 0.3068 - val_acc: 0.9008\n",
      "Epoch 7/50\n",
      "125/125 [==============================] - 33s - loss: 0.0992 - acc: 0.9595 - val_loss: 0.3304 - val_acc: 0.8944\n",
      "Epoch 8/50\n",
      "125/125 [==============================] - 33s - loss: 0.0752 - acc: 0.9730 - val_loss: 0.3888 - val_acc: 0.9173\n",
      "Epoch 9/50\n",
      "125/125 [==============================] - 33s - loss: 0.1049 - acc: 0.9645 - val_loss: 0.4106 - val_acc: 0.9237\n",
      "Epoch 10/50\n",
      "125/125 [==============================] - 33s - loss: 0.0755 - acc: 0.9725 - val_loss: 0.3562 - val_acc: 0.9109\n",
      "Epoch 11/50\n",
      "125/125 [==============================] - 33s - loss: 0.0620 - acc: 0.9775 - val_loss: 0.3737 - val_acc: 0.9224\n",
      "Epoch 12/50\n",
      "125/125 [==============================] - 33s - loss: 0.0565 - acc: 0.9790 - val_loss: 0.3597 - val_acc: 0.9249: 4s - los\n",
      "Epoch 13/50\n",
      "125/125 [==============================] - 33s - loss: 0.0488 - acc: 0.9840 - val_loss: 0.4069 - val_acc: 0.9186\n",
      "Epoch 14/50\n",
      "125/125 [==============================] - 33s - loss: 0.0409 - acc: 0.9870 - val_loss: 0.4732 - val_acc: 0.9173\n",
      "Epoch 15/50\n",
      "125/125 [==============================] - 33s - loss: 0.0487 - acc: 0.9815 - val_loss: 0.3588 - val_acc: 0.9288\n",
      "Epoch 16/50\n",
      "125/125 [==============================] - 33s - loss: 0.0470 - acc: 0.9805 - val_loss: 0.3906 - val_acc: 0.9262\n",
      "Epoch 17/50\n",
      "125/125 [==============================] - 33s - loss: 0.0358 - acc: 0.9880 - val_loss: 0.4580 - val_acc: 0.9148\n",
      "Epoch 18/50\n",
      "125/125 [==============================] - 33s - loss: 0.0374 - acc: 0.9875 - val_loss: 0.3674 - val_acc: 0.9375\n",
      "Epoch 19/50\n",
      "125/125 [==============================] - 33s - loss: 0.0379 - acc: 0.9865 - val_loss: 0.3847 - val_acc: 0.9173A: 5s - \n",
      "Epoch 20/50\n",
      "125/125 [==============================] - 33s - loss: 0.0196 - acc: 0.9940 - val_loss: 0.3979 - val_acc: 0.9313\n",
      "Epoch 21/50\n",
      "125/125 [==============================] - 33s - loss: 0.0499 - acc: 0.9850 - val_loss: 0.3059 - val_acc: 0.9300\n",
      "Epoch 22/50\n",
      "125/125 [==============================] - 33s - loss: 0.0235 - acc: 0.9910 - val_loss: 0.3640 - val_acc: 0.9338\n",
      "Epoch 23/50\n",
      "125/125 [==============================] - 33s - loss: 0.0258 - acc: 0.9880 - val_loss: 0.4132 - val_acc: 0.9351\n",
      "Epoch 24/50\n",
      "125/125 [==============================] - 33s - loss: 0.0403 - acc: 0.9900 - val_loss: 0.3711 - val_acc: 0.9237\n",
      "Epoch 25/50\n",
      "125/125 [==============================] - 33s - loss: 0.0191 - acc: 0.9915 - val_loss: 0.4115 - val_acc: 0.9338\n",
      "Epoch 26/50\n",
      "125/125 [==============================] - 33s - loss: 0.0212 - acc: 0.9915 - val_loss: 0.3551 - val_acc: 0.9377\n",
      "Epoch 27/50\n",
      "125/125 [==============================] - 33s - loss: 0.0369 - acc: 0.9890 - val_loss: 0.3160 - val_acc: 0.9351\n",
      "Epoch 28/50\n",
      "125/125 [==============================] - 33s - loss: 0.0267 - acc: 0.9920 - val_loss: 0.3869 - val_acc: 0.9300\n",
      "Epoch 29/50\n",
      "125/125 [==============================] - 33s - loss: 0.0480 - acc: 0.9870 - val_loss: 0.2798 - val_acc: 0.9313\n",
      "Epoch 30/50\n",
      "125/125 [==============================] - 33s - loss: 0.0181 - acc: 0.9950 - val_loss: 0.3320 - val_acc: 0.9326\n",
      "Epoch 31/50\n",
      "125/125 [==============================] - 33s - loss: 0.0230 - acc: 0.9955 - val_loss: 0.3076 - val_acc: 0.9313.0232 - acc: 0.995\n",
      "Epoch 32/50\n",
      "125/125 [==============================] - 33s - loss: 0.0200 - acc: 0.9940 - val_loss: 0.3829 - val_acc: 0.9389ss: 0.0201 - acc: 0.994\n",
      "Epoch 33/50\n",
      "125/125 [==============================] - 33s - loss: 0.0224 - acc: 0.9920 - val_loss: 0.2956 - val_acc: 0.9402\n",
      "Epoch 34/50\n",
      "125/125 [==============================] - 33s - loss: 0.0129 - acc: 0.9965 - val_loss: 0.5277 - val_acc: 0.9059\n",
      "Epoch 35/50\n",
      "125/125 [==============================] - 33s - loss: 0.0176 - acc: 0.9945 - val_loss: 0.3572 - val_acc: 0.9387\n",
      "Epoch 36/50\n",
      "125/125 [==============================] - 33s - loss: 0.0083 - acc: 0.9975 - val_loss: 0.4379 - val_acc: 0.9351\n",
      "Epoch 37/50\n",
      "125/125 [==============================] - 33s - loss: 0.0196 - acc: 0.9945 - val_loss: 0.3765 - val_acc: 0.9211\n",
      "Epoch 38/50\n",
      "125/125 [==============================] - 33s - loss: 0.0126 - acc: 0.9965 - val_loss: 0.4627 - val_acc: 0.9249\n",
      "Epoch 39/50\n",
      "125/125 [==============================] - 33s - loss: 0.0094 - acc: 0.9975 - val_loss: 0.3406 - val_acc: 0.9313\n",
      "Epoch 40/50\n",
      "125/125 [==============================] - 33s - loss: 0.0111 - acc: 0.9970 - val_loss: 0.4549 - val_acc: 0.9262\n",
      "Epoch 41/50\n",
      "125/125 [==============================] - 33s - loss: 0.0075 - acc: 0.9975 - val_loss: 0.4611 - val_acc: 0.9249\n",
      "Epoch 42/50\n",
      "125/125 [==============================] - 33s - loss: 0.0139 - acc: 0.9955 - val_loss: 0.3249 - val_acc: 0.9453\n",
      "Epoch 43/50\n",
      "125/125 [==============================] - 33s - loss: 0.0151 - acc: 0.9945 - val_loss: 0.4354 - val_acc: 0.9300\n",
      "Epoch 44/50\n",
      "125/125 [==============================] - 33s - loss: 0.0053 - acc: 0.9990 - val_loss: 0.4268 - val_acc: 0.9415\n",
      "Epoch 45/50\n",
      "125/125 [==============================] - 33s - loss: 0.0101 - acc: 0.9975 - val_loss: 0.3936 - val_acc: 0.9364\n",
      "Epoch 46/50\n",
      "125/125 [==============================] - 33s - loss: 0.0032 - acc: 0.9990 - val_loss: 0.3701 - val_acc: 0.9415\n",
      "Epoch 47/50\n",
      "125/125 [==============================] - 33s - loss: 0.0043 - acc: 0.9990 - val_loss: 0.4462 - val_acc: 0.9288\n",
      "Epoch 48/50\n",
      "125/125 [==============================] - 33s - loss: 0.0030 - acc: 0.9985 - val_loss: 0.4536 - val_acc: 0.9249\n",
      "Epoch 49/50\n",
      "125/125 [==============================] - 33s - loss: 0.0131 - acc: 0.9950 - val_loss: 0.3224 - val_acc: 0.9453 ETA: 4s - loss\n",
      "Epoch 50/50\n",
      "125/125 [==============================] - 33s - loss: 0.0032 - acc: 0.9990 - val_loss: 0.4493 - val_acc: 0.9288.\n"
     ]
    },
    {
     "data": {
      "text/plain": [
       "<keras.callbacks.History at 0x7f7c8428f048>"
      ]
     },
     "execution_count": 33,
     "metadata": {},
     "output_type": "execute_result"
    }
   ],
   "source": [
    "# due to very small learning rate\n",
    "# takes ~ 30s per epoch on AWS K80, with 50 epochs: ~ 30 minutes\n",
    "# on GPU might take up to 20 times more\n",
    "\n",
    "# fine-tune the model\n",
    "model.fit_generator(\n",
    "    train_generator,\n",
    "    steps_per_epoch=nb_train_samples // batch_size,\n",
    "    epochs=epochs,\n",
    "    validation_data=validation_generator,\n",
    "    validation_steps=nb_validation_samples // batch_size,\n",
    "    callbacks=[tb_callback])"
   ]
  },
  {
   "cell_type": "code",
   "execution_count": 34,
   "metadata": {},
   "outputs": [],
   "source": [
    "model.save('models/cat-dog-vgg-retrain.hdf5')"
   ]
  },
  {
   "cell_type": "code",
   "execution_count": null,
   "metadata": {
    "collapsed": true
   },
   "outputs": [],
   "source": []
  }
 ],
 "metadata": {
  "kernelspec": {
   "display_name": "Python 3",
   "language": "python",
   "name": "python3"
  },
  "language_info": {
   "codemirror_mode": {
    "name": "ipython",
    "version": 3
   },
   "file_extension": ".py",
   "mimetype": "text/x-python",
   "name": "python",
   "nbconvert_exporter": "python",
   "pygments_lexer": "ipython3",
   "version": "3.6.1"
  }
 },
 "nbformat": 4,
 "nbformat_minor": 2
}
