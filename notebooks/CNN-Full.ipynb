{
 "cells": [
  {
   "cell_type": "code",
   "execution_count": 1,
   "metadata": {
    "collapsed": true
   },
   "outputs": [],
   "source": [
    "import warnings\n",
    "warnings.filterwarnings('ignore')"
   ]
  },
  {
   "cell_type": "code",
   "execution_count": 2,
   "metadata": {},
   "outputs": [
    {
     "name": "stdout",
     "output_type": "stream",
     "text": [
      "Populating the interactive namespace from numpy and matplotlib\n"
     ]
    }
   ],
   "source": [
    "%matplotlib inline\n",
    "%pylab inline"
   ]
  },
  {
   "cell_type": "code",
   "execution_count": 3,
   "metadata": {
    "collapsed": true
   },
   "outputs": [],
   "source": [
    "import matplotlib.pylab as plt\n",
    "# https://docs.scipy.org/doc/numpy/reference/routines.math.html\n",
    "import numpy as np"
   ]
  },
  {
   "cell_type": "code",
   "execution_count": 4,
   "metadata": {
    "collapsed": true
   },
   "outputs": [],
   "source": [
    "from datetime import tzinfo, timedelta, datetime"
   ]
  },
  {
   "cell_type": "code",
   "execution_count": 5,
   "metadata": {
    "collapsed": true
   },
   "outputs": [],
   "source": [
    "from distutils.version import StrictVersion"
   ]
  },
  {
   "cell_type": "code",
   "execution_count": 6,
   "metadata": {},
   "outputs": [
    {
     "data": {
      "text/plain": [
       "'0.18.1'"
      ]
     },
     "execution_count": 6,
     "metadata": {},
     "output_type": "execute_result"
    }
   ],
   "source": [
    "import sklearn\n",
    "\n",
    "assert StrictVersion(sklearn.__version__ ) >= StrictVersion('0.18.1')\n",
    "\n",
    "sklearn.__version__"
   ]
  },
  {
   "cell_type": "code",
   "execution_count": 7,
   "metadata": {},
   "outputs": [
    {
     "data": {
      "text/plain": [
       "'1.2.1'"
      ]
     },
     "execution_count": 7,
     "metadata": {},
     "output_type": "execute_result"
    }
   ],
   "source": [
    "import tensorflow as tf\n",
    "tf.logging.set_verbosity(tf.logging.ERROR)\n",
    "\n",
    "assert StrictVersion(tf.__version__) >= StrictVersion('1.1.0')\n",
    "\n",
    "tf.__version__"
   ]
  },
  {
   "cell_type": "code",
   "execution_count": 8,
   "metadata": {},
   "outputs": [
    {
     "name": "stderr",
     "output_type": "stream",
     "text": [
      "Using TensorFlow backend.\n"
     ]
    },
    {
     "data": {
      "text/plain": [
       "'2.0.6'"
      ]
     },
     "execution_count": 8,
     "metadata": {},
     "output_type": "execute_result"
    }
   ],
   "source": [
    "import keras\n",
    "\n",
    "assert StrictVersion(keras.__version__) >= StrictVersion('2.0.0')\n",
    "\n",
    "keras.__version__"
   ]
  },
  {
   "cell_type": "code",
   "execution_count": 9,
   "metadata": {},
   "outputs": [],
   "source": [
    "# !curl -O https://raw.githubusercontent.com/DJCordhose/speed-limit-signs/master/data/speed-limit-signs.zip\n",
    "# !curl -O https://raw.githubusercontent.com/DJCordhose/speed-limit-signs/master/data/augmented-signs.zip    "
   ]
  },
  {
   "cell_type": "code",
   "execution_count": 10,
   "metadata": {
    "collapsed": true
   },
   "outputs": [],
   "source": [
    "# https://docs.python.org/3/library/zipfile.html\n",
    "# from zipfile import ZipFile\n",
    "# zip = ZipFile(r'speed-limit-signs.zip')\n",
    "# zip.extractall('.')\n",
    "# zip = ZipFile(r'augmented-signs.zip')\n",
    "# zip.extractall('.')"
   ]
  },
  {
   "cell_type": "code",
   "execution_count": 11,
   "metadata": {},
   "outputs": [],
   "source": [
    "# !ls -l speed-limit-signs"
   ]
  },
  {
   "cell_type": "code",
   "execution_count": 12,
   "metadata": {},
   "outputs": [],
   "source": [
    "# !ls -l augmented-signs"
   ]
  },
  {
   "cell_type": "code",
   "execution_count": 13,
   "metadata": {
    "collapsed": true
   },
   "outputs": [],
   "source": [
    "import os\n",
    "import skimage.data\n",
    "import skimage.transform\n",
    "from keras.utils.np_utils import to_categorical\n",
    "import numpy as np\n",
    "\n",
    "def load_data(data_dir, type=\".ppm\"):\n",
    "    num_categories = 6\n",
    "\n",
    "    # Get all subdirectories of data_dir. Each represents a label.\n",
    "    directories = [d for d in os.listdir(data_dir) \n",
    "                   if os.path.isdir(os.path.join(data_dir, d))]\n",
    "    # Loop through the label directories and collect the data in\n",
    "    # two lists, labels and images.\n",
    "    labels = []\n",
    "    images = []\n",
    "    for d in directories:\n",
    "        label_dir = os.path.join(data_dir, d)\n",
    "        file_names = [os.path.join(label_dir, f) for f in os.listdir(label_dir) if f.endswith(type)]\n",
    "        # For each label, load it's images and add them to the images list.\n",
    "        # And add the label number (i.e. directory name) to the labels list.\n",
    "        for f in file_names:\n",
    "            images.append(skimage.data.imread(f))\n",
    "            labels.append(int(d))\n",
    "    images64 = [skimage.transform.resize(image, (64, 64)) for image in images]\n",
    "    y = np.array(labels)\n",
    "    y = to_categorical(y, num_categories)\n",
    "    X = np.array(images64)\n",
    "    return X, y"
   ]
  },
  {
   "cell_type": "code",
   "execution_count": 14,
   "metadata": {
    "collapsed": true
   },
   "outputs": [],
   "source": [
    "# Load datasets.\n",
    "ROOT_PATH = \"./\""
   ]
  },
  {
   "cell_type": "code",
   "execution_count": 15,
   "metadata": {
    "collapsed": true
   },
   "outputs": [],
   "source": [
    "original_dir = os.path.join(ROOT_PATH, \"speed-limit-signs\")\n",
    "original_images, original_labels = load_data(original_dir, type=\".ppm\")"
   ]
  },
  {
   "cell_type": "code",
   "execution_count": 16,
   "metadata": {
    "collapsed": true
   },
   "outputs": [],
   "source": [
    "data_dir = os.path.join(ROOT_PATH, \"augmented-signs\")\n",
    "X, y = load_data(data_dir, type=\".png\")"
   ]
  },
  {
   "cell_type": "code",
   "execution_count": 17,
   "metadata": {
    "collapsed": true
   },
   "outputs": [],
   "source": [
    "from sklearn.model_selection import train_test_split"
   ]
  },
  {
   "cell_type": "code",
   "execution_count": 18,
   "metadata": {
    "collapsed": true
   },
   "outputs": [],
   "source": [
    "checkpoint_callback = keras.callbacks.ModelCheckpoint('../tmp/model-checkpoints/weights.epoch-{epoch:02d}-val_loss-{val_loss:.2f}.hdf5');"
   ]
  },
  {
   "cell_type": "code",
   "execution_count": 19,
   "metadata": {
    "collapsed": true
   },
   "outputs": [],
   "source": [
    "early_stopping_callback = keras.callbacks.EarlyStopping(monitor='val_loss', patience=30, verbose=1)"
   ]
  },
  {
   "cell_type": "code",
   "execution_count": 20,
   "metadata": {
    "collapsed": true
   },
   "outputs": [],
   "source": [
    "# https://github.com/tensorflow/tensorflow/blob/master/tensorflow/tensorboard/README.md\n",
    "# https://keras.io/callbacks/#tensorboard\n",
    "# http://stackoverflow.com/questions/42112260/how-do-i-use-the-tensorboard-callback-of-keras\n",
    "tb_callback = keras.callbacks.TensorBoard(log_dir='../tmp/tf_log')\n",
    "#                                          histogram_freq=1, write_graph=True, write_images=True)\n",
    "#                                          histogram_freq=1, write_graph=True, write_images=True)\n",
    "# tbCallBack = keras.callbacks.TensorBoard(log_dir='./logs', histogram_freq=0, batch_size=32, write_graph=True, write_grads=False, write_images=False, embeddings_freq=0, embeddings_layer_names=None, embeddings_metadata=None)\n",
    "# To start tensorboard\n",
    "# tensorboard --logdir=/mnt/c/Users/olive/Development/ml/tf_log\n",
    "# open http://localhost:6006"
   ]
  },
  {
   "cell_type": "code",
   "execution_count": 22,
   "metadata": {
    "collapsed": true
   },
   "outputs": [],
   "source": [
    "# we want to distribute our different classes equally over test and train, this works using stratify\n",
    "# https://github.com/amueller/scipy-2017-sklearn/blob/master/notebooks/04.Training_and_Testing_Data.ipynb\n",
    "# http://scikit-learn.org/stable/modules/generated/sklearn.model_selection.train_test_split.html\n",
    "\n",
    "X_train, X_test, y_train, y_test = train_test_split(X, y, test_size=0.2, random_state=3, stratify=y, )"
   ]
  },
  {
   "cell_type": "code",
   "execution_count": 23,
   "metadata": {},
   "outputs": [
    {
     "data": {
      "text/plain": [
       "((3032, 64, 64, 3), (3032, 6))"
      ]
     },
     "execution_count": 23,
     "metadata": {},
     "output_type": "execute_result"
    }
   ],
   "source": [
    "X_train.shape, y_train.shape"
   ]
  },
  {
   "cell_type": "code",
   "execution_count": 24,
   "metadata": {},
   "outputs": [
    {
     "name": "stdout",
     "output_type": "stream",
     "text": [
      "_________________________________________________________________\n",
      "Layer (type)                 Output Shape              Param #   \n",
      "=================================================================\n",
      "input_1 (InputLayer)         (None, 64, 64, 3)         0         \n",
      "_________________________________________________________________\n",
      "conv2d_1 (Conv2D)            (None, 62, 62, 64)        1792      \n",
      "_________________________________________________________________\n",
      "conv2d_2 (Conv2D)            (None, 60, 60, 64)        36928     \n",
      "_________________________________________________________________\n",
      "conv2d_3 (Conv2D)            (None, 58, 58, 64)        36928     \n",
      "_________________________________________________________________\n",
      "max_pooling2d_1 (MaxPooling2 (None, 29, 29, 64)        0         \n",
      "_________________________________________________________________\n",
      "dropout_1 (Dropout)          (None, 29, 29, 64)        0         \n",
      "_________________________________________________________________\n",
      "conv2d_4 (Conv2D)            (None, 27, 27, 128)       73856     \n",
      "_________________________________________________________________\n",
      "conv2d_5 (Conv2D)            (None, 25, 25, 128)       147584    \n",
      "_________________________________________________________________\n",
      "max_pooling2d_2 (MaxPooling2 (None, 12, 12, 128)       0         \n",
      "_________________________________________________________________\n",
      "dropout_2 (Dropout)          (None, 12, 12, 128)       0         \n",
      "_________________________________________________________________\n",
      "conv2d_6 (Conv2D)            (None, 10, 10, 256)       295168    \n",
      "_________________________________________________________________\n",
      "max_pooling2d_3 (MaxPooling2 (None, 5, 5, 256)         0         \n",
      "_________________________________________________________________\n",
      "dropout_3 (Dropout)          (None, 5, 5, 256)         0         \n",
      "_________________________________________________________________\n",
      "flatten_1 (Flatten)          (None, 6400)              0         \n",
      "_________________________________________________________________\n",
      "dense_1 (Dense)              (None, 256)               1638656   \n",
      "_________________________________________________________________\n",
      "dropout_4 (Dropout)          (None, 256)               0         \n",
      "_________________________________________________________________\n",
      "dense_2 (Dense)              (None, 6)                 1542      \n",
      "=================================================================\n",
      "Total params: 2,232,454\n",
      "Trainable params: 2,232,454\n",
      "Non-trainable params: 0\n",
      "_________________________________________________________________\n"
     ]
    }
   ],
   "source": [
    "from keras.models import Model\n",
    "from keras.layers import Dense, Dropout, Activation, Flatten, Input\n",
    "from keras.layers import Convolution2D, MaxPooling2D\n",
    "\n",
    "# drop_out = 0.9\n",
    "# drop_out = 0.75\n",
    "drop_out = 0.5\n",
    "# drop_out = 0.25\n",
    "# drop_out = 0.0\n",
    "\n",
    "# input tensor for a 3-channel 64x64 image\n",
    "inputs = Input(shape=(64, 64, 3))\n",
    "\n",
    "# one block of convolutional layers\n",
    "x = Convolution2D(64, 3, 3, activation='relu')(inputs)\n",
    "# x = Dropout(drop_out)(x)\n",
    "x = Convolution2D(64, 3, 3, activation='relu')(x)\n",
    "# x = Dropout(drop_out)(x)\n",
    "x = Convolution2D(64, 3, 3, activation='relu')(x)\n",
    "x = MaxPooling2D(pool_size=(2, 2))(x)\n",
    "x = Dropout(drop_out)(x)\n",
    "\n",
    "# one more block\n",
    "x = Convolution2D(128, 3, 3, activation='relu')(x)\n",
    "# x = Dropout(drop_out)(x)\n",
    "x = Convolution2D(128, 3, 3, activation='relu')(x)\n",
    "x = MaxPooling2D(pool_size=(2, 2))(x)\n",
    "x = Dropout(drop_out)(x)\n",
    "\n",
    "# one more block\n",
    "x = Convolution2D(256, 3, 3, activation='relu')(x)\n",
    "x = MaxPooling2D(pool_size=(2, 2))(x)\n",
    "x = Dropout(drop_out)(x)\n",
    "\n",
    "x = Flatten()(x)\n",
    "x = Dense(256, activation='relu')(x)\n",
    "x = Dropout(drop_out)(x)\n",
    "\n",
    "# softmax activation, 6 categories\n",
    "predictions = Dense(6, activation='softmax')(x)\n",
    "model = Model(input=inputs, output=predictions)\n",
    "model.summary()\n",
    "model.compile(optimizer='rmsprop',\n",
    "              loss='categorical_crossentropy',\n",
    "              metrics=['accuracy'])"
   ]
  },
  {
   "cell_type": "code",
   "execution_count": 25,
   "metadata": {
    "collapsed": true
   },
   "outputs": [],
   "source": [
    "!rm -rf ../tmp/tf_log\n",
    "!rm -rf ../tmp/model-checkpoints\n",
    "\n",
    "!mkdir ../tmp/model-checkpoints\n",
    "!mkdir ../tmp/tf_log"
   ]
  },
  {
   "cell_type": "code",
   "execution_count": 26,
   "metadata": {},
   "outputs": [
    {
     "name": "stdout",
     "output_type": "stream",
     "text": [
      "2017-07-21T19:33:41.655266\n",
      "Train on 2122 samples, validate on 910 samples\n",
      "Epoch 1/250\n",
      "2122/2122 [==============================] - 13s - loss: 2.0345 - acc: 0.1833 - val_loss: 1.7824 - val_acc: 0.2099\n",
      "Epoch 2/250\n",
      "2122/2122 [==============================] - 4s - loss: 1.7778 - acc: 0.2172 - val_loss: 1.7799 - val_acc: 0.2000\n",
      "Epoch 3/250\n",
      "2122/2122 [==============================] - 4s - loss: 1.7560 - acc: 0.2107 - val_loss: 1.7729 - val_acc: 0.2011\n",
      "Epoch 4/250\n",
      "2122/2122 [==============================] - 5s - loss: 1.7703 - acc: 0.2031 - val_loss: 1.7713 - val_acc: 0.2000\n",
      "Epoch 5/250\n",
      "2122/2122 [==============================] - 4s - loss: 1.7665 - acc: 0.2111 - val_loss: 1.7595 - val_acc: 0.2011\n",
      "Epoch 6/250\n",
      "2122/2122 [==============================] - 5s - loss: 1.7415 - acc: 0.2309 - val_loss: 1.7877 - val_acc: 0.1714\n",
      "Epoch 7/250\n",
      "2122/2122 [==============================] - 5s - loss: 1.7786 - acc: 0.1937 - val_loss: 1.7843 - val_acc: 0.2022\n",
      "Epoch 8/250\n",
      "2122/2122 [==============================] - 5s - loss: 1.7601 - acc: 0.2059 - val_loss: 1.7844 - val_acc: 0.2066\n",
      "Epoch 9/250\n",
      "2122/2122 [==============================] - 5s - loss: 1.7717 - acc: 0.2026 - val_loss: 1.7712 - val_acc: 0.1747\n",
      "Epoch 10/250\n",
      "2122/2122 [==============================] - 5s - loss: 1.7622 - acc: 0.2083 - val_loss: 1.7850 - val_acc: 0.1714\n",
      "Epoch 11/250\n",
      "2122/2122 [==============================] - 5s - loss: 1.7762 - acc: 0.2083 - val_loss: 1.7713 - val_acc: 0.2000\n",
      "Epoch 12/250\n",
      "2122/2122 [==============================] - 5s - loss: 1.7593 - acc: 0.2187 - val_loss: 1.7600 - val_acc: 0.2000\n",
      "Epoch 13/250\n",
      "2122/2122 [==============================] - 5s - loss: 1.7643 - acc: 0.2125 - val_loss: 1.7802 - val_acc: 0.2319\n",
      "Epoch 14/250\n",
      "2122/2122 [==============================] - 5s - loss: 1.7758 - acc: 0.2069 - val_loss: 1.7818 - val_acc: 0.1714\n",
      "Epoch 15/250\n",
      "2122/2122 [==============================] - 5s - loss: 1.7671 - acc: 0.2088 - val_loss: 1.7635 - val_acc: 0.2000\n",
      "Epoch 16/250\n",
      "2122/2122 [==============================] - 5s - loss: 1.7991 - acc: 0.1923 - val_loss: 1.7779 - val_acc: 0.2099\n",
      "Epoch 17/250\n",
      "2122/2122 [==============================] - 5s - loss: 1.7701 - acc: 0.2050 - val_loss: 1.7578 - val_acc: 0.2000\n",
      "Epoch 18/250\n",
      "2122/2122 [==============================] - 5s - loss: 1.7795 - acc: 0.1927 - val_loss: 1.7790 - val_acc: 0.2231\n",
      "Epoch 19/250\n",
      "2122/2122 [==============================] - 5s - loss: 1.7803 - acc: 0.2041 - val_loss: 1.7746 - val_acc: 0.2011\n",
      "Epoch 20/250\n",
      "2122/2122 [==============================] - 5s - loss: 1.7638 - acc: 0.2168 - val_loss: 1.7624 - val_acc: 0.2044\n",
      "Epoch 21/250\n",
      "2122/2122 [==============================] - 5s - loss: 1.7999 - acc: 0.2125 - val_loss: 1.7763 - val_acc: 0.2099\n",
      "Epoch 22/250\n",
      "2122/2122 [==============================] - 5s - loss: 1.7748 - acc: 0.2069 - val_loss: 1.7682 - val_acc: 0.2099\n",
      "Epoch 23/250\n",
      "2122/2122 [==============================] - 5s - loss: 1.7624 - acc: 0.2050 - val_loss: 1.8273 - val_acc: 0.2099\n",
      "Epoch 24/250\n",
      "2122/2122 [==============================] - 5s - loss: 1.8056 - acc: 0.2083 - val_loss: 1.7602 - val_acc: 0.2176\n",
      "Epoch 25/250\n",
      "2122/2122 [==============================] - 5s - loss: 1.7510 - acc: 0.2304 - val_loss: 1.7427 - val_acc: 0.2429\n",
      "Epoch 26/250\n",
      "2122/2122 [==============================] - 5s - loss: 2.0630 - acc: 0.2017 - val_loss: 1.7422 - val_acc: 0.2220\n",
      "Epoch 27/250\n",
      "2122/2122 [==============================] - 5s - loss: 1.7195 - acc: 0.2370 - val_loss: 1.7079 - val_acc: 0.2769\n",
      "Epoch 28/250\n",
      "2122/2122 [==============================] - 5s - loss: 1.7346 - acc: 0.2328 - val_loss: 1.7024 - val_acc: 0.3132\n",
      "Epoch 29/250\n",
      "2122/2122 [==============================] - 5s - loss: 1.6827 - acc: 0.2823 - val_loss: 1.6730 - val_acc: 0.2846\n",
      "Epoch 30/250\n",
      "2122/2122 [==============================] - 5s - loss: 1.7260 - acc: 0.2549 - val_loss: 1.6841 - val_acc: 0.3088\n",
      "Epoch 31/250\n",
      "2122/2122 [==============================] - 5s - loss: 1.6585 - acc: 0.2992 - val_loss: 1.6755 - val_acc: 0.2824\n",
      "Epoch 32/250\n",
      "2122/2122 [==============================] - 5s - loss: 1.6915 - acc: 0.2813 - val_loss: 1.6729 - val_acc: 0.3220\n",
      "Epoch 33/250\n",
      "2122/2122 [==============================] - 5s - loss: 1.6591 - acc: 0.3025 - val_loss: 1.7605 - val_acc: 0.2000\n",
      "Epoch 34/250\n",
      "2122/2122 [==============================] - 5s - loss: 1.7408 - acc: 0.2149 - val_loss: 1.7205 - val_acc: 0.2780\n",
      "Epoch 35/250\n",
      "2122/2122 [==============================] - 5s - loss: 1.7527 - acc: 0.2432 - val_loss: 1.7022 - val_acc: 0.2791\n",
      "Epoch 36/250\n",
      "2122/2122 [==============================] - 5s - loss: 1.6987 - acc: 0.2672 - val_loss: 1.7458 - val_acc: 0.2143\n",
      "Epoch 37/250\n",
      "2122/2122 [==============================] - 5s - loss: 1.7076 - acc: 0.2540 - val_loss: 1.6726 - val_acc: 0.3044\n",
      "Epoch 38/250\n",
      "2122/2122 [==============================] - 5s - loss: 1.6291 - acc: 0.3091 - val_loss: 1.6940 - val_acc: 0.2758\n",
      "Epoch 39/250\n",
      "2122/2122 [==============================] - 5s - loss: 1.6983 - acc: 0.2719 - val_loss: 1.7287 - val_acc: 0.2341\n",
      "Epoch 40/250\n",
      "2122/2122 [==============================] - 5s - loss: 1.6726 - acc: 0.2634 - val_loss: 1.6869 - val_acc: 0.2780\n",
      "Epoch 41/250\n",
      "2122/2122 [==============================] - 5s - loss: 1.6362 - acc: 0.3058 - val_loss: 1.6465 - val_acc: 0.3198\n",
      "Epoch 42/250\n",
      "2122/2122 [==============================] - 5s - loss: 1.7225 - acc: 0.2681 - val_loss: 1.6696 - val_acc: 0.3209\n",
      "Epoch 43/250\n",
      "2122/2122 [==============================] - 5s - loss: 1.6242 - acc: 0.3313 - val_loss: 1.7113 - val_acc: 0.2604\n",
      "Epoch 44/250\n",
      "2122/2122 [==============================] - 5s - loss: 1.6732 - acc: 0.3077 - val_loss: 1.6051 - val_acc: 0.3055\n",
      "Epoch 45/250\n",
      "2122/2122 [==============================] - 5s - loss: 1.6816 - acc: 0.2893 - val_loss: 1.6205 - val_acc: 0.3187\n",
      "Epoch 46/250\n",
      "2122/2122 [==============================] - 5s - loss: 1.6348 - acc: 0.3346 - val_loss: 1.7503 - val_acc: 0.2143\n",
      "Epoch 47/250\n",
      "2122/2122 [==============================] - 5s - loss: 1.6886 - acc: 0.2997 - val_loss: 1.6711 - val_acc: 0.2846\n",
      "Epoch 48/250\n",
      "2122/2122 [==============================] - 5s - loss: 1.6819 - acc: 0.2809 - val_loss: 1.6033 - val_acc: 0.3319\n",
      "Epoch 49/250\n",
      "2122/2122 [==============================] - 5s - loss: 1.5887 - acc: 0.3417 - val_loss: 1.9021 - val_acc: 0.2429\n",
      "Epoch 50/250\n",
      "2122/2122 [==============================] - 5s - loss: 1.8671 - acc: 0.2139 - val_loss: 1.7255 - val_acc: 0.2538\n",
      "Epoch 51/250\n",
      "2122/2122 [==============================] - 5s - loss: 1.6675 - acc: 0.2917 - val_loss: 1.6429 - val_acc: 0.3187\n",
      "Epoch 52/250\n",
      "2122/2122 [==============================] - 5s - loss: 1.6144 - acc: 0.3384 - val_loss: 1.6024 - val_acc: 0.3275\n",
      "Epoch 53/250\n",
      "2122/2122 [==============================] - 5s - loss: 1.5544 - acc: 0.3582 - val_loss: 1.5778 - val_acc: 0.3440\n",
      "Epoch 54/250\n",
      "2122/2122 [==============================] - 5s - loss: 1.6304 - acc: 0.3082 - val_loss: 1.6465 - val_acc: 0.3330\n",
      "Epoch 55/250\n",
      "2122/2122 [==============================] - 5s - loss: 1.6214 - acc: 0.3473 - val_loss: 1.5575 - val_acc: 0.3560\n",
      "Epoch 56/250\n",
      "2122/2122 [==============================] - 5s - loss: 1.6846 - acc: 0.3073 - val_loss: 1.7244 - val_acc: 0.2253\n",
      "Epoch 57/250\n",
      "2122/2122 [==============================] - 5s - loss: 1.6276 - acc: 0.3030 - val_loss: 1.6591 - val_acc: 0.3176\n",
      "Epoch 58/250\n",
      "2122/2122 [==============================] - 5s - loss: 1.6381 - acc: 0.3308 - val_loss: 1.5695 - val_acc: 0.3538\n",
      "Epoch 59/250\n",
      "2122/2122 [==============================] - 5s - loss: 1.6651 - acc: 0.3214 - val_loss: 1.5742 - val_acc: 0.3374\n",
      "Epoch 60/250\n",
      "2122/2122 [==============================] - 5s - loss: 1.5610 - acc: 0.3662 - val_loss: 1.6984 - val_acc: 0.2484\n",
      "Epoch 61/250\n",
      "2122/2122 [==============================] - 5s - loss: 1.5746 - acc: 0.3417 - val_loss: 1.5842 - val_acc: 0.3352\n",
      "Epoch 62/250\n",
      "2122/2122 [==============================] - 5s - loss: 1.5541 - acc: 0.3596 - val_loss: 1.5874 - val_acc: 0.3505\n",
      "Epoch 63/250\n",
      "2122/2122 [==============================] - 5s - loss: 1.4675 - acc: 0.4072 - val_loss: 1.6351 - val_acc: 0.3209\n",
      "Epoch 64/250\n"
     ]
    },
    {
     "name": "stdout",
     "output_type": "stream",
     "text": [
      "2122/2122 [==============================] - 5s - loss: 1.6583 - acc: 0.3289 - val_loss: 1.5651 - val_acc: 0.3769\n",
      "Epoch 65/250\n",
      "2122/2122 [==============================] - 5s - loss: 1.4584 - acc: 0.4204 - val_loss: 1.4594 - val_acc: 0.3769\n",
      "Epoch 66/250\n",
      "2122/2122 [==============================] - 5s - loss: 1.4814 - acc: 0.3949 - val_loss: 1.5171 - val_acc: 0.3835\n",
      "Epoch 67/250\n",
      "2122/2122 [==============================] - 5s - loss: 1.4066 - acc: 0.4387 - val_loss: 1.4741 - val_acc: 0.3835\n",
      "Epoch 68/250\n",
      "2122/2122 [==============================] - 5s - loss: 1.4509 - acc: 0.4270 - val_loss: 1.6261 - val_acc: 0.3022\n",
      "Epoch 69/250\n",
      "2122/2122 [==============================] - 5s - loss: 1.4565 - acc: 0.4057 - val_loss: 1.6458 - val_acc: 0.3121\n",
      "Epoch 70/250\n",
      "2122/2122 [==============================] - 5s - loss: 1.5138 - acc: 0.4020 - val_loss: 1.5980 - val_acc: 0.3396\n",
      "Epoch 71/250\n",
      "2122/2122 [==============================] - 5s - loss: 1.4892 - acc: 0.3954 - val_loss: 1.4546 - val_acc: 0.4165\n",
      "Epoch 72/250\n",
      "2122/2122 [==============================] - 5s - loss: 1.4153 - acc: 0.4189 - val_loss: 1.3905 - val_acc: 0.4275\n",
      "Epoch 73/250\n",
      "2122/2122 [==============================] - 5s - loss: 1.3193 - acc: 0.4717 - val_loss: 1.3962 - val_acc: 0.4352\n",
      "Epoch 74/250\n",
      "2122/2122 [==============================] - 5s - loss: 1.5578 - acc: 0.3930 - val_loss: 1.5093 - val_acc: 0.3868\n",
      "Epoch 75/250\n",
      "2122/2122 [==============================] - 5s - loss: 1.3717 - acc: 0.4449 - val_loss: 1.4663 - val_acc: 0.3890\n",
      "Epoch 76/250\n",
      "2122/2122 [==============================] - 5s - loss: 1.4061 - acc: 0.4411 - val_loss: 1.4296 - val_acc: 0.4187\n",
      "Epoch 77/250\n",
      "2122/2122 [==============================] - 5s - loss: 1.4816 - acc: 0.4123 - val_loss: 1.4452 - val_acc: 0.4066\n",
      "Epoch 78/250\n",
      "2122/2122 [==============================] - 5s - loss: 1.2998 - acc: 0.4972 - val_loss: 1.3148 - val_acc: 0.4692\n",
      "Epoch 79/250\n",
      "2122/2122 [==============================] - 5s - loss: 1.3365 - acc: 0.4722 - val_loss: 1.3766 - val_acc: 0.4582\n",
      "Epoch 80/250\n",
      "2122/2122 [==============================] - 5s - loss: 1.1926 - acc: 0.5424 - val_loss: 1.4529 - val_acc: 0.4011\n",
      "Epoch 81/250\n",
      "2122/2122 [==============================] - 5s - loss: 1.4264 - acc: 0.4373 - val_loss: 1.5055 - val_acc: 0.3747\n",
      "Epoch 82/250\n",
      "2122/2122 [==============================] - 5s - loss: 1.2556 - acc: 0.5170 - val_loss: 1.3355 - val_acc: 0.4626\n",
      "Epoch 83/250\n",
      "2122/2122 [==============================] - 5s - loss: 1.1638 - acc: 0.5556 - val_loss: 1.5676 - val_acc: 0.4022\n",
      "Epoch 84/250\n",
      "2122/2122 [==============================] - 5s - loss: 1.5928 - acc: 0.4020 - val_loss: 1.2955 - val_acc: 0.5154\n",
      "Epoch 85/250\n",
      "2122/2122 [==============================] - 5s - loss: 1.1146 - acc: 0.5702 - val_loss: 1.4505 - val_acc: 0.4352\n",
      "Epoch 86/250\n",
      "2122/2122 [==============================] - 5s - loss: 1.2677 - acc: 0.5104 - val_loss: 1.3424 - val_acc: 0.4615\n",
      "Epoch 87/250\n",
      "2122/2122 [==============================] - 5s - loss: 1.1017 - acc: 0.5877 - val_loss: 1.3796 - val_acc: 0.4473\n",
      "Epoch 88/250\n",
      "2122/2122 [==============================] - 5s - loss: 1.3546 - acc: 0.4896 - val_loss: 1.2017 - val_acc: 0.5264\n",
      "Epoch 89/250\n",
      "2122/2122 [==============================] - 5s - loss: 0.9967 - acc: 0.6258 - val_loss: 1.5139 - val_acc: 0.4286\n",
      "Epoch 90/250\n",
      "2122/2122 [==============================] - 5s - loss: 1.2282 - acc: 0.5349 - val_loss: 1.2221 - val_acc: 0.5253\n",
      "Epoch 91/250\n",
      "2122/2122 [==============================] - 5s - loss: 1.1664 - acc: 0.5457 - val_loss: 1.2521 - val_acc: 0.5451\n",
      "Epoch 92/250\n",
      "2122/2122 [==============================] - 5s - loss: 0.9739 - acc: 0.6216 - val_loss: 1.1708 - val_acc: 0.5571\n",
      "Epoch 93/250\n",
      "2122/2122 [==============================] - 5s - loss: 0.9624 - acc: 0.6329 - val_loss: 1.8577 - val_acc: 0.3692\n",
      "Epoch 94/250\n",
      "2122/2122 [==============================] - 5s - loss: 1.3479 - acc: 0.5221 - val_loss: 1.1495 - val_acc: 0.5330\n",
      "Epoch 95/250\n",
      "2122/2122 [==============================] - 5s - loss: 0.8821 - acc: 0.6555 - val_loss: 1.5194 - val_acc: 0.4604\n",
      "Epoch 96/250\n",
      "2122/2122 [==============================] - 5s - loss: 1.0763 - acc: 0.6046 - val_loss: 1.1256 - val_acc: 0.5473\n",
      "Epoch 97/250\n",
      "2122/2122 [==============================] - 5s - loss: 0.8857 - acc: 0.6583 - val_loss: 1.2594 - val_acc: 0.5044\n",
      "Epoch 98/250\n",
      "2122/2122 [==============================] - 5s - loss: 0.8944 - acc: 0.6631 - val_loss: 1.1883 - val_acc: 0.5615\n",
      "Epoch 99/250\n",
      "2122/2122 [==============================] - 5s - loss: 0.8809 - acc: 0.6631 - val_loss: 1.0954 - val_acc: 0.6077\n",
      "Epoch 100/250\n",
      "2122/2122 [==============================] - 5s - loss: 0.8046 - acc: 0.7149 - val_loss: 1.6255 - val_acc: 0.4308\n",
      "Epoch 101/250\n",
      "2122/2122 [==============================] - 5s - loss: 1.0472 - acc: 0.6131 - val_loss: 1.0723 - val_acc: 0.5978\n",
      "Epoch 102/250\n",
      "2122/2122 [==============================] - 5s - loss: 0.7176 - acc: 0.7295 - val_loss: 1.0765 - val_acc: 0.6220\n",
      "Epoch 103/250\n",
      "2122/2122 [==============================] - 5s - loss: 0.7690 - acc: 0.7149 - val_loss: 1.1095 - val_acc: 0.6044\n",
      "Epoch 104/250\n",
      "2122/2122 [==============================] - 5s - loss: 0.8233 - acc: 0.6927 - val_loss: 0.9871 - val_acc: 0.6429\n",
      "Epoch 105/250\n",
      "2122/2122 [==============================] - 5s - loss: 0.7016 - acc: 0.7300 - val_loss: 1.1448 - val_acc: 0.5824\n",
      "Epoch 106/250\n",
      "2122/2122 [==============================] - 5s - loss: 0.7223 - acc: 0.7446 - val_loss: 1.1268 - val_acc: 0.6187\n",
      "Epoch 107/250\n",
      "2122/2122 [==============================] - 5s - loss: 0.7919 - acc: 0.7135 - val_loss: 0.9558 - val_acc: 0.6604\n",
      "Epoch 108/250\n",
      "2122/2122 [==============================] - 5s - loss: 0.6489 - acc: 0.7587 - val_loss: 1.0986 - val_acc: 0.6099\n",
      "Epoch 109/250\n",
      "2122/2122 [==============================] - 5s - loss: 0.7228 - acc: 0.7333 - val_loss: 0.9587 - val_acc: 0.6791\n",
      "Epoch 110/250\n",
      "2122/2122 [==============================] - 5s - loss: 0.5544 - acc: 0.7941 - val_loss: 1.1636 - val_acc: 0.5956\n",
      "Epoch 111/250\n",
      "2122/2122 [==============================] - 5s - loss: 0.8371 - acc: 0.6942 - val_loss: 1.2040 - val_acc: 0.5429\n",
      "Epoch 112/250\n",
      "2122/2122 [==============================] - 5s - loss: 0.6306 - acc: 0.7757 - val_loss: 0.9251 - val_acc: 0.6923\n",
      "Epoch 113/250\n",
      "2122/2122 [==============================] - 5s - loss: 0.5809 - acc: 0.7780 - val_loss: 1.1334 - val_acc: 0.6352\n",
      "Epoch 114/250\n",
      "2122/2122 [==============================] - 5s - loss: 0.7407 - acc: 0.7300 - val_loss: 1.0643 - val_acc: 0.6407\n",
      "Epoch 115/250\n",
      "2122/2122 [==============================] - 5s - loss: 0.5973 - acc: 0.7743 - val_loss: 0.9583 - val_acc: 0.6780\n",
      "Epoch 116/250\n",
      "2122/2122 [==============================] - 5s - loss: 0.4860 - acc: 0.8289 - val_loss: 1.0071 - val_acc: 0.6956\n",
      "Epoch 117/250\n",
      "2122/2122 [==============================] - 5s - loss: 0.6123 - acc: 0.7686 - val_loss: 1.0295 - val_acc: 0.6791\n",
      "Epoch 118/250\n",
      "2122/2122 [==============================] - 5s - loss: 0.5491 - acc: 0.8063 - val_loss: 0.8969 - val_acc: 0.7121\n",
      "Epoch 119/250\n",
      "2122/2122 [==============================] - 5s - loss: 0.4948 - acc: 0.8176 - val_loss: 0.8928 - val_acc: 0.7319\n",
      "Epoch 120/250\n",
      "2122/2122 [==============================] - 5s - loss: 0.4708 - acc: 0.8280 - val_loss: 1.3105 - val_acc: 0.6505\n",
      "Epoch 121/250\n",
      "2122/2122 [==============================] - 5s - loss: 0.9635 - acc: 0.7012 - val_loss: 0.8409 - val_acc: 0.7451\n",
      "Epoch 122/250\n",
      "2122/2122 [==============================] - 5s - loss: 0.3394 - acc: 0.8827 - val_loss: 0.8124 - val_acc: 0.7626\n",
      "Epoch 123/250\n",
      "2122/2122 [==============================] - 5s - loss: 0.3411 - acc: 0.8761 - val_loss: 1.2985 - val_acc: 0.6495\n",
      "Epoch 124/250\n",
      "2122/2122 [==============================] - 5s - loss: 0.6873 - acc: 0.7597 - val_loss: 0.9167 - val_acc: 0.7088\n",
      "Epoch 125/250\n",
      "2122/2122 [==============================] - 5s - loss: 0.3396 - acc: 0.8850 - val_loss: 1.2592 - val_acc: 0.6538\n",
      "Epoch 126/250\n",
      "2122/2122 [==============================] - 5s - loss: 0.6539 - acc: 0.7714 - val_loss: 0.8616 - val_acc: 0.7330\n",
      "Epoch 127/250\n",
      "2122/2122 [==============================] - 5s - loss: 0.4037 - acc: 0.8445 - val_loss: 0.8742 - val_acc: 0.7363\n",
      "Epoch 128/250\n"
     ]
    },
    {
     "name": "stdout",
     "output_type": "stream",
     "text": [
      "2122/2122 [==============================] - 5s - loss: 0.3538 - acc: 0.8723 - val_loss: 0.8978 - val_acc: 0.7264\n",
      "Epoch 129/250\n",
      "2122/2122 [==============================] - 5s - loss: 0.4079 - acc: 0.8544 - val_loss: 1.3254 - val_acc: 0.6143\n",
      "Epoch 130/250\n",
      "2122/2122 [==============================] - 5s - loss: 0.4920 - acc: 0.8285 - val_loss: 0.7955 - val_acc: 0.7604\n",
      "Epoch 131/250\n",
      "2122/2122 [==============================] - 5s - loss: 0.3183 - acc: 0.8916 - val_loss: 1.1774 - val_acc: 0.6846\n",
      "Epoch 132/250\n",
      "2122/2122 [==============================] - 5s - loss: 0.6128 - acc: 0.7851 - val_loss: 0.7922 - val_acc: 0.7703\n",
      "Epoch 133/250\n",
      "2122/2122 [==============================] - 5s - loss: 0.2530 - acc: 0.9161 - val_loss: 0.8328 - val_acc: 0.7637\n",
      "Epoch 134/250\n",
      "2122/2122 [==============================] - 5s - loss: 0.2928 - acc: 0.8944 - val_loss: 0.8808 - val_acc: 0.7484\n",
      "Epoch 135/250\n",
      "2122/2122 [==============================] - 5s - loss: 0.2879 - acc: 0.8963 - val_loss: 0.8711 - val_acc: 0.7495\n",
      "Epoch 136/250\n",
      "2122/2122 [==============================] - 5s - loss: 0.2994 - acc: 0.8977 - val_loss: 1.8519 - val_acc: 0.5143\n",
      "Epoch 137/250\n",
      "2122/2122 [==============================] - 5s - loss: 0.8519 - acc: 0.7323 - val_loss: 0.7730 - val_acc: 0.7725\n",
      "Epoch 138/250\n",
      "2122/2122 [==============================] - 5s - loss: 0.2225 - acc: 0.9284 - val_loss: 0.8393 - val_acc: 0.7725\n",
      "Epoch 139/250\n",
      "2122/2122 [==============================] - 5s - loss: 0.2395 - acc: 0.9090 - val_loss: 0.9320 - val_acc: 0.7396\n",
      "Epoch 140/250\n",
      "2122/2122 [==============================] - 5s - loss: 0.3207 - acc: 0.8864 - val_loss: 0.8875 - val_acc: 0.7703\n",
      "Epoch 141/250\n",
      "2122/2122 [==============================] - 5s - loss: 0.2823 - acc: 0.9001 - val_loss: 0.9794 - val_acc: 0.7593\n",
      "Epoch 142/250\n",
      "2122/2122 [==============================] - 5s - loss: 0.4205 - acc: 0.8610 - val_loss: 0.9756 - val_acc: 0.7165\n",
      "Epoch 143/250\n",
      "2122/2122 [==============================] - 5s - loss: 0.2823 - acc: 0.9025 - val_loss: 0.7424 - val_acc: 0.7824\n",
      "Epoch 144/250\n",
      "2122/2122 [==============================] - 5s - loss: 0.2040 - acc: 0.9293 - val_loss: 0.8730 - val_acc: 0.7857\n",
      "Epoch 145/250\n",
      "2122/2122 [==============================] - 5s - loss: 0.2517 - acc: 0.9114 - val_loss: 1.2622 - val_acc: 0.6451\n",
      "Epoch 146/250\n",
      "2122/2122 [==============================] - 5s - loss: 0.4383 - acc: 0.8511 - val_loss: 1.5899 - val_acc: 0.5879\n",
      "Epoch 147/250\n",
      "2122/2122 [==============================] - 5s - loss: 1.0239 - acc: 0.6937 - val_loss: 0.6677 - val_acc: 0.7945\n",
      "Epoch 148/250\n",
      "2122/2122 [==============================] - 5s - loss: 0.1990 - acc: 0.9449 - val_loss: 0.7399 - val_acc: 0.8000\n",
      "Epoch 149/250\n",
      "2122/2122 [==============================] - 5s - loss: 0.1917 - acc: 0.9373 - val_loss: 0.9321 - val_acc: 0.7791\n",
      "Epoch 150/250\n",
      "2122/2122 [==============================] - 5s - loss: 0.1797 - acc: 0.9364 - val_loss: 0.8535 - val_acc: 0.7934\n",
      "Epoch 151/250\n",
      "2122/2122 [==============================] - 5s - loss: 0.1569 - acc: 0.9411 - val_loss: 1.0222 - val_acc: 0.7582\n",
      "Epoch 152/250\n",
      "2122/2122 [==============================] - 5s - loss: 0.5034 - acc: 0.8318 - val_loss: 0.6544 - val_acc: 0.8143\n",
      "Epoch 153/250\n",
      "2122/2122 [==============================] - 5s - loss: 0.1659 - acc: 0.9472 - val_loss: 0.7049 - val_acc: 0.8088\n",
      "Epoch 154/250\n",
      "2122/2122 [==============================] - 5s - loss: 0.1485 - acc: 0.9524 - val_loss: 1.2205 - val_acc: 0.6604\n",
      "Epoch 155/250\n",
      "2122/2122 [==============================] - 5s - loss: 1.6485 - acc: 0.6122 - val_loss: 0.8143 - val_acc: 0.7473\n",
      "Epoch 156/250\n",
      "2122/2122 [==============================] - 5s - loss: 0.2641 - acc: 0.9199 - val_loss: 0.7351 - val_acc: 0.8011\n",
      "Epoch 157/250\n",
      "2122/2122 [==============================] - 5s - loss: 0.1475 - acc: 0.9510 - val_loss: 0.8341 - val_acc: 0.7989\n",
      "Epoch 158/250\n",
      "2122/2122 [==============================] - 5s - loss: 0.1356 - acc: 0.9538 - val_loss: 0.9647 - val_acc: 0.7802\n",
      "Epoch 159/250\n",
      "2122/2122 [==============================] - 5s - loss: 0.2235 - acc: 0.9317 - val_loss: 0.8464 - val_acc: 0.8077\n",
      "Epoch 160/250\n",
      "2122/2122 [==============================] - 5s - loss: 0.1275 - acc: 0.9576 - val_loss: 0.8444 - val_acc: 0.8165\n",
      "Epoch 161/250\n",
      "2122/2122 [==============================] - 5s - loss: 0.1277 - acc: 0.9571 - val_loss: 1.0080 - val_acc: 0.7989\n",
      "Epoch 162/250\n",
      "2122/2122 [==============================] - 5s - loss: 0.2196 - acc: 0.9350 - val_loss: 0.9188 - val_acc: 0.7824\n",
      "Epoch 163/250\n",
      "2122/2122 [==============================] - 5s - loss: 0.3320 - acc: 0.8911 - val_loss: 0.7368 - val_acc: 0.8110\n",
      "Epoch 164/250\n",
      "2122/2122 [==============================] - 5s - loss: 0.1741 - acc: 0.9458 - val_loss: 0.7592 - val_acc: 0.8033\n",
      "Epoch 165/250\n",
      "2122/2122 [==============================] - 5s - loss: 0.1190 - acc: 0.9642 - val_loss: 0.7911 - val_acc: 0.8066\n",
      "Epoch 166/250\n",
      "2122/2122 [==============================] - 5s - loss: 0.1446 - acc: 0.9482 - val_loss: 0.9062 - val_acc: 0.8055\n",
      "Epoch 167/250\n",
      "2122/2122 [==============================] - 5s - loss: 0.1775 - acc: 0.9453 - val_loss: 1.2325 - val_acc: 0.6945\n",
      "Epoch 168/250\n",
      "2122/2122 [==============================] - 5s - loss: 0.5565 - acc: 0.8256 - val_loss: 0.7460 - val_acc: 0.7813\n",
      "Epoch 169/250\n",
      "2122/2122 [==============================] - 5s - loss: 0.1294 - acc: 0.9576 - val_loss: 0.7085 - val_acc: 0.8231\n",
      "Epoch 170/250\n",
      "2122/2122 [==============================] - 5s - loss: 0.0978 - acc: 0.9661 - val_loss: 0.8090 - val_acc: 0.8033\n",
      "Epoch 171/250\n",
      "2122/2122 [==============================] - 5s - loss: 0.1406 - acc: 0.9519 - val_loss: 0.8010 - val_acc: 0.8110\n",
      "Epoch 172/250\n",
      "2122/2122 [==============================] - 5s - loss: 0.0794 - acc: 0.9746 - val_loss: 0.8985 - val_acc: 0.8022\n",
      "Epoch 173/250\n",
      "2122/2122 [==============================] - 5s - loss: 0.1040 - acc: 0.9661 - val_loss: 0.9290 - val_acc: 0.7670\n",
      "Epoch 174/250\n",
      "2122/2122 [==============================] - 5s - loss: 0.5075 - acc: 0.8360 - val_loss: 1.2716 - val_acc: 0.7066\n",
      "Epoch 175/250\n",
      "2122/2122 [==============================] - 5s - loss: 0.4153 - acc: 0.8671 - val_loss: 0.6715 - val_acc: 0.8132\n",
      "Epoch 176/250\n",
      "2122/2122 [==============================] - 5s - loss: 0.1045 - acc: 0.9670 - val_loss: 0.7080 - val_acc: 0.8330\n",
      "Epoch 177/250\n",
      "2122/2122 [==============================] - 5s - loss: 0.0876 - acc: 0.9703 - val_loss: 0.7955 - val_acc: 0.8242\n",
      "Epoch 178/250\n",
      "2122/2122 [==============================] - 5s - loss: 0.1043 - acc: 0.9637 - val_loss: 0.9243 - val_acc: 0.7978\n",
      "Epoch 179/250\n",
      "2122/2122 [==============================] - 5s - loss: 0.1288 - acc: 0.9576 - val_loss: 1.0161 - val_acc: 0.7747\n",
      "Epoch 180/250\n",
      "2122/2122 [==============================] - 5s - loss: 0.1677 - acc: 0.9463 - val_loss: 0.8226 - val_acc: 0.8253\n",
      "Epoch 181/250\n",
      "2122/2122 [==============================] - 5s - loss: 0.1320 - acc: 0.9538 - val_loss: 0.9074 - val_acc: 0.7945\n",
      "Epoch 182/250\n",
      "2122/2122 [==============================] - 5s - loss: 0.1502 - acc: 0.9533 - val_loss: 0.7097 - val_acc: 0.8253\n",
      "Epoch 183/250\n",
      "2122/2122 [==============================] - 5s - loss: 0.1152 - acc: 0.9632 - val_loss: 0.8872 - val_acc: 0.7945\n",
      "Epoch 184/250\n",
      "2122/2122 [==============================] - 5s - loss: 0.3018 - acc: 0.8963 - val_loss: 0.8104 - val_acc: 0.7934\n",
      "Epoch 185/250\n",
      "2122/2122 [==============================] - 5s - loss: 0.0960 - acc: 0.9675 - val_loss: 0.7513 - val_acc: 0.8297\n",
      "Epoch 186/250\n",
      "2122/2122 [==============================] - 5s - loss: 0.0763 - acc: 0.9783 - val_loss: 0.7903 - val_acc: 0.8253\n",
      "Epoch 187/250\n",
      "2122/2122 [==============================] - 5s - loss: 0.0996 - acc: 0.9642 - val_loss: 0.9244 - val_acc: 0.7835\n",
      "Epoch 188/250\n",
      "2122/2122 [==============================] - 5s - loss: 0.3195 - acc: 0.8926 - val_loss: 0.7975 - val_acc: 0.8242\n",
      "Epoch 189/250\n",
      "2122/2122 [==============================] - 5s - loss: 0.0973 - acc: 0.9694 - val_loss: 0.8288 - val_acc: 0.8088\n",
      "Epoch 190/250\n",
      "2122/2122 [==============================] - 5s - loss: 0.0607 - acc: 0.9797 - val_loss: 0.8503 - val_acc: 0.8286\n",
      "Epoch 191/250\n",
      "2122/2122 [==============================] - 5s - loss: 0.0783 - acc: 0.9736 - val_loss: 1.4764 - val_acc: 0.6780\n",
      "Epoch 192/250\n"
     ]
    },
    {
     "name": "stdout",
     "output_type": "stream",
     "text": [
      "2122/2122 [==============================] - 5s - loss: 0.9050 - acc: 0.7592 - val_loss: 0.7338 - val_acc: 0.7868\n",
      "Epoch 193/250\n",
      "2122/2122 [==============================] - 5s - loss: 0.1305 - acc: 0.9614 - val_loss: 0.7410 - val_acc: 0.8198\n",
      "Epoch 194/250\n",
      "2122/2122 [==============================] - 5s - loss: 0.0713 - acc: 0.9807 - val_loss: 0.7354 - val_acc: 0.8286\n",
      "Epoch 195/250\n",
      "2122/2122 [==============================] - 5s - loss: 0.0528 - acc: 0.9826 - val_loss: 0.9314 - val_acc: 0.8264\n",
      "Epoch 196/250\n",
      "2122/2122 [==============================] - 5s - loss: 0.0667 - acc: 0.9793 - val_loss: 0.9618 - val_acc: 0.8055\n",
      "Epoch 197/250\n",
      "2122/2122 [==============================] - 5s - loss: 0.1516 - acc: 0.9496 - val_loss: 0.7770 - val_acc: 0.8220\n",
      "Epoch 198/250\n",
      "2122/2122 [==============================] - 5s - loss: 0.0793 - acc: 0.9802 - val_loss: 0.9145 - val_acc: 0.8055\n",
      "Epoch 199/250\n",
      "2122/2122 [==============================] - 5s - loss: 0.4587 - acc: 0.8638 - val_loss: 0.7287 - val_acc: 0.8165\n",
      "Epoch 200/250\n",
      "2122/2122 [==============================] - 5s - loss: 0.0782 - acc: 0.9717 - val_loss: 0.8046 - val_acc: 0.8187\n",
      "Epoch 201/250\n",
      "2122/2122 [==============================] - 5s - loss: 0.0650 - acc: 0.9788 - val_loss: 0.7976 - val_acc: 0.8341\n",
      "Epoch 202/250\n",
      "2122/2122 [==============================] - 5s - loss: 0.0425 - acc: 0.9873 - val_loss: 0.8476 - val_acc: 0.8319\n",
      "Epoch 203/250\n",
      "2122/2122 [==============================] - 5s - loss: 0.0621 - acc: 0.9769 - val_loss: 0.8173 - val_acc: 0.8275\n",
      "Epoch 204/250\n",
      "2122/2122 [==============================] - 5s - loss: 0.0727 - acc: 0.9722 - val_loss: 0.8294 - val_acc: 0.8187\n",
      "Epoch 205/250\n",
      "2122/2122 [==============================] - 5s - loss: 0.0612 - acc: 0.9797 - val_loss: 0.9626 - val_acc: 0.8264\n",
      "Epoch 206/250\n",
      "2122/2122 [==============================] - 5s - loss: 0.2741 - acc: 0.9279 - val_loss: 0.9888 - val_acc: 0.7286\n",
      "Epoch 207/250\n",
      "2122/2122 [==============================] - 5s - loss: 0.8186 - acc: 0.7342 - val_loss: 0.7248 - val_acc: 0.8132\n",
      "Epoch 208/250\n",
      "2122/2122 [==============================] - 5s - loss: 0.1032 - acc: 0.9713 - val_loss: 0.7285 - val_acc: 0.8341\n",
      "Epoch 209/250\n",
      "2122/2122 [==============================] - 5s - loss: 0.0648 - acc: 0.9797 - val_loss: 0.7765 - val_acc: 0.8319\n",
      "Epoch 210/250\n",
      "2122/2122 [==============================] - 5s - loss: 0.0598 - acc: 0.9797 - val_loss: 0.8244 - val_acc: 0.8330\n",
      "Epoch 211/250\n",
      "2122/2122 [==============================] - 5s - loss: 0.0528 - acc: 0.9821 - val_loss: 0.7733 - val_acc: 0.8352\n",
      "Epoch 212/250\n",
      "2122/2122 [==============================] - 5s - loss: 0.0410 - acc: 0.9863 - val_loss: 0.9242 - val_acc: 0.8286\n",
      "Epoch 213/250\n",
      "2122/2122 [==============================] - 5s - loss: 0.0990 - acc: 0.9713 - val_loss: 1.0209 - val_acc: 0.8022\n",
      "Epoch 214/250\n",
      "2122/2122 [==============================] - 5s - loss: 0.2067 - acc: 0.9378 - val_loss: 0.7516 - val_acc: 0.8286\n",
      "Epoch 215/250\n",
      "2122/2122 [==============================] - 5s - loss: 0.0524 - acc: 0.9811 - val_loss: 0.7733 - val_acc: 0.8440\n",
      "Epoch 216/250\n",
      "2122/2122 [==============================] - 5s - loss: 0.0866 - acc: 0.9713 - val_loss: 1.0886 - val_acc: 0.7989\n",
      "Epoch 217/250\n",
      "2122/2122 [==============================] - 5s - loss: 0.3665 - acc: 0.8897 - val_loss: 0.7038 - val_acc: 0.8198\n",
      "Epoch 218/250\n",
      "2122/2122 [==============================] - 5s - loss: 0.0883 - acc: 0.9741 - val_loss: 0.7599 - val_acc: 0.8352\n",
      "Epoch 219/250\n",
      "2122/2122 [==============================] - 5s - loss: 0.0567 - acc: 0.9816 - val_loss: 0.8473 - val_acc: 0.8275\n",
      "Epoch 220/250\n",
      "2122/2122 [==============================] - 5s - loss: 0.0620 - acc: 0.9788 - val_loss: 0.9162 - val_acc: 0.8066\n",
      "Epoch 221/250\n",
      "2122/2122 [==============================] - 5s - loss: 0.0868 - acc: 0.9736 - val_loss: 0.9823 - val_acc: 0.8110\n",
      "Epoch 222/250\n",
      "2122/2122 [==============================] - 5s - loss: 0.2238 - acc: 0.9232 - val_loss: 0.8458 - val_acc: 0.8330\n",
      "Epoch 223/250\n",
      "2122/2122 [==============================] - 5s - loss: 0.0900 - acc: 0.9727 - val_loss: 0.8657 - val_acc: 0.8308\n",
      "Epoch 224/250\n",
      "2122/2122 [==============================] - 5s - loss: 0.0506 - acc: 0.9830 - val_loss: 0.7686 - val_acc: 0.8495\n",
      "Epoch 225/250\n",
      "2122/2122 [==============================] - 5s - loss: 0.0507 - acc: 0.9830 - val_loss: 1.1995 - val_acc: 0.7824\n",
      "Epoch 226/250\n",
      "2122/2122 [==============================] - 5s - loss: 0.9829 - acc: 0.7521 - val_loss: 0.6998 - val_acc: 0.8187\n",
      "Epoch 227/250\n",
      "2122/2122 [==============================] - 5s - loss: 0.0872 - acc: 0.9722 - val_loss: 0.7244 - val_acc: 0.8385\n",
      "Epoch 228/250\n",
      "2122/2122 [==============================] - 5s - loss: 0.0543 - acc: 0.9835 - val_loss: 0.7253 - val_acc: 0.8286\n",
      "Epoch 229/250\n",
      "2122/2122 [==============================] - 5s - loss: 0.0413 - acc: 0.9882 - val_loss: 0.8053 - val_acc: 0.8319\n",
      "Epoch 230/250\n",
      "2122/2122 [==============================] - 5s - loss: 0.0534 - acc: 0.9835 - val_loss: 0.8447 - val_acc: 0.8407\n",
      "Epoch 231/250\n",
      "2122/2122 [==============================] - 5s - loss: 0.0394 - acc: 0.9863 - val_loss: 0.8356 - val_acc: 0.8396\n",
      "Epoch 232/250\n",
      "2122/2122 [==============================] - 5s - loss: 0.0550 - acc: 0.9840 - val_loss: 0.8627 - val_acc: 0.8176\n",
      "Epoch 233/250\n",
      "2122/2122 [==============================] - 5s - loss: 0.0479 - acc: 0.9830 - val_loss: 0.9166 - val_acc: 0.8253\n",
      "Epoch 234/250\n",
      "2122/2122 [==============================] - 5s - loss: 0.3946 - acc: 0.9072 - val_loss: 1.0809 - val_acc: 0.7154\n",
      "Epoch 235/250\n",
      "2122/2122 [==============================] - 5s - loss: 0.2515 - acc: 0.9152 - val_loss: 0.8171 - val_acc: 0.8099\n",
      "Epoch 236/250\n",
      "2122/2122 [==============================] - 5s - loss: 0.0644 - acc: 0.9844 - val_loss: 0.7983 - val_acc: 0.8297\n",
      "Epoch 237/250\n",
      "2122/2122 [==============================] - 5s - loss: 0.0401 - acc: 0.9877 - val_loss: 0.8501 - val_acc: 0.8319\n",
      "Epoch 238/250\n",
      "2122/2122 [==============================] - 5s - loss: 0.0537 - acc: 0.9854 - val_loss: 0.9646 - val_acc: 0.8264\n",
      "Epoch 239/250\n",
      "2122/2122 [==============================] - 5s - loss: 0.0714 - acc: 0.9779 - val_loss: 0.8245 - val_acc: 0.8374\n",
      "Epoch 240/250\n",
      "2122/2122 [==============================] - 5s - loss: 0.0578 - acc: 0.9797 - val_loss: 0.9000 - val_acc: 0.8209\n",
      "Epoch 241/250\n",
      "2122/2122 [==============================] - 5s - loss: 0.0477 - acc: 0.9826 - val_loss: 0.8563 - val_acc: 0.8374\n",
      "Epoch 242/250\n",
      "2122/2122 [==============================] - 5s - loss: 0.0608 - acc: 0.9783 - val_loss: 0.8015 - val_acc: 0.8429\n",
      "Epoch 243/250\n",
      "2122/2122 [==============================] - 5s - loss: 0.0341 - acc: 0.9915 - val_loss: 0.8567 - val_acc: 0.8385\n",
      "Epoch 244/250\n",
      "2122/2122 [==============================] - 5s - loss: 0.3444 - acc: 0.9161 - val_loss: 1.9256 - val_acc: 0.6374\n",
      "Epoch 245/250\n",
      "2122/2122 [==============================] - 5s - loss: 0.8681 - acc: 0.7851 - val_loss: 0.6344 - val_acc: 0.8275\n",
      "Epoch 246/250\n",
      "2122/2122 [==============================] - 5s - loss: 0.0709 - acc: 0.9816 - val_loss: 0.7847 - val_acc: 0.8286\n",
      "Epoch 247/250\n",
      "2122/2122 [==============================] - 5s - loss: 0.0558 - acc: 0.9844 - val_loss: 0.7905 - val_acc: 0.8374\n",
      "Epoch 248/250\n",
      "2122/2122 [==============================] - 5s - loss: 0.0348 - acc: 0.9868 - val_loss: 0.7679 - val_acc: 0.8407\n",
      "Epoch 249/250\n",
      "2122/2122 [==============================] - 5s - loss: 0.0259 - acc: 0.9929 - val_loss: 0.8559 - val_acc: 0.8407\n",
      "Epoch 250/250\n",
      "2122/2122 [==============================] - 5s - loss: 0.0280 - acc: 0.9901 - val_loss: 0.8759 - val_acc: 0.8440\n",
      "2017-07-21T19:55:17.492072\n"
     ]
    }
   ],
   "source": [
    "# Running on a GPU bach size might be critical depdendng on the GPU memory available\n",
    "# more is desirable, but we might end up using 50 only \n",
    "print(datetime.utcnow().isoformat())\n",
    "# BE CAREFUL, validation data is always the last data sets and not shuffled\n",
    "# https://keras.io/getting-started/faq/#how-is-the-validation-split-computed\n",
    "model.fit(X_train, y_train, epochs=250, batch_size=500, validation_split=0.3, \n",
    "#           callbacks=[tb_callback, early_stopping_callback])\n",
    "          callbacks=[tb_callback])\n",
    "# model.fit(X_train, y_train, epochs=50, batch_size=200, validation_split=0.3)\n",
    "print(datetime.utcnow().isoformat())"
   ]
  },
  {
   "cell_type": "code",
   "execution_count": 27,
   "metadata": {},
   "outputs": [
    {
     "name": "stdout",
     "output_type": "stream",
     "text": [
      "3032/3032 [==============================] - 2s     \n"
     ]
    },
    {
     "data": {
      "text/plain": [
       "(0.26316697995036648, 0.95316629752634696)"
      ]
     },
     "execution_count": 27,
     "metadata": {},
     "output_type": "execute_result"
    }
   ],
   "source": [
    "train_loss, train_accuracy = model.evaluate(X_train, y_train, batch_size=500)\n",
    "train_loss, train_accuracy"
   ]
  },
  {
   "cell_type": "code",
   "execution_count": 28,
   "metadata": {},
   "outputs": [
    {
     "name": "stdout",
     "output_type": "stream",
     "text": [
      "758/758 [==============================] - 1s     \n"
     ]
    },
    {
     "data": {
      "text/plain": [
       "(1.0037021731323805, 0.81530343589807874)"
      ]
     },
     "execution_count": 28,
     "metadata": {},
     "output_type": "execute_result"
    }
   ],
   "source": [
    "test_loss, test_accuracy = model.evaluate(X_test, y_test, batch_size=500)\n",
    "test_loss, test_accuracy"
   ]
  },
  {
   "cell_type": "code",
   "execution_count": 29,
   "metadata": {},
   "outputs": [
    {
     "name": "stdout",
     "output_type": "stream",
     "text": [
      "379/379 [==============================] - 1s\n"
     ]
    },
    {
     "data": {
      "text/plain": [
       "(1.0506060123443604, 0.81530344486236572)"
      ]
     },
     "execution_count": 29,
     "metadata": {},
     "output_type": "execute_result"
    }
   ],
   "source": [
    "original_loss, original_accuracy = model.evaluate(original_images, original_labels, batch_size=500)\n",
    "original_loss, original_accuracy"
   ]
  },
  {
   "cell_type": "code",
   "execution_count": 30,
   "metadata": {},
   "outputs": [
    {
     "name": "stdout",
     "output_type": "stream",
     "text": [
      "mkdir: cannot create directory ‘models’: File exists\r\n"
     ]
    }
   ],
   "source": [
    "!mkdir models"
   ]
  },
  {
   "cell_type": "code",
   "execution_count": 31,
   "metadata": {
    "collapsed": true
   },
   "outputs": [],
   "source": [
    "model.save('models/conv-vgg-augmented.hdf5')"
   ]
  },
  {
   "cell_type": "code",
   "execution_count": 32,
   "metadata": {},
   "outputs": [
    {
     "name": "stdout",
     "output_type": "stream",
     "text": [
      "total 18M\r\n",
      "-rw-rw-r-- 1 ubuntu ubuntu 18M Jul 21 19:56 conv-vgg-augmented.hdf5\r\n"
     ]
    }
   ],
   "source": [
    "!ls -lh models"
   ]
  },
  {
   "cell_type": "code",
   "execution_count": 33,
   "metadata": {},
   "outputs": [
    {
     "name": "stdout",
     "output_type": "stream",
     "text": [
      "https://transfer.sh/K5RH8/conv-vgg-augmented.hdf5"
     ]
    }
   ],
   "source": [
    "!curl --upload-file ./models/conv-vgg-augmented.hdf5 https://transfer.sh/conv-vgg-augmented.hdf5"
   ]
  },
  {
   "cell_type": "code",
   "execution_count": null,
   "metadata": {
    "collapsed": true
   },
   "outputs": [],
   "source": []
  }
 ],
 "metadata": {
  "kernelspec": {
   "display_name": "Python 3",
   "language": "python",
   "name": "python3"
  },
  "language_info": {
   "codemirror_mode": {
    "name": "ipython",
    "version": 3
   },
   "file_extension": ".py",
   "mimetype": "text/x-python",
   "name": "python",
   "nbconvert_exporter": "python",
   "pygments_lexer": "ipython3",
   "version": "3.6.1"
  }
 },
 "nbformat": 4,
 "nbformat_minor": 2
}
