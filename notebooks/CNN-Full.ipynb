{
 "cells": [
  {
   "cell_type": "code",
   "execution_count": 1,
   "metadata": {
    "collapsed": true
   },
   "outputs": [],
   "source": [
    "import warnings\n",
    "warnings.filterwarnings('ignore')"
   ]
  },
  {
   "cell_type": "code",
   "execution_count": 2,
   "metadata": {},
   "outputs": [
    {
     "name": "stdout",
     "output_type": "stream",
     "text": [
      "Populating the interactive namespace from numpy and matplotlib\n"
     ]
    }
   ],
   "source": [
    "%matplotlib inline\n",
    "%pylab inline"
   ]
  },
  {
   "cell_type": "code",
   "execution_count": 3,
   "metadata": {
    "collapsed": true
   },
   "outputs": [],
   "source": [
    "import matplotlib.pylab as plt\n",
    "# https://docs.scipy.org/doc/numpy/reference/routines.math.html\n",
    "import numpy as np"
   ]
  },
  {
   "cell_type": "code",
   "execution_count": 4,
   "metadata": {
    "collapsed": true
   },
   "outputs": [],
   "source": [
    "from datetime import tzinfo, timedelta, datetime"
   ]
  },
  {
   "cell_type": "code",
   "execution_count": 5,
   "metadata": {
    "collapsed": true
   },
   "outputs": [],
   "source": [
    "from distutils.version import StrictVersion"
   ]
  },
  {
   "cell_type": "code",
   "execution_count": 6,
   "metadata": {},
   "outputs": [
    {
     "data": {
      "text/plain": [
       "'0.18.1'"
      ]
     },
     "execution_count": 6,
     "metadata": {},
     "output_type": "execute_result"
    }
   ],
   "source": [
    "import sklearn\n",
    "\n",
    "assert StrictVersion(sklearn.__version__ ) >= StrictVersion('0.18.1')\n",
    "\n",
    "sklearn.__version__"
   ]
  },
  {
   "cell_type": "code",
   "execution_count": 7,
   "metadata": {},
   "outputs": [
    {
     "data": {
      "text/plain": [
       "'1.2.1'"
      ]
     },
     "execution_count": 7,
     "metadata": {},
     "output_type": "execute_result"
    }
   ],
   "source": [
    "import tensorflow as tf\n",
    "tf.logging.set_verbosity(tf.logging.ERROR)\n",
    "\n",
    "assert StrictVersion(tf.__version__) >= StrictVersion('1.1.0')\n",
    "\n",
    "tf.__version__"
   ]
  },
  {
   "cell_type": "code",
   "execution_count": 8,
   "metadata": {},
   "outputs": [
    {
     "name": "stderr",
     "output_type": "stream",
     "text": [
      "Using TensorFlow backend.\n"
     ]
    },
    {
     "data": {
      "text/plain": [
       "'2.0.6'"
      ]
     },
     "execution_count": 8,
     "metadata": {},
     "output_type": "execute_result"
    }
   ],
   "source": [
    "import keras\n",
    "\n",
    "assert StrictVersion(keras.__version__) >= StrictVersion('2.0.0')\n",
    "\n",
    "keras.__version__"
   ]
  },
  {
   "cell_type": "code",
   "execution_count": 9,
   "metadata": {
    "collapsed": true
   },
   "outputs": [],
   "source": [
    "# !curl -O https://raw.githubusercontent.com/DJCordhose/speed-limit-signs/master/data/speed-limit-signs.zip\n",
    "# !curl -O https://raw.githubusercontent.com/DJCordhose/speed-limit-signs/master/data/augmented-signs.zip    "
   ]
  },
  {
   "cell_type": "code",
   "execution_count": 10,
   "metadata": {
    "collapsed": true
   },
   "outputs": [],
   "source": [
    "# https://docs.python.org/3/library/zipfile.html\n",
    "# from zipfile import ZipFile\n",
    "# zip = ZipFile(r'speed-limit-signs.zip')\n",
    "# zip.extractall('.')\n",
    "# zip = ZipFile(r'augmented-signs.zip')\n",
    "# zip.extractall('.')"
   ]
  },
  {
   "cell_type": "code",
   "execution_count": 11,
   "metadata": {
    "collapsed": true
   },
   "outputs": [],
   "source": [
    "# !ls -l speed-limit-signs"
   ]
  },
  {
   "cell_type": "code",
   "execution_count": 12,
   "metadata": {
    "collapsed": true
   },
   "outputs": [],
   "source": [
    "# !ls -l augmented-signs"
   ]
  },
  {
   "cell_type": "code",
   "execution_count": 13,
   "metadata": {
    "collapsed": true
   },
   "outputs": [],
   "source": [
    "import os\n",
    "import skimage.data\n",
    "\n",
    "def load_data(data_dir, type=\".ppm\"):\n",
    "    \"\"\"Loads a data set and returns two lists:\n",
    "    \n",
    "    images: a list of Numpy arrays, each representing an image.\n",
    "    labels: a list of numbers that represent the images labels.\n",
    "    \"\"\"\n",
    "    # Get all subdirectories of data_dir. Each represents a label.\n",
    "    directories = [d for d in os.listdir(data_dir) \n",
    "                   if os.path.isdir(os.path.join(data_dir, d))]\n",
    "    # Loop through the label directories and collect the data in\n",
    "    # two lists, labels and images.\n",
    "    labels = []\n",
    "    images = []\n",
    "    for d in directories:\n",
    "        label_dir = os.path.join(data_dir, d)\n",
    "        file_names = [os.path.join(label_dir, f) for f in os.listdir(label_dir) if f.endswith(type)]\n",
    "        # For each label, load it's images and add them to the images list.\n",
    "        # And add the label number (i.e. directory name) to the labels list.\n",
    "        for f in file_names:\n",
    "            images.append(skimage.data.imread(f))\n",
    "            labels.append(int(d))\n",
    "    return images, labels"
   ]
  },
  {
   "cell_type": "code",
   "execution_count": 14,
   "metadata": {
    "collapsed": true
   },
   "outputs": [],
   "source": [
    "# Load datasets.\n",
    "ROOT_PATH = \"./\"\n",
    "# data_dir = os.path.join(ROOT_PATH, \"speed-limit-signs\")\n",
    "# images, labels = load_data(data_dir, type=\".ppm\")\n",
    "\n",
    "data_dir = os.path.join(ROOT_PATH, \"augmented-signs\")\n",
    "images, labels = load_data(data_dir, type=\".png\")"
   ]
  },
  {
   "cell_type": "code",
   "execution_count": 15,
   "metadata": {
    "collapsed": true
   },
   "outputs": [],
   "source": [
    "import skimage.transform\n",
    "\n",
    "# Resize images\n",
    "images64 = [skimage.transform.resize(image, (64, 64))\n",
    "                for image in images]"
   ]
  },
  {
   "cell_type": "code",
   "execution_count": 16,
   "metadata": {},
   "outputs": [
    {
     "data": {
      "text/plain": [
       "((3790,), (3790, 64, 64, 3))"
      ]
     },
     "execution_count": 16,
     "metadata": {},
     "output_type": "execute_result"
    }
   ],
   "source": [
    "import numpy as np\n",
    "\n",
    "y = np.array(labels)\n",
    "X = np.array(images64)\n",
    "y.shape, X.shape"
   ]
  },
  {
   "cell_type": "code",
   "execution_count": 17,
   "metadata": {
    "collapsed": true
   },
   "outputs": [],
   "source": [
    "from keras.utils.np_utils import to_categorical\n",
    "\n",
    "num_categories = 6\n",
    "\n",
    "y = to_categorical(y, num_categories)"
   ]
  },
  {
   "cell_type": "code",
   "execution_count": 18,
   "metadata": {
    "collapsed": true
   },
   "outputs": [],
   "source": [
    "from sklearn.model_selection import train_test_split"
   ]
  },
  {
   "cell_type": "code",
   "execution_count": 19,
   "metadata": {
    "collapsed": true
   },
   "outputs": [],
   "source": [
    "checkpoint_callback = keras.callbacks.ModelCheckpoint('../tmp/model-checkpoints/weights.epoch-{epoch:02d}-val_loss-{val_loss:.2f}.hdf5');"
   ]
  },
  {
   "cell_type": "code",
   "execution_count": 35,
   "metadata": {
    "collapsed": true
   },
   "outputs": [],
   "source": [
    "early_stopping_callback = keras.callbacks.EarlyStopping(monitor='val_loss', patience=30, verbose=1)"
   ]
  },
  {
   "cell_type": "code",
   "execution_count": 21,
   "metadata": {
    "collapsed": true
   },
   "outputs": [],
   "source": [
    "# https://github.com/tensorflow/tensorflow/blob/master/tensorflow/tensorboard/README.md\n",
    "# https://keras.io/callbacks/#tensorboard\n",
    "# http://stackoverflow.com/questions/42112260/how-do-i-use-the-tensorboard-callback-of-keras\n",
    "tb_callback = keras.callbacks.TensorBoard(log_dir='../tmp/tf_log')\n",
    "#                                          histogram_freq=1, write_graph=True, write_images=True)\n",
    "#                                          histogram_freq=1, write_graph=True, write_images=True)\n",
    "# tbCallBack = keras.callbacks.TensorBoard(log_dir='./logs', histogram_freq=0, batch_size=32, write_graph=True, write_grads=False, write_images=False, embeddings_freq=0, embeddings_layer_names=None, embeddings_metadata=None)\n",
    "# To start tensorboard\n",
    "# tensorboard --logdir=/mnt/c/Users/olive/Development/ml/tf_log\n",
    "# open http://localhost:6006"
   ]
  },
  {
   "cell_type": "code",
   "execution_count": 22,
   "metadata": {
    "collapsed": true
   },
   "outputs": [],
   "source": [
    "!rm -rf ../tmp/tf_log\n",
    "!rm -rf ../tmp/model-checkpoints\n",
    "\n",
    "!mkdir ../tmp/model-checkpoints\n",
    "!mkdir ../tmp/tf_log"
   ]
  },
  {
   "cell_type": "code",
   "execution_count": 23,
   "metadata": {
    "collapsed": true
   },
   "outputs": [],
   "source": [
    "# training on a smaller subset due to lack of processing power, need to try on more powerful machine with all data\n",
    "\n",
    "# X_train, X_test, y_train, y_test = train_test_split(X, y, test_size=0.9, random_state=3)\n",
    "# We can use all our data for training, because we have a completely separate set for testing later\n",
    "X_train = X\n",
    "y_train = y"
   ]
  },
  {
   "cell_type": "code",
   "execution_count": 24,
   "metadata": {},
   "outputs": [
    {
     "data": {
      "text/plain": [
       "((3790, 64, 64, 3), (3790, 6))"
      ]
     },
     "execution_count": 24,
     "metadata": {},
     "output_type": "execute_result"
    }
   ],
   "source": [
    "X_train.shape, y_train.shape"
   ]
  },
  {
   "cell_type": "code",
   "execution_count": 36,
   "metadata": {},
   "outputs": [
    {
     "name": "stdout",
     "output_type": "stream",
     "text": [
      "_________________________________________________________________\n",
      "Layer (type)                 Output Shape              Param #   \n",
      "=================================================================\n",
      "input_6 (InputLayer)         (None, 64, 64, 3)         0         \n",
      "_________________________________________________________________\n",
      "conv2d_23 (Conv2D)           (None, 62, 62, 64)        1792      \n",
      "_________________________________________________________________\n",
      "dropout_15 (Dropout)         (None, 62, 62, 64)        0         \n",
      "_________________________________________________________________\n",
      "conv2d_24 (Conv2D)           (None, 60, 60, 64)        36928     \n",
      "_________________________________________________________________\n",
      "dropout_16 (Dropout)         (None, 60, 60, 64)        0         \n",
      "_________________________________________________________________\n",
      "conv2d_25 (Conv2D)           (None, 58, 58, 64)        36928     \n",
      "_________________________________________________________________\n",
      "dropout_17 (Dropout)         (None, 58, 58, 64)        0         \n",
      "_________________________________________________________________\n",
      "max_pooling2d_11 (MaxPooling (None, 29, 29, 64)        0         \n",
      "_________________________________________________________________\n",
      "flatten_5 (Flatten)          (None, 53824)             0         \n",
      "_________________________________________________________________\n",
      "dense_9 (Dense)              (None, 256)               13779200  \n",
      "_________________________________________________________________\n",
      "dropout_18 (Dropout)         (None, 256)               0         \n",
      "_________________________________________________________________\n",
      "dense_10 (Dense)             (None, 6)                 1542      \n",
      "=================================================================\n",
      "Total params: 13,856,390\n",
      "Trainable params: 13,856,390\n",
      "Non-trainable params: 0\n",
      "_________________________________________________________________\n"
     ]
    }
   ],
   "source": [
    "from keras.models import Model\n",
    "from keras.layers import Dense, Dropout, Activation, Flatten, Input\n",
    "from keras.layers import Convolution2D, MaxPooling2D\n",
    "\n",
    "# drop_out = 0.75\n",
    "drop_out = 0.5\n",
    "# drop_out = 0.25\n",
    "# drop_out = 0.0\n",
    "\n",
    "# input tensor for a 3-channel 64x64 image\n",
    "inputs = Input(shape=(64, 64, 3))\n",
    "\n",
    "# one block of convolutional layers\n",
    "x = Convolution2D(64, 3, 3, activation='relu')(inputs)\n",
    "x = Dropout(drop_out)(x)\n",
    "x = Convolution2D(64, 3, 3, activation='relu')(x)\n",
    "x = Dropout(drop_out)(x)\n",
    "x = Convolution2D(64, 3, 3, activation='relu')(x)\n",
    "x = Dropout(drop_out)(x)\n",
    "x = MaxPooling2D(pool_size=(2, 2))(x)\n",
    "\n",
    "# one more block\n",
    "# x = Convolution2D(128, 3, 3, activation='relu')(x)\n",
    "# x = Convolution2D(128, 3, 3, activation='relu')(x)\n",
    "# x = MaxPooling2D(pool_size=(2, 2))(x)\n",
    "# x = Dropout(drop_out)(x)\n",
    "\n",
    "# one more block\n",
    "# x = Convolution2D(256, 3, 3, activation='relu')(x)\n",
    "# x = MaxPooling2D(pool_size=(2, 2))(x)\n",
    "# x = Dropout(drop_out)(x)\n",
    "\n",
    "x = Flatten()(x)\n",
    "x = Dense(256, activation='relu')(x)\n",
    "x = Dropout(drop_out)(x)\n",
    "\n",
    "# softmax activation, 6 categories\n",
    "predictions = Dense(6, activation='softmax')(x)\n",
    "model = Model(input=inputs, output=predictions)\n",
    "model.summary()\n",
    "model.compile(optimizer='rmsprop',\n",
    "              loss='categorical_crossentropy',\n",
    "              metrics=['accuracy'])"
   ]
  },
  {
   "cell_type": "code",
   "execution_count": 37,
   "metadata": {},
   "outputs": [
    {
     "name": "stdout",
     "output_type": "stream",
     "text": [
      "2017-07-21T08:43:37.817327\n",
      "Train on 2653 samples, validate on 1137 samples\n",
      "Epoch 1/150\n",
      "2653/2653 [==============================] - 7s - loss: 1.7734 - acc: 0.2929 - val_loss: 1.8906 - val_acc: 0.0000e+00\n",
      "Epoch 2/150\n",
      "2653/2653 [==============================] - 7s - loss: 1.3417 - acc: 0.3611 - val_loss: 3.3012 - val_acc: 0.0000e+00\n",
      "Epoch 3/150\n",
      "2653/2653 [==============================] - 7s - loss: 1.3424 - acc: 0.4078 - val_loss: 5.2970 - val_acc: 0.0000e+00\n",
      "Epoch 4/150\n",
      "2653/2653 [==============================] - 7s - loss: 1.2293 - acc: 0.4369 - val_loss: 6.7569 - val_acc: 0.0000e+00\n",
      "Epoch 5/150\n",
      "2653/2653 [==============================] - 7s - loss: 1.2265 - acc: 0.4538 - val_loss: 11.5121 - val_acc: 0.1381\n",
      "Epoch 6/150\n",
      "2653/2653 [==============================] - 7s - loss: 1.2597 - acc: 0.4828 - val_loss: 3.5925 - val_acc: 0.0343\n",
      "Epoch 7/150\n",
      "2653/2653 [==============================] - 7s - loss: 1.1286 - acc: 0.5168 - val_loss: 4.0041 - val_acc: 0.0079\n",
      "Epoch 8/150\n",
      "2653/2653 [==============================] - 7s - loss: 1.0703 - acc: 0.5428 - val_loss: 7.4894 - val_acc: 0.0290\n",
      "Epoch 9/150\n",
      "2653/2653 [==============================] - 7s - loss: 1.0376 - acc: 0.5718 - val_loss: 10.3210 - val_acc: 0.0220\n",
      "Epoch 10/150\n",
      "2653/2653 [==============================] - 7s - loss: 0.9656 - acc: 0.6035 - val_loss: 9.2061 - val_acc: 0.0589\n",
      "Epoch 11/150\n",
      "2653/2653 [==============================] - 7s - loss: 0.8954 - acc: 0.6317 - val_loss: 10.0298 - val_acc: 0.0923\n",
      "Epoch 12/150\n",
      "2653/2653 [==============================] - 7s - loss: 0.8291 - acc: 0.6721 - val_loss: 10.6309 - val_acc: 0.0018\n",
      "Epoch 13/150\n",
      "2653/2653 [==============================] - 7s - loss: 0.7610 - acc: 0.7011 - val_loss: 12.2052 - val_acc: 0.1161\n",
      "Epoch 14/150\n",
      "2653/2653 [==============================] - 7s - loss: 0.6820 - acc: 0.7248 - val_loss: 10.3401 - val_acc: 0.0792\n",
      "Epoch 15/150\n",
      "2653/2653 [==============================] - 7s - loss: 0.6509 - acc: 0.7429 - val_loss: 9.3183 - val_acc: 0.0325\n",
      "Epoch 16/150\n",
      "2653/2653 [==============================] - 7s - loss: 0.5601 - acc: 0.7784 - val_loss: 12.5683 - val_acc: 0.0449\n",
      "Epoch 17/150\n",
      "2653/2653 [==============================] - 7s - loss: 0.4858 - acc: 0.8070 - val_loss: 11.7233 - val_acc: 0.0413\n",
      "Epoch 18/150\n",
      "2653/2653 [==============================] - 7s - loss: 0.4540 - acc: 0.8304 - val_loss: 13.0780 - val_acc: 0.0616\n",
      "Epoch 19/150\n",
      "2653/2653 [==============================] - 7s - loss: 0.4122 - acc: 0.8496 - val_loss: 12.8875 - val_acc: 0.0959\n",
      "Epoch 20/150\n",
      "2653/2653 [==============================] - 7s - loss: 0.3674 - acc: 0.8620 - val_loss: 12.4155 - val_acc: 0.0809\n",
      "Epoch 21/150\n",
      "2653/2653 [==============================] - 7s - loss: 0.3218 - acc: 0.8892 - val_loss: 13.3554 - val_acc: 0.0264\n",
      "Epoch 22/150\n",
      "2653/2653 [==============================] - 7s - loss: 0.2769 - acc: 0.8990 - val_loss: 12.9045 - val_acc: 0.0668\n",
      "Epoch 23/150\n",
      "2653/2653 [==============================] - 7s - loss: 0.2767 - acc: 0.9012 - val_loss: 13.1259 - val_acc: 0.0800\n",
      "Epoch 24/150\n",
      "2653/2653 [==============================] - 7s - loss: 0.2543 - acc: 0.9152 - val_loss: 13.2976 - val_acc: 0.1099\n",
      "Epoch 25/150\n",
      "2653/2653 [==============================] - 7s - loss: 0.2112 - acc: 0.9310 - val_loss: 13.6668 - val_acc: 0.0510\n",
      "Epoch 26/150\n",
      "2653/2653 [==============================] - 7s - loss: 0.2054 - acc: 0.9344 - val_loss: 13.4966 - val_acc: 0.0756\n",
      "Epoch 27/150\n",
      "2653/2653 [==============================] - 7s - loss: 0.2946 - acc: 0.9220 - val_loss: 13.1073 - val_acc: 0.0554\n",
      "Epoch 28/150\n",
      "2653/2653 [==============================] - 7s - loss: 0.1820 - acc: 0.9389 - val_loss: 13.3872 - val_acc: 0.0580\n",
      "Epoch 29/150\n",
      "2653/2653 [==============================] - 7s - loss: 0.1894 - acc: 0.9367 - val_loss: 13.2473 - val_acc: 0.0721\n",
      "Epoch 30/150\n",
      "2653/2653 [==============================] - 7s - loss: 0.1484 - acc: 0.9476 - val_loss: 13.7361 - val_acc: 0.0950\n",
      "Epoch 31/150\n",
      "2653/2653 [==============================] - 7s - loss: 0.1501 - acc: 0.9555 - val_loss: 13.2746 - val_acc: 0.0695\n",
      "Epoch 32/150\n",
      "2653/2653 [==============================] - 7s - loss: 0.1425 - acc: 0.9593 - val_loss: 13.5953 - val_acc: 0.0739\n",
      "Epoch 00031: early stopping\n",
      "2017-07-21T08:47:39.604160\n"
     ]
    }
   ],
   "source": [
    "# Running on a GPU bach size might be critical depdendng on the GPU memory available\n",
    "# more is desirable, but we might end up using 50 only \n",
    "print(datetime.utcnow().isoformat())\n",
    "model.fit(X_train, y_train, epochs=150, batch_size=50, validation_split=0.3, \n",
    "          callbacks=[tb_callback, early_stopping_callback])\n",
    "#           callbacks=[tb_callback])\n",
    "# model.fit(X_train, y_train, epochs=50, batch_size=200, validation_split=0.3)\n",
    "print(datetime.utcnow().isoformat())"
   ]
  },
  {
   "cell_type": "markdown",
   "metadata": {},
   "source": [
    "### It really tries not to overfit, but in general we do not have enough training data"
   ]
  },
  {
   "cell_type": "code",
   "execution_count": null,
   "metadata": {},
   "outputs": [],
   "source": [
    "train_loss, train_accuracy = model.evaluate(X_train, y_train, batch_size=32)\n",
    "train_loss, train_accuracy"
   ]
  },
  {
   "cell_type": "code",
   "execution_count": null,
   "metadata": {},
   "outputs": [],
   "source": [
    "test_loss, test_accuracy = model.evaluate(X_test, y_test, batch_size=32)\n",
    "test_loss, test_accuracy"
   ]
  },
  {
   "cell_type": "code",
   "execution_count": null,
   "metadata": {
    "collapsed": true
   },
   "outputs": [],
   "source": [
    "!mkdir models"
   ]
  },
  {
   "cell_type": "code",
   "execution_count": null,
   "metadata": {
    "collapsed": true
   },
   "outputs": [],
   "source": [
    "model.save('models/conv-vgg-augmented.hdf5')"
   ]
  },
  {
   "cell_type": "code",
   "execution_count": null,
   "metadata": {
    "collapsed": true
   },
   "outputs": [],
   "source": [
    "!ls -l models"
   ]
  },
  {
   "cell_type": "code",
   "execution_count": null,
   "metadata": {
    "collapsed": true
   },
   "outputs": [],
   "source": []
  }
 ],
 "metadata": {
  "kernelspec": {
   "display_name": "Python 3",
   "language": "python",
   "name": "python3"
  },
  "language_info": {
   "codemirror_mode": {
    "name": "ipython",
    "version": 3
   },
   "file_extension": ".py",
   "mimetype": "text/x-python",
   "name": "python",
   "nbconvert_exporter": "python",
   "pygments_lexer": "ipython3",
   "version": "3.6.1"
  }
 },
 "nbformat": 4,
 "nbformat_minor": 2
}
