{
 "cells": [
  {
   "cell_type": "markdown",
   "metadata": {},
   "source": [
    "# Kapitel 7: Neuronale Netzwerke"
   ]
  },
  {
   "cell_type": "code",
   "execution_count": 1,
   "metadata": {
    "collapsed": true
   },
   "outputs": [],
   "source": [
    "import warnings\n",
    "warnings.filterwarnings('ignore')"
   ]
  },
  {
   "cell_type": "code",
   "execution_count": 2,
   "metadata": {},
   "outputs": [
    {
     "name": "stdout",
     "output_type": "stream",
     "text": [
      "Populating the interactive namespace from numpy and matplotlib\n"
     ]
    }
   ],
   "source": [
    "%matplotlib inline\n",
    "%pylab inline"
   ]
  },
  {
   "cell_type": "code",
   "execution_count": 3,
   "metadata": {
    "collapsed": true
   },
   "outputs": [],
   "source": [
    "import matplotlib.pylab as plt\n",
    "import numpy as np"
   ]
  },
  {
   "cell_type": "code",
   "execution_count": 4,
   "metadata": {
    "collapsed": true
   },
   "outputs": [],
   "source": [
    "colors = 'bwr'#['b','y','r']\n",
    "CMAP = colors#plt.cm.rainbow"
   ]
  },
  {
   "cell_type": "code",
   "execution_count": 5,
   "metadata": {
    "collapsed": true
   },
   "outputs": [],
   "source": [
    "from distutils.version import StrictVersion"
   ]
  },
  {
   "cell_type": "code",
   "execution_count": 6,
   "metadata": {},
   "outputs": [
    {
     "name": "stdout",
     "output_type": "stream",
     "text": [
      "0.18.1\n"
     ]
    }
   ],
   "source": [
    "import sklearn\n",
    "print(sklearn.__version__)\n",
    "\n",
    "assert StrictVersion(sklearn.__version__ ) >= StrictVersion('0.18.1')"
   ]
  },
  {
   "cell_type": "code",
   "execution_count": 7,
   "metadata": {},
   "outputs": [
    {
     "name": "stdout",
     "output_type": "stream",
     "text": [
      "1.2.1\n"
     ]
    }
   ],
   "source": [
    "import tensorflow as tf\n",
    "tf.logging.set_verbosity(tf.logging.ERROR)\n",
    "print(tf.__version__)\n",
    "\n",
    "assert StrictVersion(tf.__version__) >= StrictVersion('1.1.0')"
   ]
  },
  {
   "cell_type": "code",
   "execution_count": 8,
   "metadata": {},
   "outputs": [
    {
     "name": "stderr",
     "output_type": "stream",
     "text": [
      "Using TensorFlow backend.\n"
     ]
    },
    {
     "name": "stdout",
     "output_type": "stream",
     "text": [
      "2.0.6\n"
     ]
    }
   ],
   "source": [
    "import keras\n",
    "print(keras.__version__)\n",
    "\n",
    "assert StrictVersion(keras.__version__) >= StrictVersion('2.0.0')"
   ]
  },
  {
   "cell_type": "code",
   "execution_count": 11,
   "metadata": {},
   "outputs": [],
   "source": [
    "# Evtl. hat Azure not 0.19, wir brauchen aber .20 fÃ¼r das Plotting, dann das hier installieren und Notebook neu starten\n",
    "# !conda update pandas -y"
   ]
  },
  {
   "cell_type": "code",
   "execution_count": 12,
   "metadata": {},
   "outputs": [
    {
     "name": "stdout",
     "output_type": "stream",
     "text": [
      "0.20.1\n"
     ]
    }
   ],
   "source": [
    "import pandas as pd\n",
    "print(pd.__version__)\n",
    "\n",
    "assert StrictVersion(pd.__version__) >= StrictVersion('0.20.0')"
   ]
  },
  {
   "cell_type": "markdown",
   "metadata": {},
   "source": [
    "## Laden und Vorbereiten der Bild-Daten"
   ]
  },
  {
   "cell_type": "code",
   "execution_count": 13,
   "metadata": {},
   "outputs": [],
   "source": [
    "# !curl -O https://raw.githubusercontent.com/DJCordhose/speed-limit-signs/master/data/speed-limit-signs.zip\n",
    "# from zipfile import ZipFile\n",
    "# zip = ZipFile(r'speed-limit-signs.zip')\n",
    "# zip.extractall('.')"
   ]
  },
  {
   "cell_type": "code",
   "execution_count": 14,
   "metadata": {},
   "outputs": [
    {
     "name": "stdout",
     "output_type": "stream",
     "text": [
      "total 28\r\n",
      "drwxrwxr-x 2 ubuntu ubuntu 4096 Jul 21 16:58 0\r\n",
      "drwxrwxr-x 2 ubuntu ubuntu 4096 Jul 21 16:58 1\r\n",
      "drwxrwxr-x 2 ubuntu ubuntu 4096 Jul 21 16:58 2\r\n",
      "drwxrwxr-x 2 ubuntu ubuntu 4096 Jul 21 16:58 3\r\n",
      "drwxrwxr-x 2 ubuntu ubuntu 4096 Jul 21 16:58 4\r\n",
      "drwxrwxr-x 2 ubuntu ubuntu 4096 Jul 21 16:58 5\r\n",
      "-rw-rw-r-- 1 ubuntu ubuntu  380 Jul 21 16:58 README.md\r\n"
     ]
    }
   ],
   "source": [
    "!ls -l speed-limit-signs"
   ]
  },
  {
   "cell_type": "code",
   "execution_count": 15,
   "metadata": {},
   "outputs": [
    {
     "name": "stdout",
     "output_type": "stream",
     "text": [
      "Data extracted from http://benchmark.ini.rub.de/?section=gtsdb&subsection=dataset\r\n",
      "\r\n",
      "From http://benchmark.ini.rub.de/Dataset_GTSDB/FullIJCNN2013.zip just the samples for the speed limit signs \r\n",
      "\r\n",
      "## Format\r\n",
      "\r\n",
      "https://en.wikipedia.org/wiki/Netpbm_format\r\n",
      "\r\n",
      "Can be previewed on a Mac and be processed by http://scikit-image.org/\r\n",
      "\r\n",
      "## Labels\r\n",
      "- 0: 30\r\n",
      "- 1: 50\r\n",
      "- 2: 70\r\n",
      "- 3: 80\r\n",
      "- 4: 100\r\n",
      "- 5: 120"
     ]
    }
   ],
   "source": [
    "!cat speed-limit-signs/README.md"
   ]
  },
  {
   "cell_type": "markdown",
   "metadata": {},
   "source": [
    "# Big Kudos to [Waleed Abdulla](https://medium.com/@waleedka) for providing the initial idea and many of the functions used to prepare and display the images: https://medium.com/@waleedka/traffic-sign-recognition-with-tensorflow-629dffc391a6#.i728o84ib  "
   ]
  },
  {
   "cell_type": "code",
   "execution_count": 16,
   "metadata": {
    "collapsed": true
   },
   "outputs": [],
   "source": [
    "import os\n",
    "import skimage.data\n",
    "import skimage.transform\n",
    "from keras.utils.np_utils import to_categorical\n",
    "import numpy as np\n",
    "\n",
    "def load_data(data_dir, type=\".ppm\"):\n",
    "    num_categories = 6\n",
    "\n",
    "    # Get all subdirectories of data_dir. Each represents a label.\n",
    "    directories = [d for d in os.listdir(data_dir) \n",
    "                   if os.path.isdir(os.path.join(data_dir, d))]\n",
    "    # Loop through the label directories and collect the data in\n",
    "    # two lists, labels and images.\n",
    "    labels = []\n",
    "    images = []\n",
    "    for d in directories:\n",
    "        label_dir = os.path.join(data_dir, d)\n",
    "        file_names = [os.path.join(label_dir, f) for f in os.listdir(label_dir) if f.endswith(type)]\n",
    "        # For each label, load it's images and add them to the images list.\n",
    "        # And add the label number (i.e. directory name) to the labels list.\n",
    "        for f in file_names:\n",
    "            images.append(skimage.data.imread(f))\n",
    "            labels.append(int(d))\n",
    "    images64 = [skimage.transform.resize(image, (64, 64)) for image in images]\n",
    "    return images64, labels"
   ]
  },
  {
   "cell_type": "code",
   "execution_count": 17,
   "metadata": {},
   "outputs": [],
   "source": [
    "# Load datasets.\n",
    "ROOT_PATH = \"./\"\n",
    "original_dir = os.path.join(ROOT_PATH, \"speed-limit-signs\")\n",
    "images, labels = load_data(original_dir, type=\".ppm\")"
   ]
  },
  {
   "cell_type": "code",
   "execution_count": 18,
   "metadata": {
    "collapsed": true
   },
   "outputs": [],
   "source": [
    "import matplotlib\n",
    "import matplotlib.pyplot as plt\n",
    "\n",
    "def display_images_and_labels(images, labels):\n",
    "    \"\"\"Display the first image of each label.\"\"\"\n",
    "    unique_labels = set(labels)\n",
    "    plt.figure(figsize=(15, 15))\n",
    "    i = 1\n",
    "    for label in unique_labels:\n",
    "        # Pick the first image for each label.\n",
    "        image = images[labels.index(label)]\n",
    "        plt.subplot(8, 8, i)  # A grid of 8 rows x 8 columns\n",
    "        plt.axis('off')\n",
    "        plt.title(\"Label {0} ({1})\".format(label, labels.count(label)))\n",
    "        i += 1\n",
    "        _ = plt.imshow(image)"
   ]
  },
  {
   "cell_type": "code",
   "execution_count": 19,
   "metadata": {},
   "outputs": [
    {
     "data": {
      "image/png": "[encoded data removed]",
      "text/plain": [
       "<matplotlib.figure.Figure at 0x7fad40baa6a0>"
      ]
     },
     "metadata": {},
     "output_type": "display_data"
    }
   ],
   "source": [
    "display_images_and_labels(images, labels)\n",
    "# plt.savefig('ML_0708_signs.png', bbox_inches='tight')"
   ]
  },
  {
   "cell_type": "markdown",
   "metadata": {},
   "source": [
    "## Modell-Architektur"
   ]
  },
  {
   "cell_type": "code",
   "execution_count": 20,
   "metadata": {},
   "outputs": [],
   "source": [
    "y = np.array(labels)\n",
    "X = np.array(images)\n",
    "from keras.utils.np_utils import to_categorical\n",
    "\n",
    "num_categories = 6\n",
    "\n",
    "y = to_categorical(y, num_categories)"
   ]
  },
  {
   "cell_type": "code",
   "execution_count": 21,
   "metadata": {
    "collapsed": true
   },
   "outputs": [],
   "source": [
    "from keras.models import Model\n",
    "from keras.layers import Dense, Dropout, Flatten, Input\n",
    "from keras.layers import Convolution2D, MaxPooling2D\n",
    "\n",
    "# input tensor for a 3-channel 64x64 image\n",
    "inputs = Input(shape=(64, 64, 3))\n",
    "\n",
    "# one block of convolutional layers\n",
    "x = Convolution2D(64, 3, activation='relu', padding='same')(inputs)\n",
    "x = Convolution2D(64, 3, activation='relu', padding='same')(x)\n",
    "x = Convolution2D(64, 3, activation='relu', padding='same')(x)\n",
    "x = MaxPooling2D(pool_size=(2, 2))(x)\n",
    "\n",
    "# one more block\n",
    "x = Convolution2D(128, 3, activation='relu', padding='same')(x)\n",
    "x = Convolution2D(128, 3, activation='relu', padding='same')(x)\n",
    "x = MaxPooling2D(pool_size=(2, 2))(x)\n",
    "\n",
    "# one more block\n",
    "x = Convolution2D(256, 3, activation='relu', padding='same')(x)\n",
    "x = MaxPooling2D(pool_size=(2, 2))(x)\n",
    "\n",
    "x = Flatten()(x)\n",
    "x = Dense(256, activation='relu')(x)\n",
    "\n",
    "# softmax activation, 6 categories\n",
    "predictions = Dense(6, activation='softmax')(x)"
   ]
  },
  {
   "cell_type": "code",
   "execution_count": 22,
   "metadata": {},
   "outputs": [
    {
     "name": "stdout",
     "output_type": "stream",
     "text": [
      "_________________________________________________________________\n",
      "Layer (type)                 Output Shape              Param #   \n",
      "=================================================================\n",
      "input_1 (InputLayer)         (None, 64, 64, 3)         0         \n",
      "_________________________________________________________________\n",
      "conv2d_1 (Conv2D)            (None, 64, 64, 64)        1792      \n",
      "_________________________________________________________________\n",
      "conv2d_2 (Conv2D)            (None, 64, 64, 64)        36928     \n",
      "_________________________________________________________________\n",
      "conv2d_3 (Conv2D)            (None, 64, 64, 64)        36928     \n",
      "_________________________________________________________________\n",
      "max_pooling2d_1 (MaxPooling2 (None, 32, 32, 64)        0         \n",
      "_________________________________________________________________\n",
      "conv2d_4 (Conv2D)            (None, 32, 32, 128)       73856     \n",
      "_________________________________________________________________\n",
      "conv2d_5 (Conv2D)            (None, 32, 32, 128)       147584    \n",
      "_________________________________________________________________\n",
      "max_pooling2d_2 (MaxPooling2 (None, 16, 16, 128)       0         \n",
      "_________________________________________________________________\n",
      "conv2d_6 (Conv2D)            (None, 16, 16, 256)       295168    \n",
      "_________________________________________________________________\n",
      "max_pooling2d_3 (MaxPooling2 (None, 8, 8, 256)         0         \n",
      "_________________________________________________________________\n",
      "flatten_1 (Flatten)          (None, 16384)             0         \n",
      "_________________________________________________________________\n",
      "dense_1 (Dense)              (None, 256)               4194560   \n",
      "_________________________________________________________________\n",
      "dense_2 (Dense)              (None, 6)                 1542      \n",
      "=================================================================\n",
      "Total params: 4,788,358\n",
      "Trainable params: 4,788,358\n",
      "Non-trainable params: 0\n",
      "_________________________________________________________________\n"
     ]
    }
   ],
   "source": [
    "model = Model(input=inputs, output=predictions)\n",
    "model.summary()"
   ]
  },
  {
   "cell_type": "code",
   "execution_count": 23,
   "metadata": {
    "collapsed": true
   },
   "outputs": [],
   "source": [
    "model.compile(optimizer='adam',\n",
    "              loss='categorical_crossentropy',\n",
    "              metrics=['accuracy'])"
   ]
  },
  {
   "cell_type": "markdown",
   "metadata": {},
   "source": [
    "## Zuerst testen wir unser Modell, ob wir es Ã¼berhaupt trainiert bekommen, indem wir auf einer kleinen Menge von Daten overfitten"
   ]
  },
  {
   "cell_type": "code",
   "execution_count": 24,
   "metadata": {
    "collapsed": true
   },
   "outputs": [],
   "source": [
    "from sklearn.model_selection import train_test_split\n",
    "X_train, X_test, y_train, y_test = train_test_split(X, y, test_size=0.9, random_state=42, stratify=y)"
   ]
  },
  {
   "cell_type": "code",
   "execution_count": 25,
   "metadata": {},
   "outputs": [
    {
     "data": {
      "text/plain": [
       "((37, 64, 64, 3), (37, 6))"
      ]
     },
     "execution_count": 25,
     "metadata": {},
     "output_type": "execute_result"
    }
   ],
   "source": [
    "X_train.shape, y_train.shape"
   ]
  },
  {
   "cell_type": "code",
   "execution_count": 34,
   "metadata": {},
   "outputs": [],
   "source": [
    "!rm -r tf_log\n",
    "\n",
    "# https://keras.io/callbacks/#tensorboard\n",
    "tb_callback = keras.callbacks.TensorBoard(log_dir='./tf_log')\n",
    "# To start tensorboard\n",
    "# tensorboard --logdir=/mnt/c/Users/olive/Development/ml/tf_log\n",
    "# open http://localhost:6006"
   ]
  },
  {
   "cell_type": "code",
   "execution_count": null,
   "metadata": {},
   "outputs": [],
   "source": [
    "%time model.fit(X_train, y_train, epochs=100, validation_split=0.3, callbacks=[tb_callback])"
   ]
  },
  {
   "cell_type": "markdown",
   "metadata": {},
   "source": [
    "## Das sieht gut aus, nun versuchen wir es mit dem kompletten Datensatz ohne Overfitting und mit Dropout"
   ]
  },
  {
   "cell_type": "code",
   "execution_count": 112,
   "metadata": {
    "collapsed": true
   },
   "outputs": [],
   "source": [
    "from keras.models import Model\n",
    "from keras.layers import Dense, Dropout, Activation, Flatten, Input\n",
    "from keras.layers import Convolution2D, MaxPooling2D\n",
    "\n",
    "drop_out = 0.6\n",
    "\n",
    "# input tensor for a 3-channel 64x64 image\n",
    "inputs = Input(shape=(64, 64, 3))\n",
    "\n",
    "# one block of convolutional layers\n",
    "x = Convolution2D(64, 3, activation='relu', padding='same')(inputs)\n",
    "x = Convolution2D(64, 3, activation='relu', padding='same')(x)\n",
    "x = Convolution2D(64, 3, activation='relu', padding='same')(x)\n",
    "x = MaxPooling2D(pool_size=(2, 2))(x)\n",
    "x = Dropout(drop_out)(x)\n",
    "\n",
    "# one more block\n",
    "x = Convolution2D(128, 3, activation='relu', padding='same')(x)\n",
    "x = Convolution2D(128, 3, activation='relu', padding='same')(x)\n",
    "x = MaxPooling2D(pool_size=(2, 2))(x)\n",
    "x = Dropout(drop_out)(x)\n",
    "\n",
    "# one more block\n",
    "x = Convolution2D(256, 3, activation='relu', padding='same')(x)\n",
    "x = MaxPooling2D(pool_size=(2, 2))(x)\n",
    "x = Dropout(drop_out)(x)\n",
    "\n",
    "x = Flatten()(x)\n",
    "x = Dense(256, activation='relu')(x)\n",
    "x = Dropout(drop_out)(x)\n",
    "\n",
    "# softmax activation, 6 categories\n",
    "predictions = Dense(6, activation='softmax')(x)"
   ]
  },
  {
   "cell_type": "code",
   "execution_count": 113,
   "metadata": {},
   "outputs": [
    {
     "name": "stdout",
     "output_type": "stream",
     "text": [
      "_________________________________________________________________\n",
      "Layer (type)                 Output Shape              Param #   \n",
      "=================================================================\n",
      "input_9 (InputLayer)         (None, 64, 64, 3)         0         \n",
      "_________________________________________________________________\n",
      "conv2d_49 (Conv2D)           (None, 64, 64, 64)        1792      \n",
      "_________________________________________________________________\n",
      "conv2d_50 (Conv2D)           (None, 64, 64, 64)        36928     \n",
      "_________________________________________________________________\n",
      "conv2d_51 (Conv2D)           (None, 64, 64, 64)        36928     \n",
      "_________________________________________________________________\n",
      "max_pooling2d_25 (MaxPooling (None, 32, 32, 64)        0         \n",
      "_________________________________________________________________\n",
      "dropout_29 (Dropout)         (None, 32, 32, 64)        0         \n",
      "_________________________________________________________________\n",
      "conv2d_52 (Conv2D)           (None, 32, 32, 128)       73856     \n",
      "_________________________________________________________________\n",
      "conv2d_53 (Conv2D)           (None, 32, 32, 128)       147584    \n",
      "_________________________________________________________________\n",
      "max_pooling2d_26 (MaxPooling (None, 16, 16, 128)       0         \n",
      "_________________________________________________________________\n",
      "dropout_30 (Dropout)         (None, 16, 16, 128)       0         \n",
      "_________________________________________________________________\n",
      "conv2d_54 (Conv2D)           (None, 16, 16, 256)       295168    \n",
      "_________________________________________________________________\n",
      "max_pooling2d_27 (MaxPooling (None, 8, 8, 256)         0         \n",
      "_________________________________________________________________\n",
      "dropout_31 (Dropout)         (None, 8, 8, 256)         0         \n",
      "_________________________________________________________________\n",
      "flatten_9 (Flatten)          (None, 16384)             0         \n",
      "_________________________________________________________________\n",
      "dense_17 (Dense)             (None, 256)               4194560   \n",
      "_________________________________________________________________\n",
      "dropout_32 (Dropout)         (None, 256)               0         \n",
      "_________________________________________________________________\n",
      "dense_18 (Dense)             (None, 6)                 1542      \n",
      "=================================================================\n",
      "Total params: 4,788,358\n",
      "Trainable params: 4,788,358\n",
      "Non-trainable params: 0\n",
      "_________________________________________________________________\n"
     ]
    }
   ],
   "source": [
    "model = Model(input=inputs, output=predictions)\n",
    "model.summary()"
   ]
  },
  {
   "cell_type": "code",
   "execution_count": 114,
   "metadata": {
    "collapsed": true
   },
   "outputs": [],
   "source": [
    "model.compile(optimizer='adam',\n",
    "              loss='categorical_crossentropy',\n",
    "              metrics=['accuracy'])"
   ]
  },
  {
   "cell_type": "code",
   "execution_count": 97,
   "metadata": {
    "collapsed": true
   },
   "outputs": [],
   "source": [
    "X_train, X_test, y_train, y_test = train_test_split(X, y, test_size=0.2, random_state=42, stratify=y)"
   ]
  },
  {
   "cell_type": "code",
   "execution_count": 98,
   "metadata": {
    "collapsed": true
   },
   "outputs": [],
   "source": [
    "early_stopping_callback = keras.callbacks.EarlyStopping(monitor='val_loss', patience=50, verbose=1)"
   ]
  },
  {
   "cell_type": "code",
   "execution_count": 99,
   "metadata": {
    "collapsed": true
   },
   "outputs": [],
   "source": [
    "checkpoint_callback = keras.callbacks.ModelCheckpoint('./model-checkpoints/weights.epoch-{epoch:02d}-val_loss-{val_loss:.2f}.hdf5');"
   ]
  },
  {
   "cell_type": "code",
   "execution_count": 100,
   "metadata": {},
   "outputs": [],
   "source": [
    "!rm -r tf_log"
   ]
  },
  {
   "cell_type": "code",
   "execution_count": 101,
   "metadata": {},
   "outputs": [
    {
     "name": "stdout",
     "output_type": "stream",
     "text": [
      "Train on 242 samples, validate on 61 samples\n",
      "Epoch 1/500\n",
      "242/242 [==============================] - 1s - loss: 1.8217 - acc: 0.1488 - val_loss: 1.7431 - val_acc: 0.0984\n",
      "Epoch 2/500\n",
      "242/242 [==============================] - 0s - loss: 1.7643 - acc: 0.2273 - val_loss: 1.7637 - val_acc: 0.2787\n",
      "Epoch 3/500\n",
      "242/242 [==============================] - 0s - loss: 1.7274 - acc: 0.2025 - val_loss: 1.7752 - val_acc: 0.3607\n",
      "Epoch 4/500\n",
      "242/242 [==============================] - 0s - loss: 1.7258 - acc: 0.2273 - val_loss: 1.7663 - val_acc: 0.3607\n",
      "Epoch 5/500\n",
      "242/242 [==============================] - 0s - loss: 1.7133 - acc: 0.2355 - val_loss: 1.7406 - val_acc: 0.2787\n",
      "Epoch 6/500\n",
      "242/242 [==============================] - 0s - loss: 1.7162 - acc: 0.2231 - val_loss: 1.7609 - val_acc: 0.1148\n",
      "Epoch 7/500\n",
      "242/242 [==============================] - 0s - loss: 1.6820 - acc: 0.2190 - val_loss: 1.7739 - val_acc: 0.1475\n",
      "Epoch 8/500\n",
      "242/242 [==============================] - 0s - loss: 1.6770 - acc: 0.2355 - val_loss: 1.7761 - val_acc: 0.1967\n",
      "Epoch 9/500\n",
      "242/242 [==============================] - 0s - loss: 1.6677 - acc: 0.2479 - val_loss: 1.7728 - val_acc: 0.1803\n",
      "Epoch 10/500\n",
      "242/242 [==============================] - 0s - loss: 1.6541 - acc: 0.2645 - val_loss: 1.7694 - val_acc: 0.2131\n",
      "Epoch 11/500\n",
      "242/242 [==============================] - 0s - loss: 1.6558 - acc: 0.2893 - val_loss: 1.7779 - val_acc: 0.1803\n",
      "Epoch 12/500\n",
      "242/242 [==============================] - 0s - loss: 1.6769 - acc: 0.2810 - val_loss: 1.7794 - val_acc: 0.1803\n",
      "Epoch 13/500\n",
      "242/242 [==============================] - 0s - loss: 1.6548 - acc: 0.2893 - val_loss: 1.7580 - val_acc: 0.1803\n",
      "Epoch 14/500\n",
      "242/242 [==============================] - 0s - loss: 1.6490 - acc: 0.2479 - val_loss: 1.7527 - val_acc: 0.1967\n",
      "Epoch 15/500\n",
      "242/242 [==============================] - 0s - loss: 1.6403 - acc: 0.2769 - val_loss: 1.7658 - val_acc: 0.2295\n",
      "Epoch 16/500\n",
      "242/242 [==============================] - 0s - loss: 1.6310 - acc: 0.2975 - val_loss: 1.7623 - val_acc: 0.2295\n",
      "Epoch 17/500\n",
      "242/242 [==============================] - 0s - loss: 1.6501 - acc: 0.2521 - val_loss: 1.7517 - val_acc: 0.2295\n",
      "Epoch 18/500\n",
      "242/242 [==============================] - 0s - loss: 1.6336 - acc: 0.2810 - val_loss: 1.7409 - val_acc: 0.2295\n",
      "Epoch 19/500\n",
      "242/242 [==============================] - 0s - loss: 1.6584 - acc: 0.2397 - val_loss: 1.7721 - val_acc: 0.2623\n",
      "Epoch 20/500\n",
      "242/242 [==============================] - 0s - loss: 1.6500 - acc: 0.2851 - val_loss: 1.7539 - val_acc: 0.2459\n",
      "Epoch 21/500\n",
      "242/242 [==============================] - 0s - loss: 1.6261 - acc: 0.3017 - val_loss: 1.7115 - val_acc: 0.2295\n",
      "Epoch 22/500\n",
      "242/242 [==============================] - 0s - loss: 1.6468 - acc: 0.2934 - val_loss: 1.7382 - val_acc: 0.1803\n",
      "Epoch 23/500\n",
      "242/242 [==============================] - 0s - loss: 1.6219 - acc: 0.3140 - val_loss: 1.7638 - val_acc: 0.2295\n",
      "Epoch 24/500\n",
      "242/242 [==============================] - 0s - loss: 1.6287 - acc: 0.3058 - val_loss: 1.7515 - val_acc: 0.2295\n",
      "Epoch 25/500\n",
      "242/242 [==============================] - 0s - loss: 1.6121 - acc: 0.3017 - val_loss: 1.7148 - val_acc: 0.2295\n",
      "Epoch 26/500\n",
      "242/242 [==============================] - 0s - loss: 1.6305 - acc: 0.2727 - val_loss: 1.7241 - val_acc: 0.2295\n",
      "Epoch 27/500\n",
      "242/242 [==============================] - 0s - loss: 1.6066 - acc: 0.3099 - val_loss: 1.7428 - val_acc: 0.2295\n",
      "Epoch 28/500\n",
      "242/242 [==============================] - 0s - loss: 1.6076 - acc: 0.2810 - val_loss: 1.7393 - val_acc: 0.2131\n",
      "Epoch 29/500\n",
      "242/242 [==============================] - 0s - loss: 1.6286 - acc: 0.2810 - val_loss: 1.7271 - val_acc: 0.2295\n",
      "Epoch 30/500\n",
      "242/242 [==============================] - 0s - loss: 1.5941 - acc: 0.2975 - val_loss: 1.6896 - val_acc: 0.2459\n",
      "Epoch 31/500\n",
      "242/242 [==============================] - 0s - loss: 1.6227 - acc: 0.2975 - val_loss: 1.7170 - val_acc: 0.2131\n",
      "Epoch 32/500\n",
      "242/242 [==============================] - 0s - loss: 1.6057 - acc: 0.2893 - val_loss: 1.7416 - val_acc: 0.2623\n",
      "Epoch 33/500\n",
      "242/242 [==============================] - 0s - loss: 1.6033 - acc: 0.3099 - val_loss: 1.7044 - val_acc: 0.1967\n",
      "Epoch 34/500\n",
      "242/242 [==============================] - 0s - loss: 1.5976 - acc: 0.3099 - val_loss: 1.6742 - val_acc: 0.2131\n",
      "Epoch 35/500\n",
      "242/242 [==============================] - 0s - loss: 1.5820 - acc: 0.3430 - val_loss: 1.6993 - val_acc: 0.2131\n",
      "Epoch 36/500\n",
      "242/242 [==============================] - 0s - loss: 1.5871 - acc: 0.3306 - val_loss: 1.7314 - val_acc: 0.2295\n",
      "Epoch 37/500\n",
      "242/242 [==============================] - 0s - loss: 1.5922 - acc: 0.3388 - val_loss: 1.6944 - val_acc: 0.1639\n",
      "Epoch 38/500\n",
      "242/242 [==============================] - 0s - loss: 1.5714 - acc: 0.3347 - val_loss: 1.6596 - val_acc: 0.1967\n",
      "Epoch 39/500\n",
      "242/242 [==============================] - 0s - loss: 1.5443 - acc: 0.3678 - val_loss: 1.6816 - val_acc: 0.1803\n",
      "Epoch 40/500\n",
      "242/242 [==============================] - 0s - loss: 1.5516 - acc: 0.3388 - val_loss: 1.7099 - val_acc: 0.2459\n",
      "Epoch 41/500\n",
      "242/242 [==============================] - 0s - loss: 1.5755 - acc: 0.3388 - val_loss: 1.6496 - val_acc: 0.2131\n",
      "Epoch 42/500\n",
      "242/242 [==============================] - 0s - loss: 1.5358 - acc: 0.3306 - val_loss: 1.6308 - val_acc: 0.2131\n",
      "Epoch 43/500\n",
      "242/242 [==============================] - 0s - loss: 1.5362 - acc: 0.3306 - val_loss: 1.6557 - val_acc: 0.2459\n",
      "Epoch 44/500\n",
      "242/242 [==============================] - 0s - loss: 1.5414 - acc: 0.3388 - val_loss: 1.6609 - val_acc: 0.2787\n",
      "Epoch 45/500\n",
      "242/242 [==============================] - 0s - loss: 1.5382 - acc: 0.3678 - val_loss: 1.6161 - val_acc: 0.2131\n",
      "Epoch 46/500\n",
      "242/242 [==============================] - 0s - loss: 1.5348 - acc: 0.3182 - val_loss: 1.6382 - val_acc: 0.2951\n",
      "Epoch 47/500\n",
      "242/242 [==============================] - 0s - loss: 1.5145 - acc: 0.3512 - val_loss: 1.6108 - val_acc: 0.2787\n",
      "Epoch 48/500\n",
      "242/242 [==============================] - 0s - loss: 1.4992 - acc: 0.3430 - val_loss: 1.5919 - val_acc: 0.2623\n",
      "Epoch 49/500\n",
      "242/242 [==============================] - 0s - loss: 1.5038 - acc: 0.3678 - val_loss: 1.6219 - val_acc: 0.2951\n",
      "Epoch 50/500\n",
      "242/242 [==============================] - 0s - loss: 1.4904 - acc: 0.3388 - val_loss: 1.6012 - val_acc: 0.2951\n",
      "Epoch 51/500\n",
      "242/242 [==============================] - 0s - loss: 1.4804 - acc: 0.3678 - val_loss: 1.5907 - val_acc: 0.2951\n",
      "Epoch 52/500\n",
      "242/242 [==============================] - 0s - loss: 1.4684 - acc: 0.4050 - val_loss: 1.5882 - val_acc: 0.2787\n",
      "Epoch 53/500\n",
      "242/242 [==============================] - 0s - loss: 1.4814 - acc: 0.3430 - val_loss: 1.6282 - val_acc: 0.2787\n",
      "Epoch 54/500\n",
      "242/242 [==============================] - 0s - loss: 1.5099 - acc: 0.3264 - val_loss: 1.5985 - val_acc: 0.2623\n",
      "Epoch 55/500\n",
      "242/242 [==============================] - 0s - loss: 1.4771 - acc: 0.3554 - val_loss: 1.5902 - val_acc: 0.2787\n",
      "Epoch 56/500\n",
      "242/242 [==============================] - 0s - loss: 1.4602 - acc: 0.3719 - val_loss: 1.5785 - val_acc: 0.3115\n",
      "Epoch 57/500\n",
      "242/242 [==============================] - 0s - loss: 1.4819 - acc: 0.3802 - val_loss: 1.5565 - val_acc: 0.2951\n",
      "Epoch 58/500\n",
      "242/242 [==============================] - 0s - loss: 1.4482 - acc: 0.4091 - val_loss: 1.5488 - val_acc: 0.3279\n",
      "Epoch 59/500\n",
      "242/242 [==============================] - 0s - loss: 1.4467 - acc: 0.4050 - val_loss: 1.5574 - val_acc: 0.2787\n",
      "Epoch 60/500\n",
      "242/242 [==============================] - 0s - loss: 1.4534 - acc: 0.3926 - val_loss: 1.5780 - val_acc: 0.2951\n",
      "Epoch 61/500\n",
      "242/242 [==============================] - 0s - loss: 1.4389 - acc: 0.3967 - val_loss: 1.5697 - val_acc: 0.2787\n",
      "Epoch 62/500\n",
      "242/242 [==============================] - 0s - loss: 1.4579 - acc: 0.4132 - val_loss: 1.5552 - val_acc: 0.2951\n",
      "Epoch 63/500\n",
      "242/242 [==============================] - 0s - loss: 1.3861 - acc: 0.4504 - val_loss: 1.5406 - val_acc: 0.3279\n",
      "Epoch 64/500\n",
      "242/242 [==============================] - 0s - loss: 1.4136 - acc: 0.4174 - val_loss: 1.5434 - val_acc: 0.3279\n",
      "Epoch 65/500\n",
      "242/242 [==============================] - 0s - loss: 1.3743 - acc: 0.4174 - val_loss: 1.5574 - val_acc: 0.2951\n",
      "Epoch 66/500\n"
     ]
    },
    {
     "name": "stdout",
     "output_type": "stream",
     "text": [
      "242/242 [==============================] - 0s - loss: 1.3828 - acc: 0.4339 - val_loss: 1.5647 - val_acc: 0.3443\n",
      "Epoch 67/500\n",
      "242/242 [==============================] - 0s - loss: 1.3837 - acc: 0.4339 - val_loss: 1.5401 - val_acc: 0.3443\n",
      "Epoch 68/500\n",
      "242/242 [==============================] - 0s - loss: 1.3928 - acc: 0.4380 - val_loss: 1.5571 - val_acc: 0.3443\n",
      "Epoch 69/500\n",
      "242/242 [==============================] - 0s - loss: 1.3507 - acc: 0.4132 - val_loss: 1.6644 - val_acc: 0.2623\n",
      "Epoch 70/500\n",
      "242/242 [==============================] - 0s - loss: 1.3481 - acc: 0.4298 - val_loss: 1.5388 - val_acc: 0.3770\n",
      "Epoch 71/500\n",
      "242/242 [==============================] - 0s - loss: 1.3219 - acc: 0.4421 - val_loss: 1.5173 - val_acc: 0.3934\n",
      "Epoch 72/500\n",
      "242/242 [==============================] - 0s - loss: 1.3212 - acc: 0.4504 - val_loss: 1.5569 - val_acc: 0.3770\n",
      "Epoch 73/500\n",
      "242/242 [==============================] - 0s - loss: 1.3199 - acc: 0.4628 - val_loss: 1.5790 - val_acc: 0.3607\n",
      "Epoch 74/500\n",
      "242/242 [==============================] - 0s - loss: 1.2873 - acc: 0.4752 - val_loss: 1.6004 - val_acc: 0.3443\n",
      "Epoch 75/500\n",
      "242/242 [==============================] - 0s - loss: 1.2816 - acc: 0.4504 - val_loss: 1.5832 - val_acc: 0.3770\n",
      "Epoch 76/500\n",
      "242/242 [==============================] - 0s - loss: 1.2530 - acc: 0.5000 - val_loss: 1.5887 - val_acc: 0.4262\n",
      "Epoch 77/500\n",
      "242/242 [==============================] - 0s - loss: 1.2151 - acc: 0.5041 - val_loss: 1.5834 - val_acc: 0.3934\n",
      "Epoch 78/500\n",
      "242/242 [==============================] - 0s - loss: 1.2405 - acc: 0.4876 - val_loss: 1.6870 - val_acc: 0.3279\n",
      "Epoch 79/500\n",
      "242/242 [==============================] - 0s - loss: 1.2303 - acc: 0.4917 - val_loss: 1.6356 - val_acc: 0.4590\n",
      "Epoch 80/500\n",
      "242/242 [==============================] - 0s - loss: 1.1618 - acc: 0.5165 - val_loss: 1.6351 - val_acc: 0.4098\n",
      "Epoch 81/500\n",
      "242/242 [==============================] - 0s - loss: 1.2850 - acc: 0.4752 - val_loss: 1.6020 - val_acc: 0.4262\n",
      "Epoch 82/500\n",
      "242/242 [==============================] - 0s - loss: 1.2453 - acc: 0.4917 - val_loss: 1.7700 - val_acc: 0.3770\n",
      "Epoch 83/500\n",
      "242/242 [==============================] - 0s - loss: 1.2165 - acc: 0.5083 - val_loss: 1.7946 - val_acc: 0.4262\n",
      "Epoch 84/500\n",
      "242/242 [==============================] - 0s - loss: 1.2377 - acc: 0.5165 - val_loss: 1.6007 - val_acc: 0.4754\n",
      "Epoch 85/500\n",
      "242/242 [==============================] - 0s - loss: 1.1571 - acc: 0.5579 - val_loss: 1.6095 - val_acc: 0.4098\n",
      "Epoch 86/500\n",
      "242/242 [==============================] - 0s - loss: 1.1683 - acc: 0.5289 - val_loss: 1.7842 - val_acc: 0.4262\n",
      "Epoch 87/500\n",
      "242/242 [==============================] - 0s - loss: 1.1753 - acc: 0.5620 - val_loss: 1.6666 - val_acc: 0.5082\n",
      "Epoch 88/500\n",
      "242/242 [==============================] - 0s - loss: 1.1379 - acc: 0.5455 - val_loss: 1.6207 - val_acc: 0.4590\n",
      "Epoch 89/500\n",
      "242/242 [==============================] - 0s - loss: 1.1678 - acc: 0.5165 - val_loss: 1.6153 - val_acc: 0.5246\n",
      "Epoch 90/500\n",
      "242/242 [==============================] - 0s - loss: 1.1890 - acc: 0.4876 - val_loss: 1.6386 - val_acc: 0.4918\n",
      "Epoch 91/500\n",
      "242/242 [==============================] - 0s - loss: 1.1083 - acc: 0.5496 - val_loss: 1.9208 - val_acc: 0.4098\n",
      "Epoch 92/500\n",
      "242/242 [==============================] - 0s - loss: 1.1254 - acc: 0.5620 - val_loss: 1.8293 - val_acc: 0.4426\n",
      "Epoch 93/500\n",
      "242/242 [==============================] - 0s - loss: 1.1238 - acc: 0.5496 - val_loss: 1.6731 - val_acc: 0.4754\n",
      "Epoch 94/500\n",
      "242/242 [==============================] - 0s - loss: 1.0900 - acc: 0.5455 - val_loss: 1.6731 - val_acc: 0.5082\n",
      "Epoch 95/500\n",
      "242/242 [==============================] - 0s - loss: 1.0485 - acc: 0.5826 - val_loss: 1.9877 - val_acc: 0.5082\n",
      "Epoch 96/500\n",
      "242/242 [==============================] - 0s - loss: 1.0580 - acc: 0.5372 - val_loss: 1.7574 - val_acc: 0.4098\n",
      "Epoch 97/500\n",
      "242/242 [==============================] - 0s - loss: 1.0069 - acc: 0.5992 - val_loss: 1.7542 - val_acc: 0.4262\n",
      "Epoch 98/500\n",
      "242/242 [==============================] - 0s - loss: 1.0367 - acc: 0.6240 - val_loss: 1.9140 - val_acc: 0.4754\n",
      "Epoch 99/500\n",
      "242/242 [==============================] - 0s - loss: 1.0438 - acc: 0.6157 - val_loss: 1.6129 - val_acc: 0.4754\n",
      "Epoch 100/500\n",
      "242/242 [==============================] - 0s - loss: 1.0327 - acc: 0.6364 - val_loss: 1.5603 - val_acc: 0.5246\n",
      "Epoch 101/500\n",
      "242/242 [==============================] - 0s - loss: 1.0291 - acc: 0.6116 - val_loss: 1.6850 - val_acc: 0.5574\n",
      "Epoch 102/500\n",
      "242/242 [==============================] - 0s - loss: 0.9425 - acc: 0.6033 - val_loss: 1.8918 - val_acc: 0.5246\n",
      "Epoch 103/500\n",
      "242/242 [==============================] - 0s - loss: 0.9752 - acc: 0.6116 - val_loss: 1.8049 - val_acc: 0.4918\n",
      "Epoch 104/500\n",
      "242/242 [==============================] - 0s - loss: 0.9736 - acc: 0.6116 - val_loss: 1.6626 - val_acc: 0.4590\n",
      "Epoch 105/500\n",
      "242/242 [==============================] - 0s - loss: 0.9699 - acc: 0.6240 - val_loss: 1.6439 - val_acc: 0.4754\n",
      "Epoch 106/500\n",
      "242/242 [==============================] - 0s - loss: 0.9110 - acc: 0.6612 - val_loss: 1.8247 - val_acc: 0.4918\n",
      "Epoch 107/500\n",
      "242/242 [==============================] - 0s - loss: 0.9147 - acc: 0.6116 - val_loss: 1.7966 - val_acc: 0.4918\n",
      "Epoch 108/500\n",
      "242/242 [==============================] - 0s - loss: 1.0926 - acc: 0.6240 - val_loss: 2.2368 - val_acc: 0.5082\n",
      "Epoch 109/500\n",
      "242/242 [==============================] - 0s - loss: 0.9676 - acc: 0.6322 - val_loss: 1.6576 - val_acc: 0.5082\n",
      "Epoch 110/500\n",
      "242/242 [==============================] - 0s - loss: 0.9298 - acc: 0.6529 - val_loss: 1.5743 - val_acc: 0.5902\n",
      "Epoch 111/500\n",
      "242/242 [==============================] - 0s - loss: 0.9209 - acc: 0.6364 - val_loss: 1.7325 - val_acc: 0.6230\n",
      "Epoch 112/500\n",
      "242/242 [==============================] - 0s - loss: 0.8800 - acc: 0.6488 - val_loss: 1.9452 - val_acc: 0.6066\n",
      "Epoch 113/500\n",
      "242/242 [==============================] - 0s - loss: 0.9282 - acc: 0.6653 - val_loss: 1.8827 - val_acc: 0.5902\n",
      "Epoch 114/500\n",
      "242/242 [==============================] - 0s - loss: 0.8603 - acc: 0.6901 - val_loss: 1.6460 - val_acc: 0.6230\n",
      "Epoch 115/500\n",
      "242/242 [==============================] - 0s - loss: 0.8677 - acc: 0.6777 - val_loss: 1.6080 - val_acc: 0.5738\n",
      "Epoch 116/500\n",
      "242/242 [==============================] - 0s - loss: 0.8623 - acc: 0.6570 - val_loss: 1.6949 - val_acc: 0.5738\n",
      "Epoch 117/500\n",
      "242/242 [==============================] - 0s - loss: 0.9890 - acc: 0.6240 - val_loss: 1.6616 - val_acc: 0.5738\n",
      "Epoch 118/500\n",
      "242/242 [==============================] - 0s - loss: 0.7672 - acc: 0.7066 - val_loss: 1.6596 - val_acc: 0.5246\n",
      "Epoch 119/500\n",
      "242/242 [==============================] - 0s - loss: 0.8137 - acc: 0.7149 - val_loss: 1.5385 - val_acc: 0.5574\n",
      "Epoch 120/500\n",
      "242/242 [==============================] - 0s - loss: 0.7700 - acc: 0.6901 - val_loss: 1.5973 - val_acc: 0.6721\n",
      "Epoch 121/500\n",
      "242/242 [==============================] - 0s - loss: 0.7458 - acc: 0.7231 - val_loss: 1.7396 - val_acc: 0.6885\n",
      "Epoch 122/500\n",
      "242/242 [==============================] - 0s - loss: 0.7926 - acc: 0.7231 - val_loss: 1.6226 - val_acc: 0.6885\n",
      "Epoch 123/500\n",
      "242/242 [==============================] - 0s - loss: 0.7826 - acc: 0.7438 - val_loss: 1.3903 - val_acc: 0.6557\n",
      "Epoch 124/500\n",
      "242/242 [==============================] - 0s - loss: 0.7300 - acc: 0.7934 - val_loss: 1.4619 - val_acc: 0.6885\n",
      "Epoch 125/500\n",
      "242/242 [==============================] - 0s - loss: 0.6619 - acc: 0.7645 - val_loss: 1.6306 - val_acc: 0.6393\n",
      "Epoch 126/500\n",
      "242/242 [==============================] - 0s - loss: 0.6317 - acc: 0.7975 - val_loss: 1.4715 - val_acc: 0.6721\n",
      "Epoch 127/500\n",
      "242/242 [==============================] - 0s - loss: 0.6364 - acc: 0.7645 - val_loss: 1.6402 - val_acc: 0.6066\n",
      "Epoch 128/500\n",
      "242/242 [==============================] - 0s - loss: 0.6153 - acc: 0.7769 - val_loss: 1.7835 - val_acc: 0.6393\n",
      "Epoch 129/500\n",
      "242/242 [==============================] - 0s - loss: 0.7127 - acc: 0.7686 - val_loss: 1.3726 - val_acc: 0.7213\n",
      "Epoch 130/500\n",
      "242/242 [==============================] - 0s - loss: 0.5038 - acc: 0.8058 - val_loss: 1.2722 - val_acc: 0.7049\n",
      "Epoch 131/500\n"
     ]
    },
    {
     "name": "stdout",
     "output_type": "stream",
     "text": [
      "242/242 [==============================] - 0s - loss: 0.5022 - acc: 0.8099 - val_loss: 1.4536 - val_acc: 0.6393\n",
      "Epoch 132/500\n",
      "242/242 [==============================] - 0s - loss: 0.5250 - acc: 0.8017 - val_loss: 1.3610 - val_acc: 0.6885\n",
      "Epoch 133/500\n",
      "242/242 [==============================] - 0s - loss: 0.5090 - acc: 0.8347 - val_loss: 1.1457 - val_acc: 0.7213\n",
      "Epoch 134/500\n",
      "242/242 [==============================] - 0s - loss: 0.6039 - acc: 0.7934 - val_loss: 1.0280 - val_acc: 0.7705\n",
      "Epoch 135/500\n",
      "242/242 [==============================] - 0s - loss: 0.4257 - acc: 0.8471 - val_loss: 1.2336 - val_acc: 0.6885\n",
      "Epoch 136/500\n",
      "242/242 [==============================] - 0s - loss: 0.5316 - acc: 0.8223 - val_loss: 1.4374 - val_acc: 0.7213\n",
      "Epoch 137/500\n",
      "242/242 [==============================] - 0s - loss: 0.3600 - acc: 0.9050 - val_loss: 1.4829 - val_acc: 0.7377\n",
      "Epoch 138/500\n",
      "242/242 [==============================] - 0s - loss: 0.4084 - acc: 0.8678 - val_loss: 1.1005 - val_acc: 0.7541\n",
      "Epoch 139/500\n",
      "242/242 [==============================] - 0s - loss: 0.3359 - acc: 0.9050 - val_loss: 0.7342 - val_acc: 0.8033\n",
      "Epoch 140/500\n",
      "242/242 [==============================] - 0s - loss: 0.3386 - acc: 0.8760 - val_loss: 0.7277 - val_acc: 0.8197\n",
      "Epoch 141/500\n",
      "242/242 [==============================] - 0s - loss: 0.3154 - acc: 0.9091 - val_loss: 1.1595 - val_acc: 0.7213\n",
      "Epoch 142/500\n",
      "242/242 [==============================] - 0s - loss: 0.2897 - acc: 0.8967 - val_loss: 1.5887 - val_acc: 0.7213\n",
      "Epoch 143/500\n",
      "242/242 [==============================] - 0s - loss: 0.3713 - acc: 0.8884 - val_loss: 0.8097 - val_acc: 0.7541\n",
      "Epoch 144/500\n",
      "242/242 [==============================] - 0s - loss: 0.2669 - acc: 0.9132 - val_loss: 0.7611 - val_acc: 0.8197\n",
      "Epoch 145/500\n",
      "242/242 [==============================] - 0s - loss: 0.3324 - acc: 0.8802 - val_loss: 0.7784 - val_acc: 0.7869\n",
      "Epoch 146/500\n",
      "242/242 [==============================] - 0s - loss: 0.2410 - acc: 0.9050 - val_loss: 1.2721 - val_acc: 0.8033\n",
      "Epoch 147/500\n",
      "242/242 [==============================] - 0s - loss: 0.2254 - acc: 0.9256 - val_loss: 1.4201 - val_acc: 0.7869\n",
      "Epoch 148/500\n",
      "242/242 [==============================] - 0s - loss: 0.2810 - acc: 0.9174 - val_loss: 0.8472 - val_acc: 0.8525\n",
      "Epoch 149/500\n",
      "242/242 [==============================] - 0s - loss: 0.2242 - acc: 0.9256 - val_loss: 0.8434 - val_acc: 0.8197\n",
      "Epoch 150/500\n",
      "242/242 [==============================] - 0s - loss: 0.2533 - acc: 0.9215 - val_loss: 0.6197 - val_acc: 0.8852\n",
      "Epoch 151/500\n",
      "242/242 [==============================] - 0s - loss: 0.1757 - acc: 0.9421 - val_loss: 0.6227 - val_acc: 0.8689\n",
      "Epoch 152/500\n",
      "242/242 [==============================] - 0s - loss: 0.1960 - acc: 0.9463 - val_loss: 0.7134 - val_acc: 0.8689\n",
      "Epoch 153/500\n",
      "242/242 [==============================] - 0s - loss: 0.2497 - acc: 0.9174 - val_loss: 0.8636 - val_acc: 0.8197\n",
      "Epoch 154/500\n",
      "242/242 [==============================] - 0s - loss: 0.1614 - acc: 0.9587 - val_loss: 1.0500 - val_acc: 0.8033\n",
      "Epoch 155/500\n",
      "242/242 [==============================] - 0s - loss: 0.1078 - acc: 0.9628 - val_loss: 1.3919 - val_acc: 0.7377\n",
      "Epoch 156/500\n",
      "242/242 [==============================] - 0s - loss: 0.2334 - acc: 0.9132 - val_loss: 1.2523 - val_acc: 0.8033\n",
      "Epoch 157/500\n",
      "242/242 [==============================] - 0s - loss: 0.1544 - acc: 0.9463 - val_loss: 0.9149 - val_acc: 0.8361\n",
      "Epoch 158/500\n",
      "242/242 [==============================] - 0s - loss: 0.0994 - acc: 0.9628 - val_loss: 0.7498 - val_acc: 0.8525\n",
      "Epoch 159/500\n",
      "242/242 [==============================] - 0s - loss: 0.2246 - acc: 0.9008 - val_loss: 0.5574 - val_acc: 0.8525\n",
      "Epoch 160/500\n",
      "242/242 [==============================] - 0s - loss: 0.1617 - acc: 0.9463 - val_loss: 0.4593 - val_acc: 0.9180\n",
      "Epoch 161/500\n",
      "242/242 [==============================] - 0s - loss: 0.0941 - acc: 0.9628 - val_loss: 0.4551 - val_acc: 0.8852\n",
      "Epoch 162/500\n",
      "242/242 [==============================] - 0s - loss: 0.1183 - acc: 0.9711 - val_loss: 0.4747 - val_acc: 0.8689\n",
      "Epoch 163/500\n",
      "242/242 [==============================] - 0s - loss: 0.1048 - acc: 0.9793 - val_loss: 0.5198 - val_acc: 0.8689\n",
      "Epoch 164/500\n",
      "242/242 [==============================] - 0s - loss: 0.0999 - acc: 0.9752 - val_loss: 0.5958 - val_acc: 0.8689\n",
      "Epoch 165/500\n",
      "242/242 [==============================] - 0s - loss: 0.1157 - acc: 0.9463 - val_loss: 0.6302 - val_acc: 0.8525\n",
      "Epoch 166/500\n",
      "242/242 [==============================] - 0s - loss: 0.1465 - acc: 0.9628 - val_loss: 0.5699 - val_acc: 0.8689\n",
      "Epoch 167/500\n",
      "242/242 [==============================] - 0s - loss: 0.0694 - acc: 0.9876 - val_loss: 0.5700 - val_acc: 0.8525\n",
      "Epoch 168/500\n",
      "242/242 [==============================] - 0s - loss: 0.1038 - acc: 0.9628 - val_loss: 0.5057 - val_acc: 0.9180\n",
      "Epoch 169/500\n",
      "242/242 [==============================] - 0s - loss: 0.0754 - acc: 0.9752 - val_loss: 0.4972 - val_acc: 0.9180\n",
      "Epoch 170/500\n",
      "242/242 [==============================] - 0s - loss: 0.1012 - acc: 0.9711 - val_loss: 0.5532 - val_acc: 0.8852\n",
      "Epoch 171/500\n",
      "242/242 [==============================] - 0s - loss: 0.0416 - acc: 0.9917 - val_loss: 0.5843 - val_acc: 0.8852\n",
      "Epoch 172/500\n",
      "242/242 [==============================] - 0s - loss: 0.0773 - acc: 0.9669 - val_loss: 0.5309 - val_acc: 0.9016\n",
      "Epoch 173/500\n",
      "242/242 [==============================] - 0s - loss: 0.0655 - acc: 0.9793 - val_loss: 0.5171 - val_acc: 0.9016\n",
      "Epoch 174/500\n",
      "242/242 [==============================] - 0s - loss: 0.0958 - acc: 0.9711 - val_loss: 0.7633 - val_acc: 0.8525\n",
      "Epoch 175/500\n",
      "242/242 [==============================] - 0s - loss: 0.0502 - acc: 0.9917 - val_loss: 0.9916 - val_acc: 0.8525\n",
      "Epoch 176/500\n",
      "242/242 [==============================] - 0s - loss: 0.1285 - acc: 0.9669 - val_loss: 0.9539 - val_acc: 0.8361\n",
      "Epoch 177/500\n",
      "242/242 [==============================] - 0s - loss: 0.0786 - acc: 0.9752 - val_loss: 0.7222 - val_acc: 0.8525\n",
      "Epoch 178/500\n",
      "242/242 [==============================] - 0s - loss: 0.0635 - acc: 0.9752 - val_loss: 0.5029 - val_acc: 0.8852\n",
      "Epoch 179/500\n",
      "242/242 [==============================] - 0s - loss: 0.0277 - acc: 0.9876 - val_loss: 0.4192 - val_acc: 0.9016\n",
      "Epoch 180/500\n",
      "242/242 [==============================] - 0s - loss: 0.0670 - acc: 0.9752 - val_loss: 0.4428 - val_acc: 0.9344\n",
      "Epoch 181/500\n",
      "242/242 [==============================] - 0s - loss: 0.0394 - acc: 0.9876 - val_loss: 0.5076 - val_acc: 0.9180\n",
      "Epoch 182/500\n",
      "242/242 [==============================] - 0s - loss: 0.0824 - acc: 0.9669 - val_loss: 0.6255 - val_acc: 0.9016\n",
      "Epoch 183/500\n",
      "242/242 [==============================] - 0s - loss: 0.0352 - acc: 0.9835 - val_loss: 0.8099 - val_acc: 0.8689\n",
      "Epoch 184/500\n",
      "242/242 [==============================] - 0s - loss: 0.0819 - acc: 0.9793 - val_loss: 1.0330 - val_acc: 0.8689\n",
      "Epoch 185/500\n",
      "242/242 [==============================] - 0s - loss: 0.0443 - acc: 0.9876 - val_loss: 1.0692 - val_acc: 0.8525\n",
      "Epoch 186/500\n",
      "242/242 [==============================] - 0s - loss: 0.0892 - acc: 0.9793 - val_loss: 0.9939 - val_acc: 0.8689\n",
      "Epoch 187/500\n",
      "242/242 [==============================] - 0s - loss: 0.0352 - acc: 0.9876 - val_loss: 0.8965 - val_acc: 0.8689\n",
      "Epoch 188/500\n",
      "242/242 [==============================] - 0s - loss: 0.0475 - acc: 0.9876 - val_loss: 0.8003 - val_acc: 0.9016\n",
      "Epoch 189/500\n",
      "242/242 [==============================] - 0s - loss: 0.0958 - acc: 0.9711 - val_loss: 0.6233 - val_acc: 0.8852\n",
      "Epoch 190/500\n",
      "242/242 [==============================] - 0s - loss: 0.0306 - acc: 0.9876 - val_loss: 0.4802 - val_acc: 0.9016\n",
      "Epoch 191/500\n",
      "242/242 [==============================] - 0s - loss: 0.0308 - acc: 0.9959 - val_loss: 0.4442 - val_acc: 0.9016\n",
      "Epoch 192/500\n",
      "242/242 [==============================] - 0s - loss: 0.0497 - acc: 0.9793 - val_loss: 0.4630 - val_acc: 0.9180\n",
      "Epoch 193/500\n",
      "242/242 [==============================] - 0s - loss: 0.0491 - acc: 0.9876 - val_loss: 0.4703 - val_acc: 0.9180\n",
      "Epoch 194/500\n",
      "242/242 [==============================] - 0s - loss: 0.0459 - acc: 0.9793 - val_loss: 0.4390 - val_acc: 0.9180\n",
      "Epoch 195/500\n",
      "242/242 [==============================] - 0s - loss: 0.0502 - acc: 0.9793 - val_loss: 0.4408 - val_acc: 0.9016\n",
      "Epoch 196/500\n"
     ]
    },
    {
     "name": "stdout",
     "output_type": "stream",
     "text": [
      "242/242 [==============================] - 0s - loss: 0.0709 - acc: 0.9711 - val_loss: 0.6053 - val_acc: 0.8689\n",
      "Epoch 197/500\n",
      "242/242 [==============================] - 0s - loss: 0.0445 - acc: 0.9793 - val_loss: 1.0248 - val_acc: 0.8525\n",
      "Epoch 198/500\n",
      "242/242 [==============================] - 0s - loss: 0.0537 - acc: 0.9793 - val_loss: 1.0502 - val_acc: 0.8525\n",
      "Epoch 199/500\n",
      "242/242 [==============================] - 0s - loss: 0.0754 - acc: 0.9628 - val_loss: 0.7277 - val_acc: 0.8852\n",
      "Epoch 200/500\n",
      "242/242 [==============================] - 0s - loss: 0.0881 - acc: 0.9711 - val_loss: 0.5295 - val_acc: 0.8852\n",
      "Epoch 201/500\n",
      "242/242 [==============================] - 0s - loss: 0.0440 - acc: 0.9876 - val_loss: 0.4781 - val_acc: 0.8852\n",
      "Epoch 202/500\n",
      "242/242 [==============================] - 0s - loss: 0.0698 - acc: 0.9793 - val_loss: 0.4893 - val_acc: 0.8852\n",
      "Epoch 203/500\n",
      "242/242 [==============================] - 0s - loss: 0.0642 - acc: 0.9711 - val_loss: 0.5076 - val_acc: 0.8852\n",
      "Epoch 204/500\n",
      "242/242 [==============================] - 0s - loss: 0.0325 - acc: 0.9917 - val_loss: 0.5819 - val_acc: 0.9180\n",
      "Epoch 205/500\n",
      "242/242 [==============================] - 0s - loss: 0.1117 - acc: 0.9711 - val_loss: 0.5127 - val_acc: 0.9180\n",
      "Epoch 206/500\n",
      "242/242 [==============================] - 0s - loss: 0.0624 - acc: 0.9752 - val_loss: 0.4409 - val_acc: 0.9016\n",
      "Epoch 207/500\n",
      "242/242 [==============================] - 0s - loss: 0.0396 - acc: 0.9876 - val_loss: 0.3977 - val_acc: 0.9344\n",
      "Epoch 208/500\n",
      "242/242 [==============================] - 0s - loss: 0.0293 - acc: 0.9917 - val_loss: 0.4020 - val_acc: 0.9344\n",
      "Epoch 209/500\n",
      "242/242 [==============================] - 0s - loss: 0.0392 - acc: 0.9835 - val_loss: 0.4000 - val_acc: 0.9508\n",
      "Epoch 210/500\n",
      "242/242 [==============================] - 0s - loss: 0.0181 - acc: 1.0000 - val_loss: 0.4142 - val_acc: 0.9344\n",
      "Epoch 211/500\n",
      "242/242 [==============================] - 0s - loss: 0.0949 - acc: 0.9628 - val_loss: 0.4202 - val_acc: 0.9344\n",
      "Epoch 212/500\n",
      "242/242 [==============================] - 0s - loss: 0.0551 - acc: 0.9835 - val_loss: 0.4857 - val_acc: 0.9180\n",
      "Epoch 213/500\n",
      "242/242 [==============================] - 0s - loss: 0.0779 - acc: 0.9711 - val_loss: 0.8636 - val_acc: 0.8197\n",
      "Epoch 214/500\n",
      "242/242 [==============================] - 0s - loss: 0.0735 - acc: 0.9793 - val_loss: 0.9940 - val_acc: 0.8197\n",
      "Epoch 215/500\n",
      "242/242 [==============================] - 0s - loss: 0.1000 - acc: 0.9711 - val_loss: 0.6893 - val_acc: 0.8525\n",
      "Epoch 216/500\n",
      "242/242 [==============================] - 0s - loss: 0.0461 - acc: 0.9876 - val_loss: 0.5429 - val_acc: 0.9016\n",
      "Epoch 217/500\n",
      "242/242 [==============================] - 0s - loss: 0.0433 - acc: 0.9835 - val_loss: 0.5056 - val_acc: 0.9180\n",
      "Epoch 218/500\n",
      "242/242 [==============================] - 0s - loss: 0.0643 - acc: 0.9752 - val_loss: 0.4336 - val_acc: 0.9180\n",
      "Epoch 219/500\n",
      "242/242 [==============================] - 0s - loss: 0.0449 - acc: 0.9793 - val_loss: 0.3755 - val_acc: 0.9344\n",
      "Epoch 220/500\n",
      "242/242 [==============================] - 0s - loss: 0.0279 - acc: 0.9917 - val_loss: 0.3532 - val_acc: 0.9344\n",
      "Epoch 221/500\n",
      "242/242 [==============================] - 0s - loss: 0.0349 - acc: 0.9917 - val_loss: 0.3522 - val_acc: 0.9344\n",
      "Epoch 222/500\n",
      "242/242 [==============================] - 0s - loss: 0.0265 - acc: 0.9959 - val_loss: 0.3688 - val_acc: 0.9180\n",
      "Epoch 223/500\n",
      "242/242 [==============================] - 0s - loss: 0.0298 - acc: 0.9917 - val_loss: 0.4356 - val_acc: 0.9180\n",
      "Epoch 224/500\n",
      "242/242 [==============================] - 0s - loss: 0.0353 - acc: 0.9793 - val_loss: 0.4765 - val_acc: 0.9016\n",
      "Epoch 225/500\n",
      "242/242 [==============================] - 0s - loss: 0.0236 - acc: 0.9959 - val_loss: 0.4320 - val_acc: 0.9180\n",
      "Epoch 226/500\n",
      "242/242 [==============================] - 0s - loss: 0.0334 - acc: 0.9876 - val_loss: 0.4115 - val_acc: 0.9180\n",
      "Epoch 227/500\n",
      "242/242 [==============================] - 0s - loss: 0.0211 - acc: 0.9959 - val_loss: 0.4640 - val_acc: 0.9180\n",
      "Epoch 228/500\n",
      "242/242 [==============================] - 0s - loss: 0.0474 - acc: 0.9793 - val_loss: 0.5626 - val_acc: 0.9016\n",
      "Epoch 229/500\n",
      "242/242 [==============================] - 0s - loss: 0.0471 - acc: 0.9835 - val_loss: 0.6295 - val_acc: 0.8852\n",
      "Epoch 230/500\n",
      "242/242 [==============================] - 0s - loss: 0.0354 - acc: 0.9917 - val_loss: 0.6421 - val_acc: 0.8852\n",
      "Epoch 231/500\n",
      "242/242 [==============================] - 0s - loss: 0.0193 - acc: 0.9959 - val_loss: 0.6416 - val_acc: 0.8852\n",
      "Epoch 232/500\n",
      "242/242 [==============================] - 0s - loss: 0.0398 - acc: 0.9917 - val_loss: 0.5776 - val_acc: 0.8852\n",
      "Epoch 233/500\n",
      "242/242 [==============================] - 0s - loss: 0.0259 - acc: 0.9959 - val_loss: 0.4535 - val_acc: 0.9180\n",
      "Epoch 234/500\n",
      "242/242 [==============================] - 0s - loss: 0.0206 - acc: 0.9876 - val_loss: 0.4069 - val_acc: 0.9180\n",
      "Epoch 235/500\n",
      "242/242 [==============================] - 0s - loss: 0.0510 - acc: 0.9835 - val_loss: 0.4211 - val_acc: 0.9344\n",
      "Epoch 236/500\n",
      "242/242 [==============================] - 0s - loss: 0.0188 - acc: 0.9917 - val_loss: 0.4370 - val_acc: 0.9344\n",
      "Epoch 237/500\n",
      "242/242 [==============================] - 0s - loss: 0.0180 - acc: 0.9959 - val_loss: 0.4543 - val_acc: 0.9344\n",
      "Epoch 238/500\n",
      "242/242 [==============================] - 0s - loss: 0.0295 - acc: 0.9793 - val_loss: 0.4734 - val_acc: 0.9344\n",
      "Epoch 239/500\n",
      "242/242 [==============================] - 0s - loss: 0.0136 - acc: 0.9917 - val_loss: 0.5089 - val_acc: 0.9180\n",
      "Epoch 240/500\n",
      "242/242 [==============================] - 0s - loss: 0.0275 - acc: 0.9876 - val_loss: 0.5686 - val_acc: 0.9180\n",
      "Epoch 241/500\n",
      "242/242 [==============================] - 0s - loss: 0.0234 - acc: 0.9959 - val_loss: 0.5471 - val_acc: 0.9180\n",
      "Epoch 242/500\n",
      "242/242 [==============================] - 0s - loss: 0.0500 - acc: 0.9835 - val_loss: 0.4636 - val_acc: 0.9344\n",
      "Epoch 243/500\n",
      "242/242 [==============================] - 0s - loss: 0.0128 - acc: 0.9959 - val_loss: 0.4928 - val_acc: 0.9344\n",
      "Epoch 244/500\n",
      "242/242 [==============================] - 0s - loss: 0.0052 - acc: 1.0000 - val_loss: 0.5648 - val_acc: 0.9016\n",
      "Epoch 245/500\n",
      "242/242 [==============================] - 0s - loss: 0.0440 - acc: 0.9835 - val_loss: 0.5535 - val_acc: 0.9016\n",
      "Epoch 246/500\n",
      "242/242 [==============================] - 0s - loss: 0.0130 - acc: 0.9959 - val_loss: 0.5043 - val_acc: 0.9180\n",
      "Epoch 247/500\n",
      "242/242 [==============================] - 0s - loss: 0.0452 - acc: 0.9917 - val_loss: 0.4816 - val_acc: 0.9180\n",
      "Epoch 248/500\n",
      "242/242 [==============================] - 0s - loss: 0.0210 - acc: 0.9959 - val_loss: 0.4540 - val_acc: 0.9344\n",
      "Epoch 249/500\n",
      "242/242 [==============================] - 0s - loss: 0.0073 - acc: 1.0000 - val_loss: 0.4339 - val_acc: 0.9344\n",
      "Epoch 250/500\n",
      "242/242 [==============================] - 0s - loss: 0.0073 - acc: 1.0000 - val_loss: 0.4137 - val_acc: 0.9508\n",
      "Epoch 251/500\n",
      "242/242 [==============================] - 0s - loss: 0.0158 - acc: 0.9959 - val_loss: 0.3966 - val_acc: 0.9508\n",
      "Epoch 252/500\n",
      "242/242 [==============================] - 0s - loss: 0.0293 - acc: 0.9876 - val_loss: 0.3879 - val_acc: 0.9508\n",
      "Epoch 253/500\n",
      "242/242 [==============================] - 0s - loss: 0.0132 - acc: 0.9959 - val_loss: 0.4089 - val_acc: 0.9508\n",
      "Epoch 254/500\n",
      "242/242 [==============================] - 0s - loss: 0.0295 - acc: 0.9959 - val_loss: 0.4161 - val_acc: 0.9508\n",
      "Epoch 255/500\n",
      "242/242 [==============================] - 0s - loss: 0.0330 - acc: 0.9917 - val_loss: 0.4393 - val_acc: 0.9508\n",
      "Epoch 256/500\n",
      "242/242 [==============================] - 0s - loss: 0.0083 - acc: 1.0000 - val_loss: 0.4667 - val_acc: 0.9508\n",
      "Epoch 257/500\n",
      "242/242 [==============================] - 0s - loss: 0.0467 - acc: 0.9835 - val_loss: 0.4899 - val_acc: 0.9508\n",
      "Epoch 258/500\n",
      "242/242 [==============================] - 0s - loss: 0.0103 - acc: 1.0000 - val_loss: 0.5291 - val_acc: 0.9508\n",
      "Epoch 259/500\n",
      "242/242 [==============================] - 0s - loss: 0.0230 - acc: 0.9917 - val_loss: 0.5503 - val_acc: 0.9344\n",
      "Epoch 260/500\n",
      "242/242 [==============================] - 0s - loss: 0.0605 - acc: 0.9835 - val_loss: 0.5290 - val_acc: 0.9180\n",
      "Epoch 261/500\n"
     ]
    },
    {
     "name": "stdout",
     "output_type": "stream",
     "text": [
      "242/242 [==============================] - 0s - loss: 0.0269 - acc: 0.9835 - val_loss: 0.6038 - val_acc: 0.8852\n",
      "Epoch 262/500\n",
      "242/242 [==============================] - 0s - loss: 0.0389 - acc: 0.9876 - val_loss: 0.5863 - val_acc: 0.9016\n",
      "Epoch 263/500\n",
      "242/242 [==============================] - 0s - loss: 0.0295 - acc: 0.9917 - val_loss: 0.5942 - val_acc: 0.9016\n",
      "Epoch 264/500\n",
      "242/242 [==============================] - 0s - loss: 0.0336 - acc: 0.9876 - val_loss: 0.6120 - val_acc: 0.9180\n",
      "Epoch 265/500\n",
      "242/242 [==============================] - 0s - loss: 0.0225 - acc: 0.9876 - val_loss: 0.6167 - val_acc: 0.9016\n",
      "Epoch 266/500\n",
      "242/242 [==============================] - 0s - loss: 0.0437 - acc: 0.9917 - val_loss: 0.6342 - val_acc: 0.9180\n",
      "Epoch 267/500\n",
      "242/242 [==============================] - 0s - loss: 0.0337 - acc: 0.9917 - val_loss: 0.6493 - val_acc: 0.9180\n",
      "Epoch 268/500\n",
      "242/242 [==============================] - 0s - loss: 0.0072 - acc: 1.0000 - val_loss: 0.6548 - val_acc: 0.9180\n",
      "Epoch 269/500\n",
      "242/242 [==============================] - 0s - loss: 0.0210 - acc: 0.9917 - val_loss: 0.6545 - val_acc: 0.9180\n",
      "Epoch 270/500\n",
      "242/242 [==============================] - 0s - loss: 0.0279 - acc: 0.9876 - val_loss: 0.6707 - val_acc: 0.9016\n",
      "Epoch 271/500\n",
      "242/242 [==============================] - 0s - loss: 0.0637 - acc: 0.9917 - val_loss: 0.5453 - val_acc: 0.9344\n",
      "Epoch 272/500\n",
      "242/242 [==============================] - 0s - loss: 0.0085 - acc: 0.9959 - val_loss: 0.4724 - val_acc: 0.9344\n",
      "Epoch 273/500\n",
      "242/242 [==============================] - 0s - loss: 0.0085 - acc: 1.0000 - val_loss: 0.4206 - val_acc: 0.9344\n",
      "Epoch 274/500\n",
      "242/242 [==============================] - 0s - loss: 0.0034 - acc: 1.0000 - val_loss: 0.3878 - val_acc: 0.9344\n",
      "Epoch 275/500\n",
      "242/242 [==============================] - 0s - loss: 0.0579 - acc: 0.9793 - val_loss: 0.4349 - val_acc: 0.9180\n",
      "Epoch 276/500\n",
      "242/242 [==============================] - 0s - loss: 0.0422 - acc: 0.9876 - val_loss: 0.4899 - val_acc: 0.9180\n",
      "Epoch 277/500\n",
      "242/242 [==============================] - 0s - loss: 0.0364 - acc: 0.9752 - val_loss: 0.6786 - val_acc: 0.9016\n",
      "Epoch 278/500\n",
      "242/242 [==============================] - 0s - loss: 0.0310 - acc: 0.9917 - val_loss: 0.9228 - val_acc: 0.8852\n",
      "Epoch 279/500\n",
      "242/242 [==============================] - 0s - loss: 0.0141 - acc: 0.9959 - val_loss: 1.1205 - val_acc: 0.8689\n",
      "Epoch 280/500\n",
      "242/242 [==============================] - 0s - loss: 0.0755 - acc: 0.9876 - val_loss: 0.8972 - val_acc: 0.9016\n",
      "Epoch 281/500\n",
      "242/242 [==============================] - 0s - loss: 0.0514 - acc: 0.9793 - val_loss: 0.9203 - val_acc: 0.8525\n",
      "Epoch 282/500\n",
      "242/242 [==============================] - 0s - loss: 0.1014 - acc: 0.9587 - val_loss: 0.5972 - val_acc: 0.9180\n",
      "Epoch 283/500\n",
      "242/242 [==============================] - 0s - loss: 0.0094 - acc: 0.9959 - val_loss: 0.5812 - val_acc: 0.9016\n",
      "Epoch 284/500\n",
      "242/242 [==============================] - 0s - loss: 0.0150 - acc: 0.9917 - val_loss: 0.5888 - val_acc: 0.9016\n",
      "Epoch 285/500\n",
      "242/242 [==============================] - 0s - loss: 0.0912 - acc: 0.9752 - val_loss: 0.6317 - val_acc: 0.8852\n",
      "Epoch 286/500\n",
      "242/242 [==============================] - 0s - loss: 0.0842 - acc: 0.9711 - val_loss: 0.3979 - val_acc: 0.9016\n",
      "Epoch 287/500\n",
      "242/242 [==============================] - 0s - loss: 0.0666 - acc: 0.9876 - val_loss: 0.3161 - val_acc: 0.9508\n",
      "Epoch 288/500\n",
      "242/242 [==============================] - 0s - loss: 0.0348 - acc: 0.9917 - val_loss: 0.2846 - val_acc: 0.9508\n",
      "Epoch 289/500\n",
      "242/242 [==============================] - 0s - loss: 0.0311 - acc: 0.9835 - val_loss: 0.2732 - val_acc: 0.9508\n",
      "Epoch 290/500\n",
      "242/242 [==============================] - 0s - loss: 0.0611 - acc: 0.9917 - val_loss: 0.2716 - val_acc: 0.9508\n",
      "Epoch 291/500\n",
      "242/242 [==============================] - 0s - loss: 0.0156 - acc: 0.9959 - val_loss: 0.2629 - val_acc: 0.9344\n",
      "Epoch 292/500\n",
      "242/242 [==============================] - 0s - loss: 0.0216 - acc: 0.9917 - val_loss: 0.2499 - val_acc: 0.9344\n",
      "Epoch 293/500\n",
      "242/242 [==============================] - 0s - loss: 0.0298 - acc: 0.9917 - val_loss: 0.2636 - val_acc: 0.9344\n",
      "Epoch 294/500\n",
      "242/242 [==============================] - 0s - loss: 0.0366 - acc: 0.9917 - val_loss: 0.2943 - val_acc: 0.9180\n",
      "Epoch 295/500\n",
      "242/242 [==============================] - 0s - loss: 0.0337 - acc: 0.9917 - val_loss: 0.3356 - val_acc: 0.9180\n",
      "Epoch 296/500\n",
      "242/242 [==============================] - 0s - loss: 0.0804 - acc: 0.9835 - val_loss: 0.3507 - val_acc: 0.9344\n",
      "Epoch 297/500\n",
      "242/242 [==============================] - 0s - loss: 0.0550 - acc: 0.9917 - val_loss: 0.3580 - val_acc: 0.9508\n",
      "Epoch 298/500\n",
      "242/242 [==============================] - 0s - loss: 0.0242 - acc: 0.9917 - val_loss: 0.3549 - val_acc: 0.9508\n",
      "Epoch 299/500\n",
      "242/242 [==============================] - 0s - loss: 0.0063 - acc: 0.9959 - val_loss: 0.3967 - val_acc: 0.9180\n",
      "Epoch 300/500\n",
      "242/242 [==============================] - 0s - loss: 0.0062 - acc: 1.0000 - val_loss: 0.5131 - val_acc: 0.9180\n",
      "Epoch 301/500\n",
      "242/242 [==============================] - 0s - loss: 0.0450 - acc: 0.9835 - val_loss: 0.6084 - val_acc: 0.9016\n",
      "Epoch 302/500\n",
      "242/242 [==============================] - 0s - loss: 0.0177 - acc: 0.9959 - val_loss: 0.6260 - val_acc: 0.8852\n",
      "Epoch 303/500\n",
      "242/242 [==============================] - 0s - loss: 0.0300 - acc: 0.9959 - val_loss: 0.4960 - val_acc: 0.8852\n",
      "Epoch 304/500\n",
      "242/242 [==============================] - 0s - loss: 0.0154 - acc: 0.9959 - val_loss: 0.4485 - val_acc: 0.9180\n",
      "Epoch 305/500\n",
      "242/242 [==============================] - 0s - loss: 0.0156 - acc: 0.9959 - val_loss: 0.4677 - val_acc: 0.9180\n",
      "Epoch 306/500\n",
      "242/242 [==============================] - 0s - loss: 0.0184 - acc: 0.9959 - val_loss: 0.5005 - val_acc: 0.9180\n",
      "Epoch 307/500\n",
      "242/242 [==============================] - 0s - loss: 0.0068 - acc: 1.0000 - val_loss: 0.5288 - val_acc: 0.9180\n",
      "Epoch 308/500\n",
      "242/242 [==============================] - 0s - loss: 0.0423 - acc: 0.9876 - val_loss: 0.5443 - val_acc: 0.9180\n",
      "Epoch 309/500\n",
      "242/242 [==============================] - 0s - loss: 0.0202 - acc: 0.9917 - val_loss: 0.5358 - val_acc: 0.9180\n",
      "Epoch 310/500\n",
      "242/242 [==============================] - 0s - loss: 0.0048 - acc: 1.0000 - val_loss: 0.5327 - val_acc: 0.9180\n",
      "Epoch 311/500\n",
      "242/242 [==============================] - 0s - loss: 0.0129 - acc: 0.9959 - val_loss: 0.5314 - val_acc: 0.9180\n",
      "Epoch 312/500\n",
      "242/242 [==============================] - 0s - loss: 0.0401 - acc: 0.9917 - val_loss: 0.5312 - val_acc: 0.9344\n",
      "Epoch 313/500\n",
      "242/242 [==============================] - 0s - loss: 0.0110 - acc: 0.9959 - val_loss: 0.5264 - val_acc: 0.9344\n",
      "Epoch 314/500\n",
      "242/242 [==============================] - 0s - loss: 0.0025 - acc: 1.0000 - val_loss: 0.5142 - val_acc: 0.9344\n",
      "Epoch 315/500\n",
      "242/242 [==============================] - 0s - loss: 0.0252 - acc: 0.9917 - val_loss: 0.5032 - val_acc: 0.9344\n",
      "Epoch 316/500\n",
      "242/242 [==============================] - 0s - loss: 0.0042 - acc: 1.0000 - val_loss: 0.5042 - val_acc: 0.9344\n",
      "Epoch 317/500\n",
      "242/242 [==============================] - 0s - loss: 0.0069 - acc: 0.9959 - val_loss: 0.5038 - val_acc: 0.9344\n",
      "Epoch 318/500\n",
      "242/242 [==============================] - 0s - loss: 0.0257 - acc: 0.9917 - val_loss: 0.5180 - val_acc: 0.9180\n",
      "Epoch 319/500\n",
      "242/242 [==============================] - 0s - loss: 0.0053 - acc: 1.0000 - val_loss: 0.5415 - val_acc: 0.9180\n",
      "Epoch 320/500\n",
      "242/242 [==============================] - 0s - loss: 0.0024 - acc: 1.0000 - val_loss: 0.5671 - val_acc: 0.9180\n",
      "Epoch 321/500\n",
      "242/242 [==============================] - 0s - loss: 0.0154 - acc: 0.9959 - val_loss: 0.5679 - val_acc: 0.9180\n",
      "Epoch 322/500\n",
      "242/242 [==============================] - 0s - loss: 0.0150 - acc: 0.9959 - val_loss: 0.5353 - val_acc: 0.9180\n",
      "Epoch 323/500\n",
      "242/242 [==============================] - 0s - loss: 0.0065 - acc: 0.9959 - val_loss: 0.5116 - val_acc: 0.9180\n",
      "Epoch 324/500\n",
      "242/242 [==============================] - 0s - loss: 0.0059 - acc: 0.9959 - val_loss: 0.5033 - val_acc: 0.9344\n",
      "Epoch 325/500\n",
      "242/242 [==============================] - 0s - loss: 0.0017 - acc: 1.0000 - val_loss: 0.4999 - val_acc: 0.9344\n",
      "Epoch 326/500\n"
     ]
    },
    {
     "name": "stdout",
     "output_type": "stream",
     "text": [
      "242/242 [==============================] - 0s - loss: 0.0039 - acc: 1.0000 - val_loss: 0.4977 - val_acc: 0.9344\n",
      "Epoch 327/500\n",
      "242/242 [==============================] - 0s - loss: 0.0022 - acc: 1.0000 - val_loss: 0.4989 - val_acc: 0.9344\n",
      "Epoch 328/500\n",
      "242/242 [==============================] - 0s - loss: 0.0171 - acc: 0.9959 - val_loss: 0.5022 - val_acc: 0.9344\n",
      "Epoch 329/500\n",
      "242/242 [==============================] - 0s - loss: 0.0017 - acc: 1.0000 - val_loss: 0.4906 - val_acc: 0.9344\n",
      "Epoch 330/500\n",
      "242/242 [==============================] - 0s - loss: 0.0138 - acc: 0.9917 - val_loss: 0.4540 - val_acc: 0.9344\n",
      "Epoch 331/500\n",
      "242/242 [==============================] - 0s - loss: 0.0250 - acc: 0.9835 - val_loss: 0.4200 - val_acc: 0.9344\n",
      "Epoch 332/500\n",
      "242/242 [==============================] - 0s - loss: 0.0061 - acc: 0.9959 - val_loss: 0.4090 - val_acc: 0.9344\n",
      "Epoch 333/500\n",
      "242/242 [==============================] - 0s - loss: 0.0046 - acc: 1.0000 - val_loss: 0.4210 - val_acc: 0.9344\n",
      "Epoch 334/500\n",
      "242/242 [==============================] - 0s - loss: 0.0123 - acc: 0.9917 - val_loss: 0.4165 - val_acc: 0.9344\n",
      "Epoch 335/500\n",
      "242/242 [==============================] - 0s - loss: 0.0025 - acc: 1.0000 - val_loss: 0.4098 - val_acc: 0.9344\n",
      "Epoch 336/500\n",
      "242/242 [==============================] - 0s - loss: 0.0053 - acc: 0.9959 - val_loss: 0.4073 - val_acc: 0.9344\n",
      "Epoch 337/500\n",
      "242/242 [==============================] - 0s - loss: 0.0158 - acc: 0.9917 - val_loss: 0.3877 - val_acc: 0.9508\n",
      "Epoch 338/500\n",
      "242/242 [==============================] - 0s - loss: 0.0079 - acc: 0.9959 - val_loss: 0.3774 - val_acc: 0.9508\n",
      "Epoch 339/500\n",
      "242/242 [==============================] - 0s - loss: 0.0048 - acc: 1.0000 - val_loss: 0.3763 - val_acc: 0.9508\n",
      "Epoch 340/500\n",
      "242/242 [==============================] - 0s - loss: 0.0040 - acc: 1.0000 - val_loss: 0.3776 - val_acc: 0.9508\n",
      "Epoch 341/500\n",
      "242/242 [==============================] - 0s - loss: 0.0083 - acc: 0.9959 - val_loss: 0.3741 - val_acc: 0.9508\n",
      "Epoch 342/500\n",
      "242/242 [==============================] - 0s - loss: 0.0043 - acc: 1.0000 - val_loss: 0.3736 - val_acc: 0.9508\n",
      "Epoch 343/500\n",
      "242/242 [==============================] - 0s - loss: 0.0029 - acc: 1.0000 - val_loss: 0.3729 - val_acc: 0.9508\n",
      "Epoch 344/500\n",
      "242/242 [==============================] - 0s - loss: 0.0015 - acc: 1.0000 - val_loss: 0.3715 - val_acc: 0.9508\n",
      "Epoch 345/500\n",
      "242/242 [==============================] - 0s - loss: 0.0027 - acc: 1.0000 - val_loss: 0.3723 - val_acc: 0.9508\n",
      "Epoch 346/500\n",
      "242/242 [==============================] - 0s - loss: 0.0063 - acc: 0.9959 - val_loss: 0.3745 - val_acc: 0.9508\n",
      "Epoch 347/500\n",
      "242/242 [==============================] - 0s - loss: 0.0159 - acc: 0.9917 - val_loss: 0.3738 - val_acc: 0.9508\n",
      "Epoch 348/500\n",
      "242/242 [==============================] - 0s - loss: 0.0042 - acc: 1.0000 - val_loss: 0.3788 - val_acc: 0.9344\n",
      "Epoch 349/500\n",
      "242/242 [==============================] - 0s - loss: 0.0158 - acc: 0.9917 - val_loss: 0.3830 - val_acc: 0.9344\n",
      "Epoch 350/500\n",
      "242/242 [==============================] - 0s - loss: 0.0349 - acc: 0.9917 - val_loss: 0.3606 - val_acc: 0.9508\n",
      "Epoch 351/500\n",
      "242/242 [==============================] - 0s - loss: 0.0022 - acc: 1.0000 - val_loss: 0.3475 - val_acc: 0.9508\n",
      "Epoch 352/500\n",
      "242/242 [==============================] - 0s - loss: 0.0019 - acc: 1.0000 - val_loss: 0.3479 - val_acc: 0.9508\n",
      "Epoch 353/500\n",
      "242/242 [==============================] - 0s - loss: 0.0069 - acc: 1.0000 - val_loss: 0.3517 - val_acc: 0.9508\n",
      "Epoch 354/500\n",
      "242/242 [==============================] - 0s - loss: 0.0046 - acc: 1.0000 - val_loss: 0.3562 - val_acc: 0.9508\n",
      "Epoch 355/500\n",
      "242/242 [==============================] - 0s - loss: 0.0087 - acc: 0.9959 - val_loss: 0.3596 - val_acc: 0.9508\n",
      "Epoch 356/500\n",
      "242/242 [==============================] - 0s - loss: 0.0041 - acc: 1.0000 - val_loss: 0.3628 - val_acc: 0.9508\n",
      "Epoch 357/500\n",
      "242/242 [==============================] - 0s - loss: 0.0126 - acc: 0.9959 - val_loss: 0.3705 - val_acc: 0.9508\n",
      "Epoch 358/500\n",
      "242/242 [==============================] - 0s - loss: 0.0019 - acc: 1.0000 - val_loss: 0.3784 - val_acc: 0.9344\n",
      "Epoch 359/500\n",
      "242/242 [==============================] - 0s - loss: 0.0101 - acc: 0.9959 - val_loss: 0.3840 - val_acc: 0.9508\n",
      "Epoch 360/500\n",
      "242/242 [==============================] - 0s - loss: 0.0020 - acc: 1.0000 - val_loss: 0.3894 - val_acc: 0.9508\n",
      "Epoch 361/500\n",
      "242/242 [==============================] - 0s - loss: 0.0015 - acc: 1.0000 - val_loss: 0.3951 - val_acc: 0.9508\n",
      "Epoch 362/500\n",
      "242/242 [==============================] - 0s - loss: 0.0044 - acc: 1.0000 - val_loss: 0.3991 - val_acc: 0.9508\n",
      "Epoch 363/500\n",
      "242/242 [==============================] - 0s - loss: 0.0036 - acc: 1.0000 - val_loss: 0.4031 - val_acc: 0.9508\n",
      "Epoch 364/500\n",
      "242/242 [==============================] - 0s - loss: 0.0021 - acc: 1.0000 - val_loss: 0.4081 - val_acc: 0.9508\n",
      "Epoch 365/500\n",
      "242/242 [==============================] - 0s - loss: 0.0021 - acc: 1.0000 - val_loss: 0.4148 - val_acc: 0.9508\n",
      "Epoch 366/500\n",
      "242/242 [==============================] - 0s - loss: 0.0058 - acc: 0.9959 - val_loss: 0.4205 - val_acc: 0.9508\n",
      "Epoch 367/500\n",
      "242/242 [==============================] - 0s - loss: 0.0018 - acc: 1.0000 - val_loss: 0.4267 - val_acc: 0.9508\n",
      "Epoch 368/500\n",
      "242/242 [==============================] - 0s - loss: 0.0011 - acc: 1.0000 - val_loss: 0.4302 - val_acc: 0.9508\n",
      "Epoch 369/500\n",
      "242/242 [==============================] - 0s - loss: 0.0121 - acc: 0.9917 - val_loss: 0.4432 - val_acc: 0.9344\n",
      "Epoch 370/500\n",
      "242/242 [==============================] - 0s - loss: 0.0026 - acc: 1.0000 - val_loss: 0.4578 - val_acc: 0.9344\n",
      "Epoch 371/500\n",
      "242/242 [==============================] - 0s - loss: 5.8841e-04 - acc: 1.0000 - val_loss: 0.4741 - val_acc: 0.9344\n",
      "Epoch 372/500\n",
      "242/242 [==============================] - 0s - loss: 0.0013 - acc: 1.0000 - val_loss: 0.4867 - val_acc: 0.9344\n",
      "Epoch 373/500\n",
      "242/242 [==============================] - 0s - loss: 0.0014 - acc: 1.0000 - val_loss: 0.4985 - val_acc: 0.9344\n",
      "Epoch 374/500\n",
      "242/242 [==============================] - 0s - loss: 0.0141 - acc: 0.9917 - val_loss: 0.4848 - val_acc: 0.9344\n",
      "Epoch 375/500\n",
      "242/242 [==============================] - 0s - loss: 5.5006e-04 - acc: 1.0000 - val_loss: 0.4784 - val_acc: 0.9180\n",
      "Epoch 376/500\n",
      "242/242 [==============================] - 0s - loss: 0.0021 - acc: 1.0000 - val_loss: 0.4778 - val_acc: 0.9180\n",
      "Epoch 377/500\n",
      "242/242 [==============================] - 0s - loss: 0.0052 - acc: 0.9959 - val_loss: 0.4720 - val_acc: 0.9344\n",
      "Epoch 378/500\n",
      "242/242 [==============================] - 0s - loss: 0.0053 - acc: 1.0000 - val_loss: 0.4723 - val_acc: 0.9344\n",
      "Epoch 379/500\n",
      "242/242 [==============================] - 0s - loss: 0.0135 - acc: 0.9959 - val_loss: 0.4565 - val_acc: 0.9344\n",
      "Epoch 380/500\n",
      "242/242 [==============================] - 0s - loss: 0.0022 - acc: 1.0000 - val_loss: 0.4391 - val_acc: 0.9344\n",
      "Epoch 381/500\n",
      "242/242 [==============================] - 0s - loss: 0.0012 - acc: 1.0000 - val_loss: 0.4233 - val_acc: 0.9344\n",
      "Epoch 382/500\n",
      "242/242 [==============================] - 0s - loss: 0.0105 - acc: 0.9959 - val_loss: 0.4122 - val_acc: 0.9344\n",
      "Epoch 383/500\n",
      "242/242 [==============================] - 0s - loss: 0.0023 - acc: 1.0000 - val_loss: 0.4053 - val_acc: 0.9344\n",
      "Epoch 384/500\n",
      "242/242 [==============================] - 0s - loss: 0.0022 - acc: 1.0000 - val_loss: 0.4050 - val_acc: 0.9344\n",
      "Epoch 385/500\n",
      "242/242 [==============================] - 0s - loss: 0.0016 - acc: 1.0000 - val_loss: 0.4062 - val_acc: 0.9344\n",
      "Epoch 386/500\n",
      "242/242 [==============================] - 0s - loss: 7.8160e-04 - acc: 1.0000 - val_loss: 0.4088 - val_acc: 0.9344\n",
      "Epoch 387/500\n",
      "242/242 [==============================] - 0s - loss: 0.0036 - acc: 1.0000 - val_loss: 0.4107 - val_acc: 0.9344\n",
      "Epoch 388/500\n",
      "242/242 [==============================] - 0s - loss: 0.0048 - acc: 0.9959 - val_loss: 0.4131 - val_acc: 0.9344\n",
      "Epoch 389/500\n",
      "242/242 [==============================] - 0s - loss: 0.0010 - acc: 1.0000 - val_loss: 0.4141 - val_acc: 0.9344\n",
      "Epoch 390/500\n",
      "242/242 [==============================] - 0s - loss: 0.0023 - acc: 1.0000 - val_loss: 0.4171 - val_acc: 0.9344\n",
      "Epoch 391/500\n"
     ]
    },
    {
     "name": "stdout",
     "output_type": "stream",
     "text": [
      "242/242 [==============================] - 0s - loss: 0.0010 - acc: 1.0000 - val_loss: 0.4199 - val_acc: 0.9344\n",
      "Epoch 392/500\n",
      "242/242 [==============================] - 0s - loss: 0.0198 - acc: 0.9959 - val_loss: 0.4240 - val_acc: 0.9344\n",
      "Epoch 393/500\n",
      "242/242 [==============================] - 0s - loss: 0.0011 - acc: 1.0000 - val_loss: 0.4654 - val_acc: 0.9344\n",
      "Epoch 394/500\n",
      "242/242 [==============================] - 0s - loss: 0.0094 - acc: 0.9917 - val_loss: 0.5900 - val_acc: 0.9180\n",
      "Epoch 395/500\n",
      "242/242 [==============================] - 0s - loss: 0.0075 - acc: 0.9959 - val_loss: 0.7429 - val_acc: 0.9016\n",
      "Epoch 396/500\n",
      "242/242 [==============================] - 0s - loss: 0.0095 - acc: 0.9959 - val_loss: 0.7776 - val_acc: 0.9016\n",
      "Epoch 397/500\n",
      "242/242 [==============================] - 0s - loss: 0.0012 - acc: 1.0000 - val_loss: 0.7866 - val_acc: 0.9180\n",
      "Epoch 398/500\n",
      "242/242 [==============================] - 0s - loss: 0.0109 - acc: 0.9959 - val_loss: 0.7638 - val_acc: 0.9180\n",
      "Epoch 399/500\n",
      "242/242 [==============================] - 0s - loss: 0.0032 - acc: 1.0000 - val_loss: 0.7520 - val_acc: 0.9180\n",
      "Epoch 400/500\n",
      "242/242 [==============================] - 0s - loss: 7.5607e-04 - acc: 1.0000 - val_loss: 0.7510 - val_acc: 0.9180\n",
      "Epoch 401/500\n",
      "242/242 [==============================] - 0s - loss: 2.8415e-04 - acc: 1.0000 - val_loss: 0.7549 - val_acc: 0.9180\n",
      "Epoch 402/500\n",
      "242/242 [==============================] - 0s - loss: 0.0465 - acc: 0.9876 - val_loss: 0.4066 - val_acc: 0.9508\n",
      "Epoch 403/500\n",
      "242/242 [==============================] - 0s - loss: 0.0021 - acc: 1.0000 - val_loss: 0.4137 - val_acc: 0.9508\n",
      "Epoch 404/500\n",
      "242/242 [==============================] - 0s - loss: 0.0139 - acc: 0.9959 - val_loss: 0.4404 - val_acc: 0.9508\n",
      "Epoch 405/500\n",
      "242/242 [==============================] - 0s - loss: 0.0055 - acc: 1.0000 - val_loss: 0.3585 - val_acc: 0.9508\n",
      "Epoch 406/500\n",
      "242/242 [==============================] - 0s - loss: 0.0034 - acc: 1.0000 - val_loss: 0.2907 - val_acc: 0.9508\n",
      "Epoch 407/500\n",
      "242/242 [==============================] - 0s - loss: 0.0343 - acc: 0.9917 - val_loss: 0.3878 - val_acc: 0.9344\n",
      "Epoch 408/500\n",
      "242/242 [==============================] - 0s - loss: 0.0043 - acc: 1.0000 - val_loss: 0.4880 - val_acc: 0.9180\n",
      "Epoch 409/500\n",
      "242/242 [==============================] - 0s - loss: 0.0831 - acc: 0.9876 - val_loss: 0.4295 - val_acc: 0.9344\n",
      "Epoch 410/500\n",
      "242/242 [==============================] - 0s - loss: 0.0041 - acc: 0.9959 - val_loss: 0.4028 - val_acc: 0.9508\n",
      "Epoch 411/500\n",
      "242/242 [==============================] - 0s - loss: 0.0100 - acc: 0.9959 - val_loss: 0.4102 - val_acc: 0.9508\n",
      "Epoch 412/500\n",
      "242/242 [==============================] - 0s - loss: 0.0187 - acc: 0.9917 - val_loss: 0.4343 - val_acc: 0.9508\n",
      "Epoch 413/500\n",
      "242/242 [==============================] - 0s - loss: 7.6562e-04 - acc: 1.0000 - val_loss: 0.4550 - val_acc: 0.9344\n",
      "Epoch 414/500\n",
      "242/242 [==============================] - 0s - loss: 0.0034 - acc: 1.0000 - val_loss: 0.5773 - val_acc: 0.9344\n",
      "Epoch 415/500\n",
      "242/242 [==============================] - 0s - loss: 0.0081 - acc: 0.9959 - val_loss: 0.7152 - val_acc: 0.9016\n",
      "Epoch 416/500\n",
      "242/242 [==============================] - 0s - loss: 0.0223 - acc: 0.9917 - val_loss: 0.7717 - val_acc: 0.9180\n",
      "Epoch 417/500\n",
      "242/242 [==============================] - 0s - loss: 0.0054 - acc: 1.0000 - val_loss: 0.8824 - val_acc: 0.9016\n",
      "Epoch 418/500\n",
      "242/242 [==============================] - 0s - loss: 0.0110 - acc: 0.9959 - val_loss: 0.9494 - val_acc: 0.9016\n",
      "Epoch 419/500\n",
      "242/242 [==============================] - 0s - loss: 0.0166 - acc: 0.9959 - val_loss: 0.9060 - val_acc: 0.8852\n",
      "Epoch 420/500\n",
      "242/242 [==============================] - 0s - loss: 0.0343 - acc: 0.9917 - val_loss: 0.6997 - val_acc: 0.9016\n",
      "Epoch 421/500\n",
      "242/242 [==============================] - 0s - loss: 0.0143 - acc: 0.9959 - val_loss: 0.5325 - val_acc: 0.9180\n",
      "Epoch 422/500\n",
      "242/242 [==============================] - 0s - loss: 0.0028 - acc: 1.0000 - val_loss: 0.4728 - val_acc: 0.9344\n",
      "Epoch 423/500\n",
      "242/242 [==============================] - 0s - loss: 0.0114 - acc: 0.9959 - val_loss: 0.4877 - val_acc: 0.9344\n",
      "Epoch 424/500\n",
      "242/242 [==============================] - 0s - loss: 0.0088 - acc: 0.9959 - val_loss: 0.4614 - val_acc: 0.9344\n",
      "Epoch 425/500\n",
      "242/242 [==============================] - 0s - loss: 0.0042 - acc: 1.0000 - val_loss: 0.4171 - val_acc: 0.9508\n",
      "Epoch 426/500\n",
      "242/242 [==============================] - 0s - loss: 0.0327 - acc: 0.9917 - val_loss: 0.3999 - val_acc: 0.9508\n",
      "Epoch 427/500\n",
      "242/242 [==============================] - 0s - loss: 0.0255 - acc: 0.9917 - val_loss: 0.4197 - val_acc: 0.9508\n",
      "Epoch 428/500\n",
      "242/242 [==============================] - 0s - loss: 0.0117 - acc: 0.9917 - val_loss: 0.4700 - val_acc: 0.9508\n",
      "Epoch 429/500\n",
      "242/242 [==============================] - 0s - loss: 0.0187 - acc: 0.9959 - val_loss: 0.5395 - val_acc: 0.9508\n",
      "Epoch 430/500\n",
      "242/242 [==============================] - 0s - loss: 0.0183 - acc: 0.9917 - val_loss: 0.5656 - val_acc: 0.9508\n",
      "Epoch 431/500\n",
      "242/242 [==============================] - 0s - loss: 0.0392 - acc: 0.9876 - val_loss: 0.5488 - val_acc: 0.9508\n",
      "Epoch 432/500\n",
      "242/242 [==============================] - 0s - loss: 0.0096 - acc: 0.9959 - val_loss: 0.5325 - val_acc: 0.9508\n",
      "Epoch 433/500\n",
      "242/242 [==============================] - 0s - loss: 0.0072 - acc: 0.9959 - val_loss: 0.5129 - val_acc: 0.9508\n",
      "Epoch 434/500\n",
      "242/242 [==============================] - 0s - loss: 0.0117 - acc: 0.9917 - val_loss: 0.4927 - val_acc: 0.9508\n",
      "Epoch 435/500\n",
      "242/242 [==============================] - 0s - loss: 0.0078 - acc: 0.9959 - val_loss: 0.4853 - val_acc: 0.9508\n",
      "Epoch 436/500\n",
      "242/242 [==============================] - 0s - loss: 0.0201 - acc: 0.9876 - val_loss: 0.5315 - val_acc: 0.9344\n",
      "Epoch 437/500\n",
      "242/242 [==============================] - 0s - loss: 0.0288 - acc: 0.9917 - val_loss: 0.5996 - val_acc: 0.9344\n",
      "Epoch 438/500\n",
      "242/242 [==============================] - 0s - loss: 0.0028 - acc: 1.0000 - val_loss: 0.6640 - val_acc: 0.9344\n",
      "Epoch 439/500\n",
      "242/242 [==============================] - 0s - loss: 0.0108 - acc: 0.9959 - val_loss: 0.6603 - val_acc: 0.9016\n",
      "Epoch 440/500\n",
      "242/242 [==============================] - 0s - loss: 0.0464 - acc: 0.9876 - val_loss: 0.5116 - val_acc: 0.9344\n",
      "Epoch 441/500\n",
      "242/242 [==============================] - 0s - loss: 0.0105 - acc: 0.9959 - val_loss: 0.5075 - val_acc: 0.9344\n",
      "Epoch 442/500\n",
      "242/242 [==============================] - 0s - loss: 0.0205 - acc: 0.9917 - val_loss: 0.4997 - val_acc: 0.9344\n",
      "Epoch 443/500\n",
      "242/242 [==============================] - 0s - loss: 0.0032 - acc: 1.0000 - val_loss: 0.4849 - val_acc: 0.9344\n",
      "Epoch 444/500\n",
      "242/242 [==============================] - 0s - loss: 0.0017 - acc: 1.0000 - val_loss: 0.4729 - val_acc: 0.9344\n",
      "Epoch 445/500\n",
      "242/242 [==============================] - 0s - loss: 0.0070 - acc: 0.9959 - val_loss: 0.4711 - val_acc: 0.9344\n",
      "Epoch 446/500\n",
      "242/242 [==============================] - 0s - loss: 0.0166 - acc: 0.9959 - val_loss: 0.4743 - val_acc: 0.9344\n",
      "Epoch 447/500\n",
      "242/242 [==============================] - 0s - loss: 0.0197 - acc: 0.9917 - val_loss: 0.4739 - val_acc: 0.9344\n",
      "Epoch 448/500\n",
      "242/242 [==============================] - 0s - loss: 0.0083 - acc: 1.0000 - val_loss: 0.4747 - val_acc: 0.9344\n",
      "Epoch 449/500\n",
      "242/242 [==============================] - 0s - loss: 0.0083 - acc: 1.0000 - val_loss: 0.4804 - val_acc: 0.9344\n",
      "Epoch 450/500\n",
      "242/242 [==============================] - 0s - loss: 0.0435 - acc: 0.9917 - val_loss: 0.4818 - val_acc: 0.9344\n",
      "Epoch 451/500\n",
      "242/242 [==============================] - 0s - loss: 0.0226 - acc: 0.9917 - val_loss: 0.4814 - val_acc: 0.9344\n",
      "Epoch 452/500\n",
      "242/242 [==============================] - 0s - loss: 0.0100 - acc: 0.9959 - val_loss: 0.4810 - val_acc: 0.9344\n",
      "Epoch 453/500\n",
      "242/242 [==============================] - 0s - loss: 0.0115 - acc: 0.9917 - val_loss: 0.4842 - val_acc: 0.9344\n",
      "Epoch 454/500\n",
      "242/242 [==============================] - 0s - loss: 0.0075 - acc: 0.9959 - val_loss: 0.4883 - val_acc: 0.9344\n",
      "Epoch 455/500\n",
      "242/242 [==============================] - 0s - loss: 0.0062 - acc: 1.0000 - val_loss: 0.4874 - val_acc: 0.9344\n",
      "Epoch 456/500\n"
     ]
    },
    {
     "name": "stdout",
     "output_type": "stream",
     "text": [
      "242/242 [==============================] - 0s - loss: 0.0042 - acc: 0.9959 - val_loss: 0.4831 - val_acc: 0.9344\n",
      "Epoch 457/500\n",
      "242/242 [==============================] - 0s - loss: 0.0109 - acc: 0.9959 - val_loss: 0.4811 - val_acc: 0.9344\n",
      "Epoch 458/500\n",
      "242/242 [==============================] - 0s - loss: 0.0062 - acc: 0.9959 - val_loss: 0.4808 - val_acc: 0.9344\n",
      "Epoch 459/500\n",
      "242/242 [==============================] - 0s - loss: 0.0066 - acc: 1.0000 - val_loss: 0.4911 - val_acc: 0.9344\n",
      "Epoch 460/500\n",
      "242/242 [==============================] - 0s - loss: 0.0044 - acc: 1.0000 - val_loss: 0.5066 - val_acc: 0.9344\n",
      "Epoch 461/500\n",
      "242/242 [==============================] - 0s - loss: 0.0035 - acc: 1.0000 - val_loss: 0.5256 - val_acc: 0.9344\n",
      "Epoch 462/500\n",
      "242/242 [==============================] - 0s - loss: 0.0181 - acc: 0.9917 - val_loss: 0.5445 - val_acc: 0.9344\n",
      "Epoch 463/500\n",
      "242/242 [==============================] - 0s - loss: 0.0105 - acc: 0.9959 - val_loss: 0.5514 - val_acc: 0.9344\n",
      "Epoch 464/500\n",
      "242/242 [==============================] - 0s - loss: 0.0046 - acc: 1.0000 - val_loss: 0.5611 - val_acc: 0.9344\n",
      "Epoch 465/500\n",
      "242/242 [==============================] - 0s - loss: 0.0085 - acc: 0.9959 - val_loss: 0.5726 - val_acc: 0.9180\n",
      "Epoch 466/500\n",
      "242/242 [==============================] - 0s - loss: 0.0079 - acc: 0.9959 - val_loss: 0.6172 - val_acc: 0.9180\n",
      "Epoch 467/500\n",
      "242/242 [==============================] - 0s - loss: 0.0042 - acc: 1.0000 - val_loss: 0.6655 - val_acc: 0.9180\n",
      "Epoch 468/500\n",
      "242/242 [==============================] - 0s - loss: 0.0178 - acc: 0.9959 - val_loss: 0.6675 - val_acc: 0.9180\n",
      "Epoch 469/500\n",
      "242/242 [==============================] - 0s - loss: 0.0149 - acc: 0.9959 - val_loss: 0.6144 - val_acc: 0.9180\n",
      "Epoch 470/500\n",
      "242/242 [==============================] - 0s - loss: 0.0017 - acc: 1.0000 - val_loss: 0.5753 - val_acc: 0.9180\n",
      "Epoch 471/500\n",
      "242/242 [==============================] - 0s - loss: 0.0047 - acc: 1.0000 - val_loss: 0.5664 - val_acc: 0.9180\n",
      "Epoch 472/500\n",
      "242/242 [==============================] - 0s - loss: 9.6238e-04 - acc: 1.0000 - val_loss: 0.5639 - val_acc: 0.9180\n",
      "Epoch 473/500\n",
      "242/242 [==============================] - 0s - loss: 0.0093 - acc: 0.9959 - val_loss: 0.5626 - val_acc: 0.9180\n",
      "Epoch 474/500\n",
      "242/242 [==============================] - 0s - loss: 0.0011 - acc: 1.0000 - val_loss: 0.5607 - val_acc: 0.9344\n",
      "Epoch 475/500\n",
      "242/242 [==============================] - 0s - loss: 0.0011 - acc: 1.0000 - val_loss: 0.5582 - val_acc: 0.9344\n",
      "Epoch 476/500\n",
      "242/242 [==============================] - 0s - loss: 0.0036 - acc: 1.0000 - val_loss: 0.5339 - val_acc: 0.9344\n",
      "Epoch 477/500\n",
      "242/242 [==============================] - 0s - loss: 0.0011 - acc: 1.0000 - val_loss: 0.5213 - val_acc: 0.9344\n",
      "Epoch 478/500\n",
      "242/242 [==============================] - 0s - loss: 6.8222e-04 - acc: 1.0000 - val_loss: 0.5108 - val_acc: 0.9508\n",
      "Epoch 479/500\n",
      "242/242 [==============================] - 0s - loss: 0.0388 - acc: 0.9917 - val_loss: 0.5230 - val_acc: 0.9344\n",
      "Epoch 480/500\n",
      "242/242 [==============================] - 0s - loss: 8.6620e-04 - acc: 1.0000 - val_loss: 0.5331 - val_acc: 0.9344\n",
      "Epoch 481/500\n",
      "242/242 [==============================] - 0s - loss: 0.0034 - acc: 1.0000 - val_loss: 0.5453 - val_acc: 0.9344\n",
      "Epoch 482/500\n",
      "242/242 [==============================] - 0s - loss: 0.0016 - acc: 1.0000 - val_loss: 0.5545 - val_acc: 0.9344\n",
      "Epoch 483/500\n",
      "242/242 [==============================] - 0s - loss: 0.0024 - acc: 1.0000 - val_loss: 0.5581 - val_acc: 0.9344\n",
      "Epoch 484/500\n",
      "242/242 [==============================] - 0s - loss: 0.0039 - acc: 1.0000 - val_loss: 0.5572 - val_acc: 0.9344\n",
      "Epoch 485/500\n",
      "242/242 [==============================] - 0s - loss: 0.0021 - acc: 1.0000 - val_loss: 0.5560 - val_acc: 0.9344\n",
      "Epoch 486/500\n",
      "242/242 [==============================] - 0s - loss: 0.0127 - acc: 0.9959 - val_loss: 0.5090 - val_acc: 0.9344\n",
      "Epoch 487/500\n",
      "242/242 [==============================] - 0s - loss: 0.0044 - acc: 1.0000 - val_loss: 0.4637 - val_acc: 0.9508\n",
      "Epoch 488/500\n",
      "242/242 [==============================] - 0s - loss: 0.0017 - acc: 1.0000 - val_loss: 0.4307 - val_acc: 0.9508\n",
      "Epoch 489/500\n",
      "242/242 [==============================] - 0s - loss: 0.0108 - acc: 0.9959 - val_loss: 0.4342 - val_acc: 0.9508\n",
      "Epoch 490/500\n",
      "242/242 [==============================] - 0s - loss: 0.0027 - acc: 1.0000 - val_loss: 0.4354 - val_acc: 0.9344\n",
      "Epoch 491/500\n",
      "242/242 [==============================] - 0s - loss: 0.0034 - acc: 1.0000 - val_loss: 0.4395 - val_acc: 0.9344\n",
      "Epoch 492/500\n",
      "242/242 [==============================] - 0s - loss: 0.0104 - acc: 0.9959 - val_loss: 0.4393 - val_acc: 0.9344\n",
      "Epoch 493/500\n",
      "242/242 [==============================] - 0s - loss: 0.0032 - acc: 1.0000 - val_loss: 0.4360 - val_acc: 0.9344\n",
      "Epoch 494/500\n",
      "242/242 [==============================] - 0s - loss: 0.0111 - acc: 0.9959 - val_loss: 0.4347 - val_acc: 0.9344\n",
      "Epoch 495/500\n",
      "242/242 [==============================] - 0s - loss: 0.0017 - acc: 1.0000 - val_loss: 0.4340 - val_acc: 0.9344\n",
      "Epoch 496/500\n",
      "242/242 [==============================] - 0s - loss: 0.0021 - acc: 1.0000 - val_loss: 0.4357 - val_acc: 0.9344\n",
      "Epoch 497/500\n",
      "242/242 [==============================] - 0s - loss: 0.0080 - acc: 0.9959 - val_loss: 0.4357 - val_acc: 0.9344\n",
      "Epoch 498/500\n",
      "242/242 [==============================] - 0s - loss: 0.0132 - acc: 0.9876 - val_loss: 0.4337 - val_acc: 0.9344\n",
      "Epoch 499/500\n",
      "242/242 [==============================] - 0s - loss: 0.0042 - acc: 1.0000 - val_loss: 0.4534 - val_acc: 0.9344\n",
      "Epoch 500/500\n",
      "242/242 [==============================] - 0s - loss: 0.0111 - acc: 0.9959 - val_loss: 0.4724 - val_acc: 0.9180\n",
      "CPU times: user 4min 25s, sys: 45.2 s, total: 5min 10s\n",
      "Wall time: 7min 41s\n"
     ]
    },
    {
     "data": {
      "text/plain": [
       "<keras.callbacks.History at 0x7face4613390>"
      ]
     },
     "execution_count": 101,
     "metadata": {},
     "output_type": "execute_result"
    }
   ],
   "source": [
    "# Depends on harware GPU architecture, set as high as possible (this works well on K80)\n",
    "BATCH_SIZE = 500\n",
    "# %time model.fit(X_train, y_train, epochs=500, batch_size=BATCH_SIZE, validation_split=0.2, callbacks=[tb_callback, early_stopping_callback])\n",
    "%time model.fit(X_train, y_train, epochs=250, batch_size=BATCH_SIZE, validation_split=0.2, callbacks=[tb_callback])"
   ]
  },
  {
   "cell_type": "markdown",
   "metadata": {},
   "source": [
    "# Bewertung"
   ]
  },
  {
   "cell_type": "code",
   "execution_count": 102,
   "metadata": {},
   "outputs": [
    {
     "name": "stdout",
     "output_type": "stream",
     "text": [
      "303/303 [==============================] - 0s\n"
     ]
    },
    {
     "data": {
      "text/plain": [
       "(0.095115035772323608, 0.98349833488464355)"
      ]
     },
     "execution_count": 102,
     "metadata": {},
     "output_type": "execute_result"
    }
   ],
   "source": [
    "train_loss, train_accuracy = model.evaluate(X_train, y_train, batch_size=BATCH_SIZE)\n",
    "train_loss, train_accuracy"
   ]
  },
  {
   "cell_type": "code",
   "execution_count": 103,
   "metadata": {},
   "outputs": [
    {
     "name": "stdout",
     "output_type": "stream",
     "text": [
      "76/76 [==============================] - 0s\n"
     ]
    },
    {
     "data": {
      "text/plain": [
       "(0.11827723681926727, 0.94736844301223755)"
      ]
     },
     "execution_count": 103,
     "metadata": {},
     "output_type": "execute_result"
    }
   ],
   "source": [
    "test_loss, test_accuracy = model.evaluate(X_test, y_test, batch_size=BATCH_SIZE)\n",
    "test_loss, test_accuracy"
   ]
  },
  {
   "cell_type": "markdown",
   "metadata": {},
   "source": [
    "# Sichern des Modells"
   ]
  },
  {
   "cell_type": "code",
   "execution_count": 104,
   "metadata": {},
   "outputs": [],
   "source": [
    "# !rm -r models\n",
    "# !mkdir models"
   ]
  },
  {
   "cell_type": "code",
   "execution_count": 105,
   "metadata": {
    "collapsed": true
   },
   "outputs": [],
   "source": [
    "model.save('models/conv-vgg.hdf5')"
   ]
  },
  {
   "cell_type": "code",
   "execution_count": 106,
   "metadata": {},
   "outputs": [
    {
     "name": "stdout",
     "output_type": "stream",
     "text": [
      "total 55M\r\n",
      "-rw-rw-r-- 1 ubuntu ubuntu 55M Aug  8 17:33 conv-vgg.hdf5\r\n"
     ]
    }
   ],
   "source": [
    "!ls -lh models"
   ]
  },
  {
   "cell_type": "code",
   "execution_count": 108,
   "metadata": {},
   "outputs": [
    {
     "name": "stdout",
     "output_type": "stream",
     "text": [
      "https://transfer.sh/3NqDF/conv-vgg.hdf5"
     ]
    }
   ],
   "source": [
    "!curl --upload-file ./models/conv-vgg.hdf5 https://transfer.sh/conv-vgg.hdf5"
   ]
  },
  {
   "cell_type": "markdown",
   "metadata": {},
   "source": [
    "# Ausprobieren auf ein paar Test-Daten"
   ]
  },
  {
   "cell_type": "code",
   "execution_count": 109,
   "metadata": {},
   "outputs": [
    {
     "data": {
      "text/plain": [
       "array([1, 1, 5, 1, 4, 0, 1, 3, 0, 1])"
      ]
     },
     "execution_count": 109,
     "metadata": {},
     "output_type": "execute_result"
    }
   ],
   "source": [
    "import random\n",
    "\n",
    "# Pick 10 random images for test data set\n",
    "random.seed(3) # to make this deterministic\n",
    "sample_indexes = random.sample(range(len(X_test)), 10)\n",
    "sample_images = [X_test[i] for i in sample_indexes]\n",
    "sample_labels = [y_test[i] for i in sample_indexes]\n",
    "\n",
    "ground_truth = np.argmax(sample_labels, axis=1)\n",
    "\n",
    "X_sample = np.array(sample_images)\n",
    "prediction = model.predict(X_sample)\n",
    "predicted_categories = np.argmax(prediction, axis=1)\n",
    "predicted_categories"
   ]
  },
  {
   "cell_type": "code",
   "execution_count": 110,
   "metadata": {
    "collapsed": true
   },
   "outputs": [],
   "source": [
    "# Display the predictions and the ground truth visually.\n",
    "def display_prediction (images, true_labels, predicted_labels):\n",
    "    fig = plt.figure(figsize=(10, 10))\n",
    "    for i in range(len(true_labels)):\n",
    "        truth = true_labels[i]\n",
    "        prediction = predicted_labels[i]\n",
    "        plt.subplot(5, 2,1+i)\n",
    "        plt.axis('off')\n",
    "        color='green' if truth == prediction else 'red'\n",
    "        plt.text(80, 10, \"Truth:        {0}\\nPrediction: {1}\".format(truth, prediction), \n",
    "                 fontsize=12, color=color)\n",
    "        plt.imshow(images[i])"
   ]
  },
  {
   "cell_type": "code",
   "execution_count": 111,
   "metadata": {},
   "outputs": [
    {
     "data": {
      "image/png": "[encoded data removed]",
      "text/plain": [
       "<matplotlib.figure.Figure at 0x7face4336ba8>"
      ]
     },
     "metadata": {},
     "output_type": "display_data"
    }
   ],
   "source": [
    "display_prediction(sample_images, ground_truth, predicted_categories)"
   ]
  },
  {
   "cell_type": "code",
   "execution_count": null,
   "metadata": {
    "collapsed": true
   },
   "outputs": [],
   "source": []
  }
 ],
 "metadata": {
  "kernelspec": {
   "display_name": "Python 3",
   "language": "python",
   "name": "python3"
  },
  "language_info": {
   "codemirror_mode": {
    "name": "ipython",
    "version": 3
   },
   "file_extension": ".py",
   "mimetype": "text/x-python",
   "name": "python",
   "nbconvert_exporter": "python",
   "pygments_lexer": "ipython3",
   "version": "3.6.1"
  }
 },
 "nbformat": 4,
 "nbformat_minor": 2
}
