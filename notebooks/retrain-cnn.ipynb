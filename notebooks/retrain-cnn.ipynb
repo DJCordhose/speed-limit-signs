{
 "cells": [
  {
   "cell_type": "markdown",
   "metadata": {},
   "source": [
    "# Retrain a CNN\n",
    "* https://blog.keras.io/building-powerful-image-classification-models-using-very-little-data.html"
   ]
  },
  {
   "cell_type": "code",
   "execution_count": 1,
   "metadata": {
    "collapsed": true
   },
   "outputs": [],
   "source": [
    "import warnings\n",
    "warnings.filterwarnings('ignore')"
   ]
  },
  {
   "cell_type": "code",
   "execution_count": 2,
   "metadata": {},
   "outputs": [
    {
     "name": "stdout",
     "output_type": "stream",
     "text": [
      "Populating the interactive namespace from numpy and matplotlib\n"
     ]
    }
   ],
   "source": [
    "%matplotlib inline\n",
    "%pylab inline"
   ]
  },
  {
   "cell_type": "code",
   "execution_count": 3,
   "metadata": {
    "collapsed": true
   },
   "outputs": [],
   "source": [
    "import matplotlib.pylab as plt\n",
    "import numpy as np"
   ]
  },
  {
   "cell_type": "code",
   "execution_count": 4,
   "metadata": {
    "collapsed": true
   },
   "outputs": [],
   "source": [
    "from distutils.version import StrictVersion"
   ]
  },
  {
   "cell_type": "code",
   "execution_count": 5,
   "metadata": {},
   "outputs": [
    {
     "name": "stdout",
     "output_type": "stream",
     "text": [
      "0.18.1\n"
     ]
    }
   ],
   "source": [
    "import sklearn\n",
    "print(sklearn.__version__)\n",
    "\n",
    "assert StrictVersion(sklearn.__version__ ) >= StrictVersion('0.18.1')"
   ]
  },
  {
   "cell_type": "code",
   "execution_count": 6,
   "metadata": {},
   "outputs": [
    {
     "name": "stdout",
     "output_type": "stream",
     "text": [
      "1.2.1\n"
     ]
    }
   ],
   "source": [
    "import tensorflow as tf\n",
    "tf.logging.set_verbosity(tf.logging.ERROR)\n",
    "print(tf.__version__)\n",
    "\n",
    "assert StrictVersion(tf.__version__) >= StrictVersion('1.1.0')"
   ]
  },
  {
   "cell_type": "code",
   "execution_count": 7,
   "metadata": {},
   "outputs": [
    {
     "name": "stderr",
     "output_type": "stream",
     "text": [
      "Using TensorFlow backend.\n"
     ]
    },
    {
     "name": "stdout",
     "output_type": "stream",
     "text": [
      "2.0.6\n"
     ]
    }
   ],
   "source": [
    "import keras\n",
    "print(keras.__version__)\n",
    "\n",
    "assert StrictVersion(keras.__version__) >= StrictVersion('2.0.0')"
   ]
  },
  {
   "cell_type": "markdown",
   "metadata": {},
   "source": [
    "This script goes along the blog post\n",
    "\"Building powerful image classification models using very little data\"\n",
    "from blog.keras.io.\n",
    "It uses data that can be downloaded at:\n",
    "https://www.kaggle.com/c/dogs-vs-cats/data\n",
    "In our setup, we:\n",
    "- created a data/ folder\n",
    "- created train/ and validation/ subfolders inside data/\n",
    "- created cats/ and dogs/ subfolders inside train/ and validation/\n",
    "- put the cat pictures index 0-999 in data/train/cats\n",
    "- put the cat pictures index 1000-1400 in data/validation/cats\n",
    "- put the dogs pictures index 12500-13499 in data/train/dogs\n",
    "- put the dog pictures index 13500-13900 in data/validation/dogs\n",
    "So that we have 1000 training examples for each class, and 400 validation examples for each class.\n",
    "In summary, this is our directory structure:\n",
    "```\n",
    "data/\n",
    "    train/\n",
    "        dogs/\n",
    "            dog001.jpg\n",
    "            dog002.jpg\n",
    "            ...\n",
    "        cats/\n",
    "            cat001.jpg\n",
    "            cat002.jpg\n",
    "            ...\n",
    "    validation/\n",
    "        dogs/\n",
    "            dog001.jpg\n",
    "            dog002.jpg\n",
    "            ...\n",
    "        cats/\n",
    "            cat001.jpg\n",
    "            cat002.jpg\n",
    "            ...\n",
    "```"
   ]
  },
  {
   "cell_type": "code",
   "execution_count": 8,
   "metadata": {},
   "outputs": [
    {
     "name": "stdout",
     "output_type": "stream",
     "text": [
      "total 8.0K\r\n",
      "drwxrwxr-x 4 ubuntu ubuntu 4.0K Aug 31  2017 train\r\n",
      "drwxrwxr-x 4 ubuntu ubuntu 4.0K Aug 31  2017 validation\r\n"
     ]
    }
   ],
   "source": [
    "!ls -lh data"
   ]
  },
  {
   "cell_type": "code",
   "execution_count": 9,
   "metadata": {
    "collapsed": true
   },
   "outputs": [],
   "source": [
    "from keras.preprocessing.image import ImageDataGenerator\n",
    "from keras.models import Sequential\n",
    "from keras.layers import Conv2D, MaxPooling2D\n",
    "from keras.layers import Activation, Dropout, Flatten, Dense\n",
    "from keras import backend as K"
   ]
  },
  {
   "cell_type": "code",
   "execution_count": 10,
   "metadata": {
    "collapsed": true
   },
   "outputs": [],
   "source": [
    "# dimensions of our images.\n",
    "img_width, img_height = 150, 150\n",
    "\n",
    "train_data_dir = 'data/train'\n",
    "validation_data_dir = 'data/validation'\n",
    "nb_train_samples = 2000\n",
    "nb_validation_samples = 800\n",
    "\n",
    "if K.image_data_format() == 'channels_first':\n",
    "    input_shape = (3, img_width, img_height)\n",
    "else:\n",
    "    input_shape = (img_width, img_height, 3)"
   ]
  },
  {
   "cell_type": "code",
   "execution_count": 11,
   "metadata": {
    "collapsed": true
   },
   "outputs": [],
   "source": [
    "model = Sequential()\n",
    "model.add(Conv2D(32, (3, 3), input_shape=input_shape))\n",
    "model.add(Activation('relu'))\n",
    "model.add(MaxPooling2D(pool_size=(2, 2)))\n",
    "\n",
    "model.add(Conv2D(32, (3, 3)))\n",
    "model.add(Activation('relu'))\n",
    "model.add(MaxPooling2D(pool_size=(2, 2)))\n",
    "\n",
    "model.add(Conv2D(64, (3, 3)))\n",
    "model.add(Activation('relu'))\n",
    "model.add(MaxPooling2D(pool_size=(2, 2)))\n",
    "\n",
    "model.add(Flatten())\n",
    "model.add(Dense(64))\n",
    "model.add(Activation('relu'))\n",
    "model.add(Dropout(0.5))\n",
    "model.add(Dense(1))\n",
    "model.add(Activation('sigmoid'))\n",
    "\n",
    "model.compile(loss='binary_crossentropy',\n",
    "              optimizer='rmsprop',\n",
    "              metrics=['accuracy'])"
   ]
  },
  {
   "cell_type": "code",
   "execution_count": 12,
   "metadata": {},
   "outputs": [],
   "source": [
    "tb_callback = keras.callbacks.TensorBoard(log_dir='./tf_log')"
   ]
  },
  {
   "cell_type": "code",
   "execution_count": 13,
   "metadata": {},
   "outputs": [
    {
     "name": "stdout",
     "output_type": "stream",
     "text": [
      "Found 2000 images belonging to 2 classes.\n",
      "Found 802 images belonging to 2 classes.\n",
      "Epoch 1/50\n",
      "125/125 [==============================] - 16s - loss: 0.7377 - acc: 0.5200 - val_loss: 0.6848 - val_acc: 0.6162\n",
      "Epoch 2/50\n",
      "125/125 [==============================] - 14s - loss: 0.6744 - acc: 0.5740 - val_loss: 0.6554 - val_acc: 0.6590\n",
      "Epoch 3/50\n",
      "125/125 [==============================] - 14s - loss: 0.6402 - acc: 0.6420 - val_loss: 0.6137 - val_acc: 0.6718\n",
      "Epoch 4/50\n",
      "125/125 [==============================] - 14s - loss: 0.6278 - acc: 0.6705 - val_loss: 0.5937 - val_acc: 0.6654\n",
      "Epoch 5/50\n",
      "125/125 [==============================] - 14s - loss: 0.5873 - acc: 0.6930 - val_loss: 0.6949 - val_acc: 0.6170\n",
      "Epoch 6/50\n",
      "125/125 [==============================] - 14s - loss: 0.5924 - acc: 0.7050 - val_loss: 0.5733 - val_acc: 0.6679\n",
      "Epoch 7/50\n",
      "125/125 [==============================] - 14s - loss: 0.5667 - acc: 0.7170 - val_loss: 0.5804 - val_acc: 0.6959\n",
      "Epoch 8/50\n",
      "125/125 [==============================] - 15s - loss: 0.5539 - acc: 0.7265 - val_loss: 0.5534 - val_acc: 0.7239\n",
      "Epoch 9/50\n",
      "125/125 [==============================] - 14s - loss: 0.5475 - acc: 0.7335 - val_loss: 0.5408 - val_acc: 0.7048\n",
      "Epoch 10/50\n",
      "125/125 [==============================] - 14s - loss: 0.5133 - acc: 0.7450 - val_loss: 0.5671 - val_acc: 0.7328\n",
      "Epoch 11/50\n",
      "125/125 [==============================] - 14s - loss: 0.5348 - acc: 0.7560 - val_loss: 0.5298 - val_acc: 0.7316\n",
      "Epoch 12/50\n",
      "125/125 [==============================] - 14s - loss: 0.5034 - acc: 0.7600 - val_loss: 0.5041 - val_acc: 0.7545\n",
      "Epoch 13/50\n",
      "125/125 [==============================] - 14s - loss: 0.5000 - acc: 0.7665 - val_loss: 0.5197 - val_acc: 0.7443\n",
      "Epoch 14/50\n",
      "125/125 [==============================] - 14s - loss: 0.4912 - acc: 0.7680 - val_loss: 0.5788 - val_acc: 0.7061\n",
      "Epoch 15/50\n",
      "125/125 [==============================] - 14s - loss: 0.4826 - acc: 0.7750 - val_loss: 0.4822 - val_acc: 0.7761\n",
      "Epoch 16/50\n",
      "125/125 [==============================] - 14s - loss: 0.4816 - acc: 0.7750 - val_loss: 0.5343 - val_acc: 0.7379\n",
      "Epoch 17/50\n",
      "125/125 [==============================] - 14s - loss: 0.4701 - acc: 0.7835 - val_loss: 0.5388 - val_acc: 0.7417\n",
      "Epoch 18/50\n",
      "125/125 [==============================] - 14s - loss: 0.4669 - acc: 0.7810 - val_loss: 0.5625 - val_acc: 0.7379\n",
      "Epoch 19/50\n",
      "125/125 [==============================] - 14s - loss: 0.4747 - acc: 0.7880 - val_loss: 0.4631 - val_acc: 0.7697\n",
      "Epoch 20/50\n",
      "125/125 [==============================] - 14s - loss: 0.4655 - acc: 0.7925 - val_loss: 0.5017 - val_acc: 0.7481\n",
      "Epoch 21/50\n",
      "125/125 [==============================] - 14s - loss: 0.4630 - acc: 0.7950 - val_loss: 0.5188 - val_acc: 0.7417\n",
      "Epoch 22/50\n",
      "125/125 [==============================] - 15s - loss: 0.4501 - acc: 0.8015 - val_loss: 0.4845 - val_acc: 0.7646\n",
      "Epoch 23/50\n",
      "125/125 [==============================] - 14s - loss: 0.4595 - acc: 0.7925 - val_loss: 0.8829 - val_acc: 0.7328s\n",
      "Epoch 24/50\n",
      "125/125 [==============================] - 14s - loss: 0.4569 - acc: 0.7955 - val_loss: 0.5194 - val_acc: 0.7341\n",
      "Epoch 25/50\n",
      "125/125 [==============================] - 15s - loss: 0.4353 - acc: 0.7985 - val_loss: 0.4421 - val_acc: 0.7888\n",
      "Epoch 26/50\n",
      "125/125 [==============================] - 14s - loss: 0.4332 - acc: 0.8155 - val_loss: 0.5578 - val_acc: 0.7723\n",
      "Epoch 27/50\n",
      "125/125 [==============================] - 14s - loss: 0.4392 - acc: 0.8090 - val_loss: 0.4636 - val_acc: 0.7850\n",
      "Epoch 28/50\n",
      "125/125 [==============================] - 14s - loss: 0.4460 - acc: 0.8165 - val_loss: 0.4521 - val_acc: 0.8003\n",
      "Epoch 29/50\n",
      "125/125 [==============================] - 14s - loss: 0.4332 - acc: 0.8110 - val_loss: 0.4741 - val_acc: 0.7748\n",
      "Epoch 30/50\n",
      "125/125 [==============================] - 14s - loss: 0.4430 - acc: 0.8135 - val_loss: 0.5109 - val_acc: 0.7888\n",
      "Epoch 31/50\n",
      "125/125 [==============================] - 15s - loss: 0.4418 - acc: 0.8170 - val_loss: 0.5010 - val_acc: 0.7799\n",
      "Epoch 32/50\n",
      "125/125 [==============================] - 14s - loss: 0.4288 - acc: 0.8145 - val_loss: 0.4587 - val_acc: 0.7824.\n",
      "Epoch 33/50\n",
      "125/125 [==============================] - 15s - loss: 0.4440 - acc: 0.8110 - val_loss: 0.4930 - val_acc: 0.7863\n",
      "Epoch 34/50\n",
      "125/125 [==============================] - 14s - loss: 0.4286 - acc: 0.8110 - val_loss: 0.4863 - val_acc: 0.8041\n",
      "Epoch 35/50\n",
      "125/125 [==============================] - 14s - loss: 0.4224 - acc: 0.8180 - val_loss: 0.4894 - val_acc: 0.7824\n",
      "Epoch 36/50\n",
      "125/125 [==============================] - 15s - loss: 0.4235 - acc: 0.8170 - val_loss: 0.4804 - val_acc: 0.7939\n",
      "Epoch 37/50\n",
      "125/125 [==============================] - 15s - loss: 0.4123 - acc: 0.8145 - val_loss: 0.5654 - val_acc: 0.7277\n",
      "Epoch 38/50\n",
      "125/125 [==============================] - 14s - loss: 0.4292 - acc: 0.8275 - val_loss: 0.4979 - val_acc: 0.7926\n",
      "Epoch 39/50\n",
      "125/125 [==============================] - 14s - loss: 0.4145 - acc: 0.8250 - val_loss: 0.5422 - val_acc: 0.7837\n",
      "Epoch 40/50\n",
      "125/125 [==============================] - 14s - loss: 0.4278 - acc: 0.8145 - val_loss: 0.4614 - val_acc: 0.8003\n",
      "Epoch 41/50\n",
      "125/125 [==============================] - 14s - loss: 0.4327 - acc: 0.8200 - val_loss: 0.5279 - val_acc: 0.7850\n",
      "Epoch 42/50\n",
      "125/125 [==============================] - 14s - loss: 0.4167 - acc: 0.8265 - val_loss: 0.5805 - val_acc: 0.7875\n",
      "Epoch 43/50\n",
      "125/125 [==============================] - 14s - loss: 0.4310 - acc: 0.8170 - val_loss: 0.5371 - val_acc: 0.7926\n",
      "Epoch 44/50\n",
      "125/125 [==============================] - 14s - loss: 0.4062 - acc: 0.8210 - val_loss: 0.4673 - val_acc: 0.7990\n",
      "Epoch 45/50\n",
      "125/125 [==============================] - 14s - loss: 0.4154 - acc: 0.8220 - val_loss: 0.5180 - val_acc: 0.732838 - acc: 0.823\n",
      "Epoch 46/50\n",
      "125/125 [==============================] - 14s - loss: 0.4242 - acc: 0.8210 - val_loss: 0.5720 - val_acc: 0.7723\n",
      "Epoch 47/50\n",
      "125/125 [==============================] - 14s - loss: 0.4191 - acc: 0.8240 - val_loss: 0.5071 - val_acc: 0.7837\n",
      "Epoch 48/50\n",
      "125/125 [==============================] - 14s - loss: 0.3993 - acc: 0.8315 - val_loss: 0.4662 - val_acc: 0.7939\n",
      "Epoch 49/50\n",
      "125/125 [==============================] - 14s - loss: 0.4053 - acc: 0.8315 - val_loss: 0.5089 - val_acc: 0.7964\n",
      "Epoch 50/50\n",
      "125/125 [==============================] - 14s - loss: 0.4219 - acc: 0.8210 - val_loss: 0.4933 - val_acc: 0.8003\n"
     ]
    },
    {
     "data": {
      "text/plain": [
       "<keras.callbacks.History at 0x7fa439903940>"
      ]
     },
     "execution_count": 13,
     "metadata": {},
     "output_type": "execute_result"
    }
   ],
   "source": [
    "# this is the augmentation configuration we will use for training\n",
    "train_datagen = ImageDataGenerator(\n",
    "    rescale=1. / 255,\n",
    "    shear_range=0.2,\n",
    "    zoom_range=0.2,\n",
    "    horizontal_flip=True)\n",
    "\n",
    "# this is the augmentation configuration we will use for testing:\n",
    "# only rescaling\n",
    "test_datagen = ImageDataGenerator(rescale=1. / 255)\n",
    "\n",
    "epochs = 50\n",
    "batch_size = 16\n",
    "\n",
    "train_generator = train_datagen.flow_from_directory(\n",
    "    train_data_dir,\n",
    "    target_size=(img_width, img_height),\n",
    "    batch_size=batch_size,\n",
    "    class_mode='binary')\n",
    "\n",
    "validation_generator = test_datagen.flow_from_directory(\n",
    "    validation_data_dir,\n",
    "    target_size=(img_width, img_height),\n",
    "    batch_size=batch_size,\n",
    "    class_mode='binary')\n",
    "\n",
    "model.fit_generator(\n",
    "    train_generator,\n",
    "    steps_per_epoch=nb_train_samples // batch_size,\n",
    "    epochs=epochs,\n",
    "    validation_data=validation_generator,\n",
    "    validation_steps=nb_validation_samples // batch_size,\n",
    "    callbacks=[tb_callback])"
   ]
  },
  {
   "cell_type": "code",
   "execution_count": 14,
   "metadata": {
    "collapsed": true
   },
   "outputs": [],
   "source": [
    "model.save_weights('first_try.h5')"
   ]
  },
  {
   "cell_type": "code",
   "execution_count": null,
   "metadata": {
    "collapsed": true
   },
   "outputs": [],
   "source": []
  }
 ],
 "metadata": {
  "kernelspec": {
   "display_name": "Python 3",
   "language": "python",
   "name": "python3"
  },
  "language_info": {
   "codemirror_mode": {
    "name": "ipython",
    "version": 3
   },
   "file_extension": ".py",
   "mimetype": "text/x-python",
   "name": "python",
   "nbconvert_exporter": "python",
   "pygments_lexer": "ipython3",
   "version": "3.6.1"
  }
 },
 "nbformat": 4,
 "nbformat_minor": 2
}
