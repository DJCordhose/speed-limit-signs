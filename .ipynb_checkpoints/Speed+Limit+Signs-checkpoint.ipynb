{
 "cells": [
  {
   "cell_type": "code",
   "execution_count": 1,
   "metadata": {
    "collapsed": false
   },
   "outputs": [
    {
     "name": "stdout",
     "output_type": "stream",
     "text": [
      "Populating the interactive namespace from numpy and matplotlib\n"
     ]
    }
   ],
   "source": [
    "%matplotlib inline\n",
    "%pylab inline"
   ]
  },
  {
   "cell_type": "code",
   "execution_count": 2,
   "metadata": {
    "collapsed": true
   },
   "outputs": [],
   "source": [
    "import warnings\n",
    "warnings.filterwarnings('ignore')"
   ]
  },
  {
   "cell_type": "code",
   "execution_count": 3,
   "metadata": {
    "collapsed": true
   },
   "outputs": [],
   "source": [
    "# https://notebooks.azure.com/faq#service_restrictions\n",
    "# https://notebooks.azure.com/faq#upload_data\n",
    "# https://notebooks.azure.com/n/xwZx1vmIroU/notebooks/Getting%20to%20your%20Data%20in%20Azure%20Notebooks.ipynb"
   ]
  },
  {
   "cell_type": "code",
   "execution_count": 4,
   "metadata": {
    "collapsed": false
   },
   "outputs": [
    {
     "name": "stdout",
     "output_type": "stream",
     "text": [
      "  % Total    % Received % Xferd  Average Speed   Time    Time     Time  Current\n",
      "                                 Dload  Upload   Total   Spent    Left  Speed\n",
      "100 1811k  100 1811k    0     0  4217k      0 --:--:-- --:--:-- --:--:-- 4211k\n"
     ]
    }
   ],
   "source": [
    "!curl -O https://raw.githubusercontent.com/DJCordhose/ml-data/master/speed-limit-signs.zip"
   ]
  },
  {
   "cell_type": "code",
   "execution_count": 5,
   "metadata": {
    "collapsed": false
   },
   "outputs": [],
   "source": [
    "# https://docs.python.org/3/library/zipfile.html\n",
    "from zipfile import ZipFile\n",
    "zip = ZipFile(r'speed-limit-signs.zip')\n",
    "zip.extractall('.')"
   ]
  },
  {
   "cell_type": "code",
   "execution_count": 6,
   "metadata": {
    "collapsed": false
   },
   "outputs": [
    {
     "name": "stdout",
     "output_type": "stream",
     "text": [
      "total 28\r\n",
      "drwxr-xr-x 2 nbuser nbuser 4096 Jan  8 18:02 100\r\n",
      "drwxr-xr-x 2 nbuser nbuser 4096 Jan  8 18:02 120\r\n",
      "drwxr-xr-x 2 nbuser nbuser 4096 Jan  8 18:02 30\r\n",
      "drwxr-xr-x 2 nbuser nbuser 4096 Jan  8 18:02 50\r\n",
      "drwxr-xr-x 2 nbuser nbuser 4096 Jan  8 18:02 70\r\n",
      "drwxr-xr-x 2 nbuser nbuser 4096 Jan  8 18:02 80\r\n",
      "-rw-r--r-- 1 nbuser nbuser  319 Jan  8 20:22 README.md\r\n"
     ]
    }
   ],
   "source": [
    "!ls -l speed-limit-signs"
   ]
  },
  {
   "cell_type": "code",
   "execution_count": 6,
   "metadata": {
    "collapsed": false
   },
   "outputs": [
    {
     "name": "stdout",
     "output_type": "stream",
     "text": [
      "Fetching package metadata .........\n",
      "Solving package specifications: ..........\n",
      "\n",
      "Package plan for installation in environment /home/nbcommon/anaconda3_410:\n",
      "\n",
      "The following packages will be downloaded:\n",
      "\n",
      "    package                    |            build\n",
      "    ---------------------------|-----------------\n",
      "    conda-env-2.6.0            |                0         1017 B  conda-forge\n",
      "    conda-4.2.13               |           py35_0         383 KB  conda-forge\n",
      "    protobuf-3.0.0             |           py35_0         6.7 MB  conda-forge\n",
      "    pbr-1.10.0                 |           py35_0          99 KB  conda-forge\n",
      "    mock-2.0.0                 |           py35_0         101 KB  conda-forge\n",
      "    tensorflow-0.11.0          |           py35_0        32.3 MB  conda-forge\n",
      "    ------------------------------------------------------------\n",
      "                                           Total:        39.5 MB\n",
      "\n",
      "The following NEW packages will be INSTALLED:\n",
      "\n",
      "    mock:       2.0.0-py35_0  conda-forge\n",
      "    pbr:        1.10.0-py35_0 conda-forge\n",
      "    protobuf:   3.0.0-py35_0  conda-forge\n",
      "    tensorflow: 0.11.0-py35_0 conda-forge\n",
      "\n",
      "The following packages will be SUPERCEDED by a higher-priority channel:\n",
      "\n",
      "    conda:      4.2.13-py35_0             --> 4.2.13-py35_0 conda-forge\n",
      "    conda-env:  2.6.0-0                   --> 2.6.0-0       conda-forge\n",
      "\n",
      "Pruning fetched packages from the cache ...\n",
      "Fetching packages ...\n",
      "conda-env-2.6. 100% |################################| Time: 0:00:00   1.17 MB/s\n",
      "conda-4.2.13-p 100% |################################| Time: 0:00:00   1.37 MB/s\n",
      "protobuf-3.0.0 100% |################################| Time: 0:00:00  10.24 MB/s\n",
      "pbr-1.10.0-py3 100% |################################| Time: 0:00:00 676.25 kB/s\n",
      "mock-2.0.0-py3 100% |################################| Time: 0:00:00 729.51 kB/s\n",
      "tensorflow-0.1 100% |################################| Time: 0:00:01  28.89 MB/s\n",
      "Extracting packages ...\n",
      "[      COMPLETE      ]|###################################################| 100%\n",
      "Unlinking packages ...\n",
      "[      COMPLETE      ]|###################################################| 100%\n",
      "Linking packages ...\n",
      "[      COMPLETE      ]|###################################################| 100%\n"
     ]
    }
   ],
   "source": [
    "!conda install --name root -c conda-forge tensorflow -y"
   ]
  },
  {
   "cell_type": "code",
   "execution_count": 4,
   "metadata": {
    "collapsed": false
   },
   "outputs": [
    {
     "name": "stdout",
     "output_type": "stream",
     "text": [
      "Collecting keras\n",
      "  Downloading Keras-1.2.0.tar.gz (167kB)\n",
      "\u001b[K    100% |################################| 174kB 3.1MB/s \n",
      "\u001b[?25hCollecting theano (from keras)\n",
      "  Downloading Theano-0.8.2.tar.gz (2.9MB)\n",
      "\u001b[K    100% |################################| 2.9MB 451kB/s \n",
      "\u001b[?25hRequirement already satisfied (use --upgrade to upgrade): pyyaml in /home/nbcommon/anaconda3_410/lib/python3.5/site-packages (from keras)\n",
      "Requirement already satisfied (use --upgrade to upgrade): six in /home/nbcommon/anaconda3_410/lib/python3.5/site-packages (from keras)\n",
      "Requirement already satisfied (use --upgrade to upgrade): numpy>=1.7.1 in /home/nbcommon/anaconda3_410/lib/python3.5/site-packages (from theano->keras)\n",
      "Requirement already satisfied (use --upgrade to upgrade): scipy>=0.11 in /home/nbcommon/anaconda3_410/lib/python3.5/site-packages (from theano->keras)\n",
      "Building wheels for collected packages: keras, theano\n",
      "  Running setup.py bdist_wheel for keras ... \u001b[?25l-\b \b\\\b \bdone\n",
      "\u001b[?25h  Stored in directory: /home/nbuser/.cache/pip/wheels/f8/2c/8e/27d952128220b1acf6fcd5e692269c6e8d60744c15fd160c2c\n",
      "  Running setup.py bdist_wheel for theano ... \u001b[?25l-\b \b\\\b \b|\b \b/\b \b-\b \bdone\n",
      "\u001b[?25h  Stored in directory: /home/nbuser/.cache/pip/wheels/96/2b/3d/71d54e24a7171a4afb7144d1e944a7be643b448b23a35b9937\n",
      "Successfully built keras theano\n",
      "Installing collected packages: theano, keras\n",
      "Successfully installed keras-1.2.0 theano-0.8.2\n",
      "\u001b[33mYou are using pip version 8.1.2, however version 9.0.1 is available.\n",
      "You should consider upgrading via the 'pip install --upgrade pip' command.\u001b[0m\n"
     ]
    }
   ],
   "source": [
    "!pip install keras"
   ]
  },
  {
   "cell_type": "code",
   "execution_count": 9,
   "metadata": {
    "collapsed": false
   },
   "outputs": [],
   "source": [
    "from keras.models import Sequential\n",
    "from keras.layers import Dense, Activation"
   ]
  },
  {
   "cell_type": "code",
   "execution_count": 11,
   "metadata": {
    "collapsed": false
   },
   "outputs": [],
   "source": [
    "model = Sequential([\n",
    "    Dense(32, input_dim=784),\n",
    "    Activation('relu'),\n",
    "    Dense(10),\n",
    "    Activation('softmax'),\n",
    "])"
   ]
  },
  {
   "cell_type": "code",
   "execution_count": 18,
   "metadata": {
    "collapsed": false
   },
   "outputs": [
    {
     "data": {
      "text/plain": [
       "(1000, 784)"
      ]
     },
     "execution_count": 18,
     "metadata": {},
     "output_type": "execute_result"
    }
   ],
   "source": [
    "import numpy as np\n",
    "np.random.random((1000, 784)).shape"
   ]
  },
  {
   "cell_type": "code",
   "execution_count": 2,
   "metadata": {
    "collapsed": false
   },
   "outputs": [
    {
     "name": "stdout",
     "output_type": "stream",
     "text": [
      "Populating the interactive namespace from numpy and matplotlib\n"
     ]
    }
   ],
   "source": [
    "# !conda install --name root -c anaconda scikit-learn=0.18.1 -y\n",
    "%matplotlib inline\n",
    "%pylab inline"
   ]
  }
 ],
 "metadata": {
  "kernelspec": {
   "display_name": "Python [Root]",
   "language": "python",
   "name": "Python [Root]"
  },
  "language_info": {
   "codemirror_mode": {
    "name": "ipython",
    "version": 3
   },
   "file_extension": ".py",
   "mimetype": "text/x-python",
   "name": "python",
   "nbconvert_exporter": "python",
   "pygments_lexer": "ipython3",
   "version": "3.5.2"
  }
 },
 "nbformat": 4,
 "nbformat_minor": 0
}
